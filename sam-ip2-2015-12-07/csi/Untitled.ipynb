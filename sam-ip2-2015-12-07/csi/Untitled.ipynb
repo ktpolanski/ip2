{
 "cells": [
  {
   "cell_type": "code",
   "execution_count": 1,
   "metadata": {
    "collapsed": true
   },
   "outputs": [],
   "source": [
    "import numpy as np\n",
    "import scipy as sp\n",
    "import csi\n",
    "from hcsi import *"
   ]
  },
  {
   "cell_type": "code",
   "execution_count": 2,
   "metadata": {
    "collapsed": true
   },
   "outputs": [],
   "source": [
    "inp = csi.loadData('testdata/Demo_DREAM.csv')"
   ]
  },
  {
   "cell_type": "code",
   "execution_count": 3,
   "metadata": {
    "collapsed": true
   },
   "outputs": [],
   "source": [
    "np.random.seed(1)"
   ]
  },
  {
   "cell_type": "code",
   "execution_count": 4,
   "metadata": {
    "collapsed": true
   },
   "outputs": [],
   "source": [
    "\thnrv = RandomVariableHyperNetwork(inp,'Gene1',2)\n",
    "\tcrv = []\n",
    "\tconditions = np.unique([x[0] for x in inp.columns.values])\n",
    "\tfor cond in conditions:\n",
    "\t\tcrv.append(RandomVariableCondition(inp,cond,'Gene1',[10,0.1],[1,1],2,True))"
   ]
  },
  {
   "cell_type": "code",
   "execution_count": 5,
   "metadata": {
    "collapsed": false
   },
   "outputs": [
    {
     "data": {
      "text/plain": [
       "(['Gene3', 'Gene5'], 'Gene1')"
      ]
     },
     "execution_count": 5,
     "metadata": {},
     "output_type": "execute_result"
    }
   ],
   "source": [
    "hnrv.currentValue"
   ]
  },
  {
   "cell_type": "code",
   "execution_count": 10,
   "metadata": {
    "collapsed": false
   },
   "outputs": [
    {
     "data": {
      "text/plain": [
       "(['Gene6', 'Gene7'], 'Gene1')"
      ]
     },
     "execution_count": 10,
     "metadata": {},
     "output_type": "execute_result"
    }
   ],
   "source": [
    "crv[4].currentValue"
   ]
  },
  {
   "cell_type": "code",
   "execution_count": 15,
   "metadata": {
    "collapsed": false
   },
   "outputs": [
    {
     "data": {
      "text/plain": [
       "array([-1.6806106 , -2.38229308, -1.06258689])"
      ]
     },
     "execution_count": 15,
     "metadata": {},
     "output_type": "execute_result"
    }
   ],
   "source": [
    "np.log(crv[1].em.hypers)"
   ]
  },
  {
   "cell_type": "code",
   "execution_count": 14,
   "metadata": {
    "collapsed": true
   },
   "outputs": [],
   "source": [
    "for i in np.arange(5):\n",
    "    wll = crv[i].em.hypers[0]\n",
    "    crv[i].em.hypers[0] = crv[i].em.hypers[1]\n",
    "    crv[i].em.hypers[1] = wll"
   ]
  },
  {
   "cell_type": "code",
   "execution_count": 19,
   "metadata": {
    "collapsed": true
   },
   "outputs": [],
   "source": [
    "kek2 = crv[0].getConditionalDistribution(hnrv.currentValue)"
   ]
  },
  {
   "cell_type": "code",
   "execution_count": 20,
   "metadata": {
    "collapsed": false
   },
   "outputs": [
    {
     "data": {
      "text/plain": [
       "array([ 0.0238334 ,  0.02156489,  0.02633945,  0.02156506,  0.02633997,\n",
       "        0.02156494,  0.02156467,  0.02156494,  0.02156471,  0.02156549,\n",
       "        0.02383262,  0.01951253,  0.02383286,  0.01951258,  0.01951235,\n",
       "        0.01951257,  0.01951237,  0.01951278,  0.02383269,  0.02910959,\n",
       "        0.02383272,  0.02383246,  0.02383272,  0.02383248,  0.02383302,\n",
       "        0.02383304,  0.0195126 ,  0.01951241,  0.0195126 ,  0.01951243,\n",
       "        0.01951295,  0.0238329 ,  0.02383265,  0.0238329 ,  0.02383266,\n",
       "        0.02383336,  0.01951245,  0.01951265,  0.01951247,  0.01951282,\n",
       "        0.01951242,  0.01951238,  0.01951259,  0.01951243,  0.01951282,\n",
       "        0.0195126 ])"
      ]
     },
     "execution_count": 20,
     "metadata": {},
     "output_type": "execute_result"
    }
   ],
   "source": [
    "kek2"
   ]
  },
  {
   "cell_type": "code",
   "execution_count": 24,
   "metadata": {
    "collapsed": false
   },
   "outputs": [],
   "source": [
    "np.random.seed(1)\n",
    "valInd = roulette(kek2)"
   ]
  },
  {
   "cell_type": "code",
   "execution_count": 25,
   "metadata": {
    "collapsed": false
   },
   "outputs": [
    {
     "data": {
      "text/plain": [
       "19"
      ]
     },
     "execution_count": 25,
     "metadata": {},
     "output_type": "execute_result"
    }
   ],
   "source": [
    "valInd"
   ]
  },
  {
   "cell_type": "code",
   "execution_count": 26,
   "metadata": {
    "collapsed": true
   },
   "outputs": [],
   "source": [
    "np.random.seed(1)"
   ]
  },
  {
   "cell_type": "code",
   "execution_count": 27,
   "metadata": {
    "collapsed": true
   },
   "outputs": [],
   "source": [
    "\thnrv = RandomVariableHyperNetwork(inp,'Gene1',2)\n",
    "\tcrv = []\n",
    "\tconditions = np.unique([x[0] for x in inp.columns.values])\n",
    "\tfor cond in conditions:\n",
    "\t\tcrv.append(RandomVariableCondition(inp,cond,'Gene1',[10,0.1],[1,1],2,True))\n",
    "\tgibbs = GibbsHCSI(crv,hnrv)"
   ]
  },
  {
   "cell_type": "code",
   "execution_count": 28,
   "metadata": {
    "collapsed": false
   },
   "outputs": [
    {
     "data": {
      "text/plain": [
       "(['Gene3', 'Gene5'], 'Gene1')"
      ]
     },
     "execution_count": 28,
     "metadata": {},
     "output_type": "execute_result"
    }
   ],
   "source": [
    "gibbs.rvHyperNetwork.currentValue"
   ]
  },
  {
   "cell_type": "code",
   "execution_count": 29,
   "metadata": {
    "collapsed": false
   },
   "outputs": [
    {
     "data": {
      "text/plain": [
       "(['Gene7'], 'Gene1')"
      ]
     },
     "execution_count": 29,
     "metadata": {},
     "output_type": "execute_result"
    }
   ],
   "source": [
    "gibbs.rvl[0].currentValue"
   ]
  },
  {
   "cell_type": "code",
   "execution_count": 30,
   "metadata": {
    "collapsed": false
   },
   "outputs": [
    {
     "data": {
      "text/plain": [
       "array([ 0.96826158,  0.31342418,  0.69232262,  0.87638915,  0.89460666])"
      ]
     },
     "execution_count": 30,
     "metadata": {},
     "output_type": "execute_result"
    }
   ],
   "source": [
    "sp.rand(5)"
   ]
  },
  {
   "cell_type": "code",
   "execution_count": 31,
   "metadata": {
    "collapsed": true
   },
   "outputs": [],
   "source": [
    "kek2 = crv[0].getConditionalDistribution(hnrv.currentValue)"
   ]
  },
  {
   "cell_type": "code",
   "execution_count": 32,
   "metadata": {
    "collapsed": false
   },
   "outputs": [
    {
     "data": {
      "text/plain": [
       "array([ 0.08504421,  0.03905478,  0.16983042,  0.8781425 ,  0.09834683])"
      ]
     },
     "execution_count": 32,
     "metadata": {},
     "output_type": "execute_result"
    }
   ],
   "source": [
    "sp.rand(5)"
   ]
  },
  {
   "cell_type": "code",
   "execution_count": 33,
   "metadata": {
    "collapsed": false
   },
   "outputs": [
    {
     "data": {
      "text/plain": [
       "array([ 0.42110763,  0.95788953,  0.53316528,  0.69187711,  0.31551563])"
      ]
     },
     "execution_count": 33,
     "metadata": {},
     "output_type": "execute_result"
    }
   ],
   "source": [
    "sp.rand(5)"
   ]
  },
  {
   "cell_type": "code",
   "execution_count": 34,
   "metadata": {
    "collapsed": false
   },
   "outputs": [
    {
     "data": {
      "text/plain": [
       "array([ 0.02383282,  0.02156482,  0.02633934,  0.02156482,  0.02633934,\n",
       "        0.02156482,  0.02156482,  0.02156482,  0.02156482,  0.02156482,\n",
       "        0.02383282,  0.01951266,  0.02383282,  0.01951266,  0.01951266,\n",
       "        0.01951266,  0.01951266,  0.01951266,  0.02383282,  0.02910947,\n",
       "        0.02383282,  0.02383282,  0.02383282,  0.02383282,  0.02383282,\n",
       "        0.02383282,  0.01951266,  0.01951266,  0.01951266,  0.01951266,\n",
       "        0.01951266,  0.02383282,  0.02383282,  0.02383282,  0.02383282,\n",
       "        0.02383282,  0.01951266,  0.01951266,  0.01951266,  0.01951266,\n",
       "        0.01951266,  0.01951266,  0.01951266,  0.01951266,  0.01951266,\n",
       "        0.01951266])"
      ]
     },
     "execution_count": 34,
     "metadata": {},
     "output_type": "execute_result"
    }
   ],
   "source": [
    "kek2"
   ]
  },
  {
   "cell_type": "code",
   "execution_count": 35,
   "metadata": {
    "collapsed": false
   },
   "outputs": [
    {
     "data": {
      "text/plain": [
       "array([ 0.68650093,  0.83462567,  0.01828828,  0.75014431,  0.98886109])"
      ]
     },
     "execution_count": 35,
     "metadata": {},
     "output_type": "execute_result"
    }
   ],
   "source": [
    "sp.rand(5)"
   ]
  },
  {
   "cell_type": "code",
   "execution_count": 36,
   "metadata": {
    "collapsed": true
   },
   "outputs": [],
   "source": [
    "valInd = roulette(kek2)"
   ]
  },
  {
   "cell_type": "code",
   "execution_count": 37,
   "metadata": {
    "collapsed": false
   },
   "outputs": [
    {
     "data": {
      "text/plain": [
       "33"
      ]
     },
     "execution_count": 37,
     "metadata": {},
     "output_type": "execute_result"
    }
   ],
   "source": [
    "valInd"
   ]
  },
  {
   "cell_type": "code",
   "execution_count": null,
   "metadata": {
    "collapsed": true
   },
   "outputs": [],
   "source": []
  }
 ],
 "metadata": {
  "kernelspec": {
   "display_name": "Python 3",
   "language": "python",
   "name": "python3"
  },
  "language_info": {
   "codemirror_mode": {
    "name": "ipython",
    "version": 3
   },
   "file_extension": ".py",
   "mimetype": "text/x-python",
   "name": "python",
   "nbconvert_exporter": "python",
   "pygments_lexer": "ipython3",
   "version": "3.4.3"
  }
 },
 "nbformat": 4,
 "nbformat_minor": 0
}
