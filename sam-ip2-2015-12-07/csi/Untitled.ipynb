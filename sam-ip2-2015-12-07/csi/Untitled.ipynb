{
 "cells": [
  {
   "cell_type": "code",
   "execution_count": 1,
   "metadata": {
    "collapsed": true
   },
   "outputs": [],
   "source": [
    "from __future__ import absolute_import, division, print_function\n",
    "\n",
    "import sys\n",
    "import optparse\n",
    "import csv\n",
    "import re\n",
    "import itertools as it\n",
    "\n",
    "import h5py as h5\n",
    "\n",
    "import logging\n",
    "\n",
    "import numpy as np\n",
    "import scipy as sp\n",
    "import pandas as pd\n",
    "\n",
    "import csi"
   ]
  },
  {
   "cell_type": "code",
   "execution_count": 2,
   "metadata": {
    "collapsed": true
   },
   "outputs": [],
   "source": [
    "import numpy as np\n",
    "import scipy as sp\n",
    "import scipy.optimize as spo\n",
    "import scipy.stats as sps\n",
    "import pandas as pd\n",
    "import h5py as h5\n",
    "\n",
    "import multiprocessing as mp\n",
    "\n",
    "import itertools as it\n",
    "\n",
    "import gp"
   ]
  },
  {
   "cell_type": "code",
   "execution_count": 3,
   "metadata": {
    "collapsed": true
   },
   "outputs": [],
   "source": [
    "inp = csi.loadData('testdata/Botrytis_Data_normalised.csv')"
   ]
  },
  {
   "cell_type": "code",
   "execution_count": 4,
   "metadata": {
    "collapsed": true
   },
   "outputs": [],
   "source": [
    "gpprior = [10,0.1]"
   ]
  },
  {
   "cell_type": "code",
   "execution_count": 5,
   "metadata": {
    "collapsed": true
   },
   "outputs": [],
   "source": [
    "genes = list(inp.index)"
   ]
  },
  {
   "cell_type": "code",
   "execution_count": 6,
   "metadata": {
    "collapsed": true
   },
   "outputs": [],
   "source": [
    "cc = csi.Csi(inp)"
   ]
  },
  {
   "cell_type": "code",
   "execution_count": 7,
   "metadata": {
    "collapsed": true
   },
   "outputs": [],
   "source": [
    "em = cc.getEm()"
   ]
  },
  {
   "cell_type": "code",
   "execution_count": 8,
   "metadata": {
    "collapsed": false
   },
   "outputs": [
    {
     "data": {
      "text/plain": [
       "'AT4G34000'"
      ]
     },
     "execution_count": 8,
     "metadata": {},
     "output_type": "execute_result"
    }
   ],
   "source": [
    "genes[0]"
   ]
  },
  {
   "cell_type": "code",
   "execution_count": 9,
   "metadata": {
    "collapsed": true
   },
   "outputs": [],
   "source": [
    "em.setup(cc.allParents(genes[0],2))"
   ]
  },
  {
   "cell_type": "code",
   "execution_count": 14,
   "metadata": {
    "collapsed": false
   },
   "outputs": [
    {
     "data": {
      "text/plain": [
       "1.2511003572113371"
      ]
     },
     "execution_count": 14,
     "metadata": {},
     "output_type": "execute_result"
    }
   ],
   "source": [
    "sp.stats.gamma.pdf(1,a=10,scale=0.1)"
   ]
  },
  {
   "cell_type": "code",
   "execution_count": 22,
   "metadata": {
    "collapsed": false
   },
   "outputs": [
    {
     "data": {
      "text/plain": [
       "8.6820232741249312e-10"
      ]
     },
     "execution_count": 22,
     "metadata": {},
     "output_type": "execute_result"
    }
   ],
   "source": [
    "np.prod(sp.stats.gamma.pdf(sp.exp(sp.randn(3)),a=10,scale=0.1))"
   ]
  },
  {
   "cell_type": "code",
   "execution_count": 17,
   "metadata": {
    "collapsed": false
   },
   "outputs": [
    {
     "data": {
      "text/plain": [
       "1.0986122886681098"
      ]
     },
     "execution_count": 17,
     "metadata": {},
     "output_type": "execute_result"
    }
   ],
   "source": [
    "sp.log(3)"
   ]
  },
  {
   "cell_type": "code",
   "execution_count": 18,
   "metadata": {
    "collapsed": true
   },
   "outputs": [],
   "source": [
    "a=1\n",
    "b=2"
   ]
  },
  {
   "cell_type": "code",
   "execution_count": 19,
   "metadata": {
    "collapsed": true
   },
   "outputs": [],
   "source": [
    "(a,b) = (a,b)-np.max((a,b))"
   ]
  },
  {
   "cell_type": "code",
   "execution_count": 20,
   "metadata": {
    "collapsed": false
   },
   "outputs": [
    {
     "data": {
      "text/plain": [
       "-1"
      ]
     },
     "execution_count": 20,
     "metadata": {},
     "output_type": "execute_result"
    }
   ],
   "source": [
    "a"
   ]
  },
  {
   "cell_type": "code",
   "execution_count": 21,
   "metadata": {
    "collapsed": false
   },
   "outputs": [
    {
     "data": {
      "text/plain": [
       "0"
      ]
     },
     "execution_count": 21,
     "metadata": {},
     "output_type": "execute_result"
    }
   ],
   "source": [
    "b"
   ]
  },
  {
   "cell_type": "code",
   "execution_count": 27,
   "metadata": {
    "collapsed": false
   },
   "outputs": [],
   "source": [
    "em.set_priors(10,0.1)"
   ]
  },
  {
   "cell_type": "code",
   "execution_count": 30,
   "metadata": {
    "collapsed": false
   },
   "outputs": [
    {
     "data": {
      "text/plain": [
       "13"
      ]
     },
     "execution_count": 30,
     "metadata": {},
     "output_type": "execute_result"
    }
   ],
   "source": [
    "em._prior_shape+3"
   ]
  },
  {
   "cell_type": "code",
   "execution_count": 29,
   "metadata": {
    "collapsed": false
   },
   "outputs": [
    {
     "data": {
      "text/plain": [
       "array(0.1)"
      ]
     },
     "execution_count": 29,
     "metadata": {},
     "output_type": "execute_result"
    }
   ],
   "source": [
    "em._prior_scale"
   ]
  },
  {
   "cell_type": "code",
   "execution_count": 33,
   "metadata": {
    "collapsed": false
   },
   "outputs": [
    {
     "data": {
      "text/plain": [
       "0.3645131479687487"
      ]
     },
     "execution_count": 33,
     "metadata": {},
     "output_type": "execute_result"
    }
   ],
   "source": [
    "np.random.uniform()"
   ]
  },
  {
   "cell_type": "code",
   "execution_count": 34,
   "metadata": {
    "collapsed": false
   },
   "outputs": [
    {
     "data": {
      "text/plain": [
       "-0.8796702306818074"
      ]
     },
     "execution_count": 34,
     "metadata": {},
     "output_type": "execute_result"
    }
   ],
   "source": [
    "sp.randn()"
   ]
  },
  {
   "cell_type": "code",
   "execution_count": 36,
   "metadata": {
    "collapsed": false
   },
   "outputs": [
    {
     "data": {
      "text/plain": [
       "16"
      ]
     },
     "execution_count": 36,
     "metadata": {},
     "output_type": "execute_result"
    }
   ],
   "source": [
    "73%57"
   ]
  },
  {
   "cell_type": "code",
   "execution_count": 40,
   "metadata": {
    "collapsed": true
   },
   "outputs": [],
   "source": [
    "em.hypers = sp.exp([-0.4491,0.1774,-0.1868])"
   ]
  },
  {
   "cell_type": "code",
   "execution_count": 41,
   "metadata": {
    "collapsed": true
   },
   "outputs": [],
   "source": [
    "em.pset = cc.allParents('AT4G34000',1)"
   ]
  },
  {
   "cell_type": "code",
   "execution_count": 42,
   "metadata": {
    "collapsed": false
   },
   "outputs": [
    {
     "data": {
      "text/plain": [
       "array([-254.65416263, -256.67022449, -252.51430866, -256.59080306,\n",
       "       -235.4970021 , -251.3027252 , -242.71820458, -239.35989062,\n",
       "       -244.41833429, -239.2181522 , -241.70916843, -245.34641921,\n",
       "       -238.44528674, -243.27226345, -241.7483005 , -242.66771724,\n",
       "       -241.72889515, -252.42949094, -242.48885364, -255.9714944 ,\n",
       "       -247.98081618, -254.90309459, -255.34764501, -240.43599632,\n",
       "       -254.88848964, -246.20110904, -243.87228624, -255.9883874 ,\n",
       "       -256.83055056, -252.00006026, -244.40176847, -250.40037488,\n",
       "       -245.83544469, -256.50745092, -245.40886994, -244.97884105,\n",
       "       -239.74919108, -238.16303607, -242.25757587, -251.64193311,\n",
       "       -238.80062715, -255.05460288, -246.00564274, -243.29174505,\n",
       "       -239.35270813, -255.12073468, -243.37986838, -257.91321744,\n",
       "       -251.58934633, -240.20004706, -245.08969362, -255.88726916,\n",
       "       -244.62976457, -253.30053208, -238.01114207, -244.36518597,\n",
       "       -242.13274995, -239.61515976, -255.43628246, -247.47162106,\n",
       "       -255.89350075, -248.2227128 , -247.51446644, -254.81164507,\n",
       "       -240.75005983, -239.56954822, -250.84029328, -243.34499616,\n",
       "       -241.98701971, -244.48055858, -251.61916336, -241.78872506,\n",
       "       -249.38783073, -250.62409983, -239.7652468 , -242.79152583,\n",
       "       -246.73665618, -251.8575075 , -254.78805034, -245.87072246,\n",
       "       -248.50840243, -246.22930045, -254.0880074 , -253.54241988,\n",
       "       -241.25995362, -248.5111169 , -237.62577098, -248.33216277,\n",
       "       -238.00476586, -251.26712273, -244.34260229, -250.85882349,\n",
       "       -239.53330496, -250.85437679, -253.55724265, -239.0351581 ])"
      ]
     },
     "execution_count": 42,
     "metadata": {},
     "output_type": "execute_result"
    }
   ],
   "source": [
    "em.logliks()"
   ]
  },
  {
   "cell_type": "code",
   "execution_count": 43,
   "metadata": {
    "collapsed": true
   },
   "outputs": [],
   "source": [
    "import numpy.matlib as npm\n",
    "import math\n",
    "\n",
    "def loglik(X,Y,hypers):\n",
    "\t#hypers as [length, signal std, noise std] in log space\n",
    "\tthing = X / sp.exp(hypers[0])\n",
    "\tdist = np.zeros((len(Y),len(Y)))\n",
    "\tfor i in np.arange(len(Y)):\n",
    "\t\tfor j in np.arange(len(Y)):\n",
    "\t\t\tdist[i,j] = np.sum(np.square(thing[i,:]-thing[j,:]))\n",
    "\tK = sp.exp(2*hypers[1]+(-1/2)*dist)\n",
    "\tL = np.linalg.cholesky(K + sp.exp(2*hypers[2])*npm.eye(len(Y)))\n",
    "\talpha = np.linalg.solve(np.transpose(L),np.linalg.solve(L,Y))\n",
    "\tout = (-0.5)*np.dot(np.transpose(Y),alpha)-np.sum(np.eye(len(Y))*L)-(X.shape[1]/2)*np.log(2*math.pi)\n",
    "\treturn out"
   ]
  },
  {
   "cell_type": "code",
   "execution_count": 45,
   "metadata": {
    "collapsed": false
   },
   "outputs": [
    {
     "ename": "TypeError",
     "evalue": "unhashable type: 'slice'",
     "output_type": "error",
     "traceback": [
      "\u001b[0;31m---------------------------------------------------------------------------\u001b[0m",
      "\u001b[0;31mTypeError\u001b[0m                                 Traceback (most recent call last)",
      "\u001b[0;32m<ipython-input-45-7a46c4a07f35>\u001b[0m in \u001b[0;36m<module>\u001b[0;34m()\u001b[0m\n\u001b[0;32m----> 1\u001b[0;31m \u001b[0mX\u001b[0m \u001b[0;34m=\u001b[0m \u001b[0mem\u001b[0m\u001b[0;34m.\u001b[0m\u001b[0mX\u001b[0m\u001b[0;34m[\u001b[0m\u001b[0;34m:\u001b[0m\u001b[0;34m,\u001b[0m\u001b[0;34m:\u001b[0m\u001b[0;36m2\u001b[0m\u001b[0;34m]\u001b[0m\u001b[0;34m\u001b[0m\u001b[0m\n\u001b[0m",
      "\u001b[0;32m//anaconda/lib/python3.4/site-packages/pandas/core/frame.py\u001b[0m in \u001b[0;36m__getitem__\u001b[0;34m(self, key)\u001b[0m\n\u001b[1;32m   1912\u001b[0m             \u001b[0;32mreturn\u001b[0m \u001b[0mself\u001b[0m\u001b[0;34m.\u001b[0m\u001b[0m_getitem_multilevel\u001b[0m\u001b[0;34m(\u001b[0m\u001b[0mkey\u001b[0m\u001b[0;34m)\u001b[0m\u001b[0;34m\u001b[0m\u001b[0m\n\u001b[1;32m   1913\u001b[0m         \u001b[0;32melse\u001b[0m\u001b[0;34m:\u001b[0m\u001b[0;34m\u001b[0m\u001b[0m\n\u001b[0;32m-> 1914\u001b[0;31m             \u001b[0;32mreturn\u001b[0m \u001b[0mself\u001b[0m\u001b[0;34m.\u001b[0m\u001b[0m_getitem_column\u001b[0m\u001b[0;34m(\u001b[0m\u001b[0mkey\u001b[0m\u001b[0;34m)\u001b[0m\u001b[0;34m\u001b[0m\u001b[0m\n\u001b[0m\u001b[1;32m   1915\u001b[0m \u001b[0;34m\u001b[0m\u001b[0m\n\u001b[1;32m   1916\u001b[0m     \u001b[0;32mdef\u001b[0m \u001b[0m_getitem_column\u001b[0m\u001b[0;34m(\u001b[0m\u001b[0mself\u001b[0m\u001b[0;34m,\u001b[0m \u001b[0mkey\u001b[0m\u001b[0;34m)\u001b[0m\u001b[0;34m:\u001b[0m\u001b[0;34m\u001b[0m\u001b[0m\n",
      "\u001b[0;32m//anaconda/lib/python3.4/site-packages/pandas/core/frame.py\u001b[0m in \u001b[0;36m_getitem_column\u001b[0;34m(self, key)\u001b[0m\n\u001b[1;32m   1919\u001b[0m         \u001b[0;31m# get column\u001b[0m\u001b[0;34m\u001b[0m\u001b[0;34m\u001b[0m\u001b[0m\n\u001b[1;32m   1920\u001b[0m         \u001b[0;32mif\u001b[0m \u001b[0mself\u001b[0m\u001b[0;34m.\u001b[0m\u001b[0mcolumns\u001b[0m\u001b[0;34m.\u001b[0m\u001b[0mis_unique\u001b[0m\u001b[0;34m:\u001b[0m\u001b[0;34m\u001b[0m\u001b[0m\n\u001b[0;32m-> 1921\u001b[0;31m             \u001b[0;32mreturn\u001b[0m \u001b[0mself\u001b[0m\u001b[0;34m.\u001b[0m\u001b[0m_get_item_cache\u001b[0m\u001b[0;34m(\u001b[0m\u001b[0mkey\u001b[0m\u001b[0;34m)\u001b[0m\u001b[0;34m\u001b[0m\u001b[0m\n\u001b[0m\u001b[1;32m   1922\u001b[0m \u001b[0;34m\u001b[0m\u001b[0m\n\u001b[1;32m   1923\u001b[0m         \u001b[0;31m# duplicate columns & possible reduce dimensionaility\u001b[0m\u001b[0;34m\u001b[0m\u001b[0;34m\u001b[0m\u001b[0m\n",
      "\u001b[0;32m//anaconda/lib/python3.4/site-packages/pandas/core/generic.py\u001b[0m in \u001b[0;36m_get_item_cache\u001b[0;34m(self, item)\u001b[0m\n\u001b[1;32m   1086\u001b[0m         \u001b[0;34m\"\"\" return the cached item, item represents a label indexer \"\"\"\u001b[0m\u001b[0;34m\u001b[0m\u001b[0m\n\u001b[1;32m   1087\u001b[0m         \u001b[0mcache\u001b[0m \u001b[0;34m=\u001b[0m \u001b[0mself\u001b[0m\u001b[0;34m.\u001b[0m\u001b[0m_item_cache\u001b[0m\u001b[0;34m\u001b[0m\u001b[0m\n\u001b[0;32m-> 1088\u001b[0;31m         \u001b[0mres\u001b[0m \u001b[0;34m=\u001b[0m \u001b[0mcache\u001b[0m\u001b[0;34m.\u001b[0m\u001b[0mget\u001b[0m\u001b[0;34m(\u001b[0m\u001b[0mitem\u001b[0m\u001b[0;34m)\u001b[0m\u001b[0;34m\u001b[0m\u001b[0m\n\u001b[0m\u001b[1;32m   1089\u001b[0m         \u001b[0;32mif\u001b[0m \u001b[0mres\u001b[0m \u001b[0;32mis\u001b[0m \u001b[0;32mNone\u001b[0m\u001b[0;34m:\u001b[0m\u001b[0;34m\u001b[0m\u001b[0m\n\u001b[1;32m   1090\u001b[0m             \u001b[0mvalues\u001b[0m \u001b[0;34m=\u001b[0m \u001b[0mself\u001b[0m\u001b[0;34m.\u001b[0m\u001b[0m_data\u001b[0m\u001b[0;34m.\u001b[0m\u001b[0mget\u001b[0m\u001b[0;34m(\u001b[0m\u001b[0mitem\u001b[0m\u001b[0;34m)\u001b[0m\u001b[0;34m\u001b[0m\u001b[0m\n",
      "\u001b[0;31mTypeError\u001b[0m: unhashable type: 'slice'"
     ]
    }
   ],
   "source": [
    "X = em.X[:,:2]"
   ]
  },
  {
   "cell_type": "code",
   "execution_count": 46,
   "metadata": {
    "collapsed": false
   },
   "outputs": [
    {
     "data": {
      "text/html": [
       "<div>\n",
       "<table border=\"1\" class=\"dataframe\">\n",
       "  <thead>\n",
       "    <tr style=\"text-align: right;\">\n",
       "      <th></th>\n",
       "      <th></th>\n",
       "      <th>AT4G34000</th>\n",
       "      <th>AT3G19290</th>\n",
       "      <th>AT2G40220</th>\n",
       "      <th>AT2G36270</th>\n",
       "      <th>AT1G01480</th>\n",
       "      <th>AT2G37620</th>\n",
       "      <th>AT3G01420</th>\n",
       "      <th>AT1G52890</th>\n",
       "      <th>AT1G61110</th>\n",
       "      <th>AT3G56530</th>\n",
       "      <th>...</th>\n",
       "      <th>AT5G59820</th>\n",
       "      <th>AT1G17020</th>\n",
       "      <th>AT1G27730</th>\n",
       "      <th>AT1G22070</th>\n",
       "      <th>AT1G80840</th>\n",
       "      <th>AT4G11070</th>\n",
       "      <th>AT3G01970</th>\n",
       "      <th>AT4G23810</th>\n",
       "      <th>AT5G08290</th>\n",
       "      <th>AT2G41940</th>\n",
       "    </tr>\n",
       "    <tr>\n",
       "      <th>sample,replicate</th>\n",
       "      <th>hours</th>\n",
       "      <th></th>\n",
       "      <th></th>\n",
       "      <th></th>\n",
       "      <th></th>\n",
       "      <th></th>\n",
       "      <th></th>\n",
       "      <th></th>\n",
       "      <th></th>\n",
       "      <th></th>\n",
       "      <th></th>\n",
       "      <th></th>\n",
       "      <th></th>\n",
       "      <th></th>\n",
       "      <th></th>\n",
       "      <th></th>\n",
       "      <th></th>\n",
       "      <th></th>\n",
       "      <th></th>\n",
       "      <th></th>\n",
       "      <th></th>\n",
       "      <th></th>\n",
       "    </tr>\n",
       "  </thead>\n",
       "  <tbody>\n",
       "    <tr>\n",
       "      <th rowspan=\"23\" valign=\"top\">Botrytis:A</th>\n",
       "      <th>2</th>\n",
       "      <td>-1.005128</td>\n",
       "      <td>0.131742</td>\n",
       "      <td>0.491480</td>\n",
       "      <td>-0.634663</td>\n",
       "      <td>-0.553422</td>\n",
       "      <td>-0.041193</td>\n",
       "      <td>-0.459596</td>\n",
       "      <td>-0.835011</td>\n",
       "      <td>-0.814347</td>\n",
       "      <td>-0.388058</td>\n",
       "      <td>...</td>\n",
       "      <td>-0.298662</td>\n",
       "      <td>-0.924939</td>\n",
       "      <td>-0.677551</td>\n",
       "      <td>1.295117</td>\n",
       "      <td>0.045053</td>\n",
       "      <td>0.059356</td>\n",
       "      <td>-1.438237</td>\n",
       "      <td>1.649450</td>\n",
       "      <td>-0.241468</td>\n",
       "      <td>0.804317</td>\n",
       "    </tr>\n",
       "    <tr>\n",
       "      <th>4</th>\n",
       "      <td>-0.901464</td>\n",
       "      <td>0.727480</td>\n",
       "      <td>0.487648</td>\n",
       "      <td>0.605025</td>\n",
       "      <td>-0.367126</td>\n",
       "      <td>0.528851</td>\n",
       "      <td>-0.766497</td>\n",
       "      <td>0.712055</td>\n",
       "      <td>-0.122045</td>\n",
       "      <td>-0.600697</td>\n",
       "      <td>...</td>\n",
       "      <td>0.097892</td>\n",
       "      <td>-0.173180</td>\n",
       "      <td>-0.686545</td>\n",
       "      <td>1.069238</td>\n",
       "      <td>0.952018</td>\n",
       "      <td>-0.522650</td>\n",
       "      <td>-0.434619</td>\n",
       "      <td>0.889520</td>\n",
       "      <td>0.240684</td>\n",
       "      <td>0.562897</td>\n",
       "    </tr>\n",
       "    <tr>\n",
       "      <th>6</th>\n",
       "      <td>1.476983</td>\n",
       "      <td>1.318623</td>\n",
       "      <td>-0.925644</td>\n",
       "      <td>0.615760</td>\n",
       "      <td>-0.296208</td>\n",
       "      <td>0.144064</td>\n",
       "      <td>-0.479367</td>\n",
       "      <td>0.432066</td>\n",
       "      <td>-0.406424</td>\n",
       "      <td>-0.235288</td>\n",
       "      <td>...</td>\n",
       "      <td>-0.160608</td>\n",
       "      <td>-0.144959</td>\n",
       "      <td>-0.962877</td>\n",
       "      <td>0.941522</td>\n",
       "      <td>0.016348</td>\n",
       "      <td>1.174052</td>\n",
       "      <td>-0.986215</td>\n",
       "      <td>0.431442</td>\n",
       "      <td>0.250578</td>\n",
       "      <td>0.027412</td>\n",
       "    </tr>\n",
       "    <tr>\n",
       "      <th>8</th>\n",
       "      <td>0.789920</td>\n",
       "      <td>0.008204</td>\n",
       "      <td>-0.452926</td>\n",
       "      <td>0.556027</td>\n",
       "      <td>-0.452172</td>\n",
       "      <td>0.254001</td>\n",
       "      <td>-0.196882</td>\n",
       "      <td>-0.744258</td>\n",
       "      <td>-0.323429</td>\n",
       "      <td>-0.697230</td>\n",
       "      <td>...</td>\n",
       "      <td>-1.197098</td>\n",
       "      <td>-0.658355</td>\n",
       "      <td>-0.753891</td>\n",
       "      <td>0.624060</td>\n",
       "      <td>-1.051828</td>\n",
       "      <td>0.726299</td>\n",
       "      <td>-1.174665</td>\n",
       "      <td>-1.050028</td>\n",
       "      <td>-1.011571</td>\n",
       "      <td>0.982881</td>\n",
       "    </tr>\n",
       "    <tr>\n",
       "      <th>10</th>\n",
       "      <td>2.220758</td>\n",
       "      <td>0.542562</td>\n",
       "      <td>-0.567622</td>\n",
       "      <td>0.410010</td>\n",
       "      <td>-0.643295</td>\n",
       "      <td>0.169677</td>\n",
       "      <td>-0.668417</td>\n",
       "      <td>-0.066746</td>\n",
       "      <td>-0.519370</td>\n",
       "      <td>-0.388342</td>\n",
       "      <td>...</td>\n",
       "      <td>-0.281315</td>\n",
       "      <td>-0.504426</td>\n",
       "      <td>-0.872495</td>\n",
       "      <td>0.594808</td>\n",
       "      <td>-0.606226</td>\n",
       "      <td>-0.787850</td>\n",
       "      <td>-0.877906</td>\n",
       "      <td>-0.532133</td>\n",
       "      <td>1.143047</td>\n",
       "      <td>0.786640</td>\n",
       "    </tr>\n",
       "    <tr>\n",
       "      <th>12</th>\n",
       "      <td>-0.742055</td>\n",
       "      <td>0.486430</td>\n",
       "      <td>-0.366723</td>\n",
       "      <td>-0.197133</td>\n",
       "      <td>-0.225244</td>\n",
       "      <td>-0.180386</td>\n",
       "      <td>-0.662900</td>\n",
       "      <td>-1.460871</td>\n",
       "      <td>-0.811562</td>\n",
       "      <td>-0.761105</td>\n",
       "      <td>...</td>\n",
       "      <td>-0.899190</td>\n",
       "      <td>-0.589962</td>\n",
       "      <td>-0.687490</td>\n",
       "      <td>-0.339168</td>\n",
       "      <td>-1.028034</td>\n",
       "      <td>0.417204</td>\n",
       "      <td>-1.165970</td>\n",
       "      <td>-0.859405</td>\n",
       "      <td>0.182182</td>\n",
       "      <td>1.113074</td>\n",
       "    </tr>\n",
       "    <tr>\n",
       "      <th>14</th>\n",
       "      <td>-0.698624</td>\n",
       "      <td>0.632142</td>\n",
       "      <td>-0.601311</td>\n",
       "      <td>-1.660394</td>\n",
       "      <td>-0.394703</td>\n",
       "      <td>0.460758</td>\n",
       "      <td>-0.944165</td>\n",
       "      <td>-0.808666</td>\n",
       "      <td>-0.143559</td>\n",
       "      <td>-1.007598</td>\n",
       "      <td>...</td>\n",
       "      <td>-0.501889</td>\n",
       "      <td>-2.725867</td>\n",
       "      <td>-0.842559</td>\n",
       "      <td>-0.506268</td>\n",
       "      <td>-0.268934</td>\n",
       "      <td>-0.210176</td>\n",
       "      <td>-0.825102</td>\n",
       "      <td>-0.058057</td>\n",
       "      <td>0.774592</td>\n",
       "      <td>0.863046</td>\n",
       "    </tr>\n",
       "    <tr>\n",
       "      <th>16</th>\n",
       "      <td>1.105240</td>\n",
       "      <td>-0.009641</td>\n",
       "      <td>1.216349</td>\n",
       "      <td>0.390508</td>\n",
       "      <td>-0.598818</td>\n",
       "      <td>-0.939533</td>\n",
       "      <td>-0.491494</td>\n",
       "      <td>-1.102190</td>\n",
       "      <td>-0.887298</td>\n",
       "      <td>-0.813251</td>\n",
       "      <td>...</td>\n",
       "      <td>-0.795597</td>\n",
       "      <td>-0.537926</td>\n",
       "      <td>-0.801382</td>\n",
       "      <td>-0.966911</td>\n",
       "      <td>-0.649500</td>\n",
       "      <td>-0.533203</td>\n",
       "      <td>-0.964446</td>\n",
       "      <td>-0.521606</td>\n",
       "      <td>1.390618</td>\n",
       "      <td>1.448853</td>\n",
       "    </tr>\n",
       "    <tr>\n",
       "      <th>18</th>\n",
       "      <td>0.132847</td>\n",
       "      <td>0.129336</td>\n",
       "      <td>-0.150605</td>\n",
       "      <td>-0.450886</td>\n",
       "      <td>-0.750061</td>\n",
       "      <td>-0.630108</td>\n",
       "      <td>-0.689212</td>\n",
       "      <td>-1.241857</td>\n",
       "      <td>-0.655120</td>\n",
       "      <td>-1.101940</td>\n",
       "      <td>...</td>\n",
       "      <td>-0.850314</td>\n",
       "      <td>-0.391024</td>\n",
       "      <td>-1.046086</td>\n",
       "      <td>-0.832856</td>\n",
       "      <td>-0.826904</td>\n",
       "      <td>0.391690</td>\n",
       "      <td>-0.674049</td>\n",
       "      <td>0.188142</td>\n",
       "      <td>0.071401</td>\n",
       "      <td>0.779848</td>\n",
       "    </tr>\n",
       "    <tr>\n",
       "      <th>20</th>\n",
       "      <td>1.366016</td>\n",
       "      <td>0.220571</td>\n",
       "      <td>-0.885360</td>\n",
       "      <td>1.113928</td>\n",
       "      <td>-1.075408</td>\n",
       "      <td>-0.537627</td>\n",
       "      <td>-1.148954</td>\n",
       "      <td>-1.112815</td>\n",
       "      <td>-0.259096</td>\n",
       "      <td>-0.314687</td>\n",
       "      <td>...</td>\n",
       "      <td>-1.081717</td>\n",
       "      <td>-0.573583</td>\n",
       "      <td>-0.862656</td>\n",
       "      <td>0.100943</td>\n",
       "      <td>-0.774141</td>\n",
       "      <td>-0.499340</td>\n",
       "      <td>-1.088177</td>\n",
       "      <td>-0.296252</td>\n",
       "      <td>-1.120886</td>\n",
       "      <td>1.558269</td>\n",
       "    </tr>\n",
       "    <tr>\n",
       "      <th>22</th>\n",
       "      <td>0.292972</td>\n",
       "      <td>2.635230</td>\n",
       "      <td>-0.494566</td>\n",
       "      <td>-0.254652</td>\n",
       "      <td>-0.609860</td>\n",
       "      <td>-0.790360</td>\n",
       "      <td>-0.897353</td>\n",
       "      <td>-0.334692</td>\n",
       "      <td>-0.299141</td>\n",
       "      <td>-0.779724</td>\n",
       "      <td>...</td>\n",
       "      <td>-0.669157</td>\n",
       "      <td>-0.030260</td>\n",
       "      <td>-0.622009</td>\n",
       "      <td>0.847484</td>\n",
       "      <td>-0.446548</td>\n",
       "      <td>-0.327884</td>\n",
       "      <td>-0.097639</td>\n",
       "      <td>0.293519</td>\n",
       "      <td>1.228132</td>\n",
       "      <td>0.747744</td>\n",
       "    </tr>\n",
       "    <tr>\n",
       "      <th>24</th>\n",
       "      <td>0.485219</td>\n",
       "      <td>0.404590</td>\n",
       "      <td>2.465125</td>\n",
       "      <td>0.375521</td>\n",
       "      <td>-0.579675</td>\n",
       "      <td>-0.669862</td>\n",
       "      <td>-0.333582</td>\n",
       "      <td>-0.251335</td>\n",
       "      <td>-0.801860</td>\n",
       "      <td>-1.025858</td>\n",
       "      <td>...</td>\n",
       "      <td>-0.936366</td>\n",
       "      <td>-0.237727</td>\n",
       "      <td>-0.288417</td>\n",
       "      <td>1.107363</td>\n",
       "      <td>-1.263584</td>\n",
       "      <td>0.653821</td>\n",
       "      <td>-0.285645</td>\n",
       "      <td>-0.610959</td>\n",
       "      <td>0.760142</td>\n",
       "      <td>0.699443</td>\n",
       "    </tr>\n",
       "    <tr>\n",
       "      <th>26</th>\n",
       "      <td>0.006670</td>\n",
       "      <td>0.446896</td>\n",
       "      <td>0.892726</td>\n",
       "      <td>-0.171675</td>\n",
       "      <td>-1.041443</td>\n",
       "      <td>-1.258565</td>\n",
       "      <td>-0.979191</td>\n",
       "      <td>-0.074725</td>\n",
       "      <td>-0.541177</td>\n",
       "      <td>-0.775565</td>\n",
       "      <td>...</td>\n",
       "      <td>-1.362544</td>\n",
       "      <td>-0.461065</td>\n",
       "      <td>-0.500345</td>\n",
       "      <td>1.630727</td>\n",
       "      <td>0.477263</td>\n",
       "      <td>0.320243</td>\n",
       "      <td>-0.649716</td>\n",
       "      <td>2.251766</td>\n",
       "      <td>1.718757</td>\n",
       "      <td>0.808858</td>\n",
       "    </tr>\n",
       "    <tr>\n",
       "      <th>28</th>\n",
       "      <td>-0.829932</td>\n",
       "      <td>-0.703055</td>\n",
       "      <td>1.529133</td>\n",
       "      <td>0.142198</td>\n",
       "      <td>0.078592</td>\n",
       "      <td>-0.009694</td>\n",
       "      <td>-0.340020</td>\n",
       "      <td>0.579712</td>\n",
       "      <td>0.318626</td>\n",
       "      <td>-0.388392</td>\n",
       "      <td>...</td>\n",
       "      <td>-0.906889</td>\n",
       "      <td>0.214441</td>\n",
       "      <td>0.416076</td>\n",
       "      <td>-0.105542</td>\n",
       "      <td>0.538076</td>\n",
       "      <td>0.406708</td>\n",
       "      <td>0.303202</td>\n",
       "      <td>0.582035</td>\n",
       "      <td>0.293881</td>\n",
       "      <td>-0.270057</td>\n",
       "    </tr>\n",
       "    <tr>\n",
       "      <th>30</th>\n",
       "      <td>1.738602</td>\n",
       "      <td>0.638971</td>\n",
       "      <td>-0.114106</td>\n",
       "      <td>0.359189</td>\n",
       "      <td>-0.865597</td>\n",
       "      <td>0.255948</td>\n",
       "      <td>-0.511152</td>\n",
       "      <td>0.477468</td>\n",
       "      <td>-0.424106</td>\n",
       "      <td>-1.269199</td>\n",
       "      <td>...</td>\n",
       "      <td>-0.895053</td>\n",
       "      <td>-1.473223</td>\n",
       "      <td>-0.570775</td>\n",
       "      <td>1.458709</td>\n",
       "      <td>0.598298</td>\n",
       "      <td>0.107163</td>\n",
       "      <td>-0.652378</td>\n",
       "      <td>0.960630</td>\n",
       "      <td>0.133775</td>\n",
       "      <td>0.142095</td>\n",
       "    </tr>\n",
       "    <tr>\n",
       "      <th>32</th>\n",
       "      <td>1.313264</td>\n",
       "      <td>-0.097418</td>\n",
       "      <td>-0.351060</td>\n",
       "      <td>-0.332384</td>\n",
       "      <td>-0.751938</td>\n",
       "      <td>1.365359</td>\n",
       "      <td>-0.384358</td>\n",
       "      <td>-0.297430</td>\n",
       "      <td>-0.197629</td>\n",
       "      <td>0.069942</td>\n",
       "      <td>...</td>\n",
       "      <td>-0.610749</td>\n",
       "      <td>0.426708</td>\n",
       "      <td>-0.381864</td>\n",
       "      <td>0.700514</td>\n",
       "      <td>-0.882230</td>\n",
       "      <td>-0.039000</td>\n",
       "      <td>-0.407219</td>\n",
       "      <td>-0.173423</td>\n",
       "      <td>1.886225</td>\n",
       "      <td>0.816819</td>\n",
       "    </tr>\n",
       "    <tr>\n",
       "      <th>34</th>\n",
       "      <td>0.083945</td>\n",
       "      <td>-0.280589</td>\n",
       "      <td>-0.804481</td>\n",
       "      <td>0.051813</td>\n",
       "      <td>-0.321327</td>\n",
       "      <td>0.361997</td>\n",
       "      <td>-0.342867</td>\n",
       "      <td>-0.609749</td>\n",
       "      <td>0.462497</td>\n",
       "      <td>-0.514447</td>\n",
       "      <td>...</td>\n",
       "      <td>-0.578194</td>\n",
       "      <td>-0.030752</td>\n",
       "      <td>-0.225640</td>\n",
       "      <td>-0.851316</td>\n",
       "      <td>-0.614776</td>\n",
       "      <td>0.234679</td>\n",
       "      <td>-0.223104</td>\n",
       "      <td>-0.118491</td>\n",
       "      <td>0.669068</td>\n",
       "      <td>0.391166</td>\n",
       "    </tr>\n",
       "    <tr>\n",
       "      <th>36</th>\n",
       "      <td>-0.477393</td>\n",
       "      <td>0.090701</td>\n",
       "      <td>-0.554374</td>\n",
       "      <td>0.536009</td>\n",
       "      <td>-0.576480</td>\n",
       "      <td>0.075630</td>\n",
       "      <td>-0.219904</td>\n",
       "      <td>-0.898476</td>\n",
       "      <td>-0.527693</td>\n",
       "      <td>-0.377416</td>\n",
       "      <td>...</td>\n",
       "      <td>-0.928233</td>\n",
       "      <td>-0.217050</td>\n",
       "      <td>-0.720070</td>\n",
       "      <td>-0.594758</td>\n",
       "      <td>-0.921586</td>\n",
       "      <td>-0.313716</td>\n",
       "      <td>-0.186188</td>\n",
       "      <td>-0.357186</td>\n",
       "      <td>0.058464</td>\n",
       "      <td>0.573170</td>\n",
       "    </tr>\n",
       "    <tr>\n",
       "      <th>38</th>\n",
       "      <td>2.177634</td>\n",
       "      <td>2.003104</td>\n",
       "      <td>0.061641</td>\n",
       "      <td>0.481684</td>\n",
       "      <td>-0.046673</td>\n",
       "      <td>0.242226</td>\n",
       "      <td>-0.475141</td>\n",
       "      <td>-0.918968</td>\n",
       "      <td>0.426680</td>\n",
       "      <td>-0.187705</td>\n",
       "      <td>...</td>\n",
       "      <td>-0.848192</td>\n",
       "      <td>0.423366</td>\n",
       "      <td>-0.868904</td>\n",
       "      <td>0.405017</td>\n",
       "      <td>-0.295818</td>\n",
       "      <td>1.964506</td>\n",
       "      <td>0.209123</td>\n",
       "      <td>-0.388342</td>\n",
       "      <td>1.592259</td>\n",
       "      <td>-1.383519</td>\n",
       "    </tr>\n",
       "    <tr>\n",
       "      <th>40</th>\n",
       "      <td>0.242574</td>\n",
       "      <td>0.654963</td>\n",
       "      <td>-0.626832</td>\n",
       "      <td>0.470467</td>\n",
       "      <td>-0.430387</td>\n",
       "      <td>-0.447549</td>\n",
       "      <td>-0.114708</td>\n",
       "      <td>-1.153499</td>\n",
       "      <td>-2.273260</td>\n",
       "      <td>-0.318572</td>\n",
       "      <td>...</td>\n",
       "      <td>-0.933820</td>\n",
       "      <td>-0.655080</td>\n",
       "      <td>-0.427916</td>\n",
       "      <td>-0.585323</td>\n",
       "      <td>-0.539472</td>\n",
       "      <td>-2.120072</td>\n",
       "      <td>-0.258362</td>\n",
       "      <td>0.828253</td>\n",
       "      <td>0.936153</td>\n",
       "      <td>1.074043</td>\n",
       "    </tr>\n",
       "    <tr>\n",
       "      <th>42</th>\n",
       "      <td>1.133351</td>\n",
       "      <td>0.570847</td>\n",
       "      <td>-0.485343</td>\n",
       "      <td>0.534318</td>\n",
       "      <td>-0.677429</td>\n",
       "      <td>-0.289152</td>\n",
       "      <td>-0.277455</td>\n",
       "      <td>-0.909846</td>\n",
       "      <td>-0.582278</td>\n",
       "      <td>-0.101024</td>\n",
       "      <td>...</td>\n",
       "      <td>-0.572778</td>\n",
       "      <td>-0.244384</td>\n",
       "      <td>-0.611319</td>\n",
       "      <td>-0.602644</td>\n",
       "      <td>-1.280374</td>\n",
       "      <td>0.532737</td>\n",
       "      <td>0.152638</td>\n",
       "      <td>0.220051</td>\n",
       "      <td>-0.269870</td>\n",
       "      <td>0.488515</td>\n",
       "    </tr>\n",
       "    <tr>\n",
       "      <th>44</th>\n",
       "      <td>1.228888</td>\n",
       "      <td>0.187431</td>\n",
       "      <td>-1.132619</td>\n",
       "      <td>0.445798</td>\n",
       "      <td>-0.478190</td>\n",
       "      <td>-0.019809</td>\n",
       "      <td>-0.127152</td>\n",
       "      <td>-0.426363</td>\n",
       "      <td>-0.252591</td>\n",
       "      <td>0.224152</td>\n",
       "      <td>...</td>\n",
       "      <td>-0.417582</td>\n",
       "      <td>0.321167</td>\n",
       "      <td>-0.762533</td>\n",
       "      <td>-0.385433</td>\n",
       "      <td>-0.254924</td>\n",
       "      <td>-0.045893</td>\n",
       "      <td>-0.114609</td>\n",
       "      <td>-0.599684</td>\n",
       "      <td>0.388787</td>\n",
       "      <td>0.361505</td>\n",
       "    </tr>\n",
       "    <tr>\n",
       "      <th>46</th>\n",
       "      <td>1.393030</td>\n",
       "      <td>0.549945</td>\n",
       "      <td>-1.580732</td>\n",
       "      <td>0.227463</td>\n",
       "      <td>-0.868053</td>\n",
       "      <td>-1.005849</td>\n",
       "      <td>-0.106496</td>\n",
       "      <td>-0.782245</td>\n",
       "      <td>-0.712100</td>\n",
       "      <td>-0.763120</td>\n",
       "      <td>...</td>\n",
       "      <td>-0.859600</td>\n",
       "      <td>-0.357495</td>\n",
       "      <td>-0.805461</td>\n",
       "      <td>1.362303</td>\n",
       "      <td>-1.346235</td>\n",
       "      <td>-0.243626</td>\n",
       "      <td>-1.063040</td>\n",
       "      <td>-0.590807</td>\n",
       "      <td>-2.532266</td>\n",
       "      <td>0.256602</td>\n",
       "    </tr>\n",
       "    <tr>\n",
       "      <th rowspan=\"7\" valign=\"top\">Botrytis:B</th>\n",
       "      <th>2</th>\n",
       "      <td>-1.003921</td>\n",
       "      <td>0.066419</td>\n",
       "      <td>1.030061</td>\n",
       "      <td>-0.277679</td>\n",
       "      <td>-0.884107</td>\n",
       "      <td>-0.056190</td>\n",
       "      <td>-0.453611</td>\n",
       "      <td>0.034670</td>\n",
       "      <td>-0.698695</td>\n",
       "      <td>0.115541</td>\n",
       "      <td>...</td>\n",
       "      <td>0.133334</td>\n",
       "      <td>-0.895671</td>\n",
       "      <td>-0.385131</td>\n",
       "      <td>0.701442</td>\n",
       "      <td>0.581570</td>\n",
       "      <td>-0.082625</td>\n",
       "      <td>-0.931484</td>\n",
       "      <td>0.679031</td>\n",
       "      <td>0.720614</td>\n",
       "      <td>-0.601589</td>\n",
       "    </tr>\n",
       "    <tr>\n",
       "      <th>4</th>\n",
       "      <td>-0.267215</td>\n",
       "      <td>0.605971</td>\n",
       "      <td>-1.057123</td>\n",
       "      <td>0.464547</td>\n",
       "      <td>-0.580061</td>\n",
       "      <td>-0.973904</td>\n",
       "      <td>-0.940589</td>\n",
       "      <td>-0.644430</td>\n",
       "      <td>-0.926626</td>\n",
       "      <td>-1.257745</td>\n",
       "      <td>...</td>\n",
       "      <td>-0.769305</td>\n",
       "      <td>-1.905368</td>\n",
       "      <td>-0.941592</td>\n",
       "      <td>1.016251</td>\n",
       "      <td>0.217438</td>\n",
       "      <td>-0.035675</td>\n",
       "      <td>-1.608464</td>\n",
       "      <td>0.691503</td>\n",
       "      <td>-0.761481</td>\n",
       "      <td>0.625714</td>\n",
       "    </tr>\n",
       "    <tr>\n",
       "      <th>6</th>\n",
       "      <td>0.165645</td>\n",
       "      <td>0.264831</td>\n",
       "      <td>-0.509710</td>\n",
       "      <td>1.077768</td>\n",
       "      <td>-0.425345</td>\n",
       "      <td>0.250090</td>\n",
       "      <td>-0.654219</td>\n",
       "      <td>-0.119610</td>\n",
       "      <td>-0.727665</td>\n",
       "      <td>-0.615714</td>\n",
       "      <td>...</td>\n",
       "      <td>-0.218867</td>\n",
       "      <td>-0.692735</td>\n",
       "      <td>-0.599215</td>\n",
       "      <td>0.696229</td>\n",
       "      <td>0.141560</td>\n",
       "      <td>0.591028</td>\n",
       "      <td>-1.158001</td>\n",
       "      <td>0.291184</td>\n",
       "      <td>-0.614734</td>\n",
       "      <td>0.485707</td>\n",
       "    </tr>\n",
       "    <tr>\n",
       "      <th>8</th>\n",
       "      <td>-0.095233</td>\n",
       "      <td>-1.370873</td>\n",
       "      <td>-0.839040</td>\n",
       "      <td>-4.314838</td>\n",
       "      <td>-1.195991</td>\n",
       "      <td>-0.610216</td>\n",
       "      <td>-0.770214</td>\n",
       "      <td>-0.721881</td>\n",
       "      <td>-0.221659</td>\n",
       "      <td>-0.339991</td>\n",
       "      <td>...</td>\n",
       "      <td>-0.377626</td>\n",
       "      <td>-1.236615</td>\n",
       "      <td>-0.728352</td>\n",
       "      <td>0.713735</td>\n",
       "      <td>-0.963214</td>\n",
       "      <td>-1.710464</td>\n",
       "      <td>-0.999614</td>\n",
       "      <td>-0.365486</td>\n",
       "      <td>1.356778</td>\n",
       "      <td>0.448061</td>\n",
       "    </tr>\n",
       "    <tr>\n",
       "      <th>10</th>\n",
       "      <td>0.148252</td>\n",
       "      <td>-0.331936</td>\n",
       "      <td>0.366360</td>\n",
       "      <td>0.736860</td>\n",
       "      <td>-0.383989</td>\n",
       "      <td>-0.234152</td>\n",
       "      <td>-0.487775</td>\n",
       "      <td>-0.631611</td>\n",
       "      <td>-0.495809</td>\n",
       "      <td>-0.740644</td>\n",
       "      <td>...</td>\n",
       "      <td>-0.369039</td>\n",
       "      <td>-0.469183</td>\n",
       "      <td>-0.495678</td>\n",
       "      <td>0.654162</td>\n",
       "      <td>-0.687565</td>\n",
       "      <td>-0.826564</td>\n",
       "      <td>-0.826986</td>\n",
       "      <td>-0.029792</td>\n",
       "      <td>-0.510252</td>\n",
       "      <td>0.670688</td>\n",
       "    </tr>\n",
       "    <tr>\n",
       "      <th>12</th>\n",
       "      <td>0.035439</td>\n",
       "      <td>1.041481</td>\n",
       "      <td>-1.744034</td>\n",
       "      <td>0.019092</td>\n",
       "      <td>-0.430541</td>\n",
       "      <td>-2.133707</td>\n",
       "      <td>-0.908174</td>\n",
       "      <td>-1.153104</td>\n",
       "      <td>0.155853</td>\n",
       "      <td>-1.179675</td>\n",
       "      <td>...</td>\n",
       "      <td>-0.809256</td>\n",
       "      <td>-0.664177</td>\n",
       "      <td>-0.946433</td>\n",
       "      <td>-0.291912</td>\n",
       "      <td>-0.339503</td>\n",
       "      <td>-0.684839</td>\n",
       "      <td>-0.754791</td>\n",
       "      <td>-0.726066</td>\n",
       "      <td>1.070167</td>\n",
       "      <td>0.992162</td>\n",
       "    </tr>\n",
       "    <tr>\n",
       "      <th>14</th>\n",
       "      <td>-1.114506</td>\n",
       "      <td>0.050344</td>\n",
       "      <td>-0.873093</td>\n",
       "      <td>-1.034582</td>\n",
       "      <td>-1.141454</td>\n",
       "      <td>-1.043785</td>\n",
       "      <td>-0.675667</td>\n",
       "      <td>-1.404475</td>\n",
       "      <td>-1.003122</td>\n",
       "      <td>-0.686876</td>\n",
       "      <td>...</td>\n",
       "      <td>-0.648799</td>\n",
       "      <td>-1.136744</td>\n",
       "      <td>-1.191101</td>\n",
       "      <td>-0.336927</td>\n",
       "      <td>-1.544037</td>\n",
       "      <td>-1.864867</td>\n",
       "      <td>-1.628406</td>\n",
       "      <td>-0.353033</td>\n",
       "      <td>-0.493147</td>\n",
       "      <td>1.222461</td>\n",
       "    </tr>\n",
       "    <tr>\n",
       "      <th>...</th>\n",
       "      <th>...</th>\n",
       "      <td>...</td>\n",
       "      <td>...</td>\n",
       "      <td>...</td>\n",
       "      <td>...</td>\n",
       "      <td>...</td>\n",
       "      <td>...</td>\n",
       "      <td>...</td>\n",
       "      <td>...</td>\n",
       "      <td>...</td>\n",
       "      <td>...</td>\n",
       "      <td>...</td>\n",
       "      <td>...</td>\n",
       "      <td>...</td>\n",
       "      <td>...</td>\n",
       "      <td>...</td>\n",
       "      <td>...</td>\n",
       "      <td>...</td>\n",
       "      <td>...</td>\n",
       "      <td>...</td>\n",
       "      <td>...</td>\n",
       "      <td>...</td>\n",
       "    </tr>\n",
       "    <tr>\n",
       "      <th rowspan=\"7\" valign=\"top\">Mock:C</th>\n",
       "      <th>34</th>\n",
       "      <td>-0.583629</td>\n",
       "      <td>-0.705241</td>\n",
       "      <td>0.951077</td>\n",
       "      <td>-0.919976</td>\n",
       "      <td>1.315078</td>\n",
       "      <td>2.246261</td>\n",
       "      <td>1.776691</td>\n",
       "      <td>1.474759</td>\n",
       "      <td>0.950792</td>\n",
       "      <td>1.688540</td>\n",
       "      <td>...</td>\n",
       "      <td>1.963776</td>\n",
       "      <td>2.090890</td>\n",
       "      <td>1.941644</td>\n",
       "      <td>-0.991940</td>\n",
       "      <td>0.861030</td>\n",
       "      <td>-0.046060</td>\n",
       "      <td>1.730653</td>\n",
       "      <td>-1.669626</td>\n",
       "      <td>-1.617973</td>\n",
       "      <td>-1.486169</td>\n",
       "    </tr>\n",
       "    <tr>\n",
       "      <th>36</th>\n",
       "      <td>-0.837824</td>\n",
       "      <td>0.203008</td>\n",
       "      <td>-1.391861</td>\n",
       "      <td>0.103357</td>\n",
       "      <td>0.707469</td>\n",
       "      <td>-0.376722</td>\n",
       "      <td>0.916702</td>\n",
       "      <td>0.161179</td>\n",
       "      <td>-0.270492</td>\n",
       "      <td>0.209808</td>\n",
       "      <td>...</td>\n",
       "      <td>0.396718</td>\n",
       "      <td>0.951638</td>\n",
       "      <td>0.482024</td>\n",
       "      <td>-0.741392</td>\n",
       "      <td>0.333450</td>\n",
       "      <td>-0.252709</td>\n",
       "      <td>0.703798</td>\n",
       "      <td>-0.105757</td>\n",
       "      <td>0.489771</td>\n",
       "      <td>-0.248266</td>\n",
       "    </tr>\n",
       "    <tr>\n",
       "      <th>38</th>\n",
       "      <td>-0.854144</td>\n",
       "      <td>-1.053210</td>\n",
       "      <td>0.704545</td>\n",
       "      <td>0.477735</td>\n",
       "      <td>1.483487</td>\n",
       "      <td>1.295996</td>\n",
       "      <td>1.983664</td>\n",
       "      <td>1.417408</td>\n",
       "      <td>1.530929</td>\n",
       "      <td>1.975724</td>\n",
       "      <td>...</td>\n",
       "      <td>1.853467</td>\n",
       "      <td>2.320452</td>\n",
       "      <td>1.818869</td>\n",
       "      <td>-1.586291</td>\n",
       "      <td>0.244248</td>\n",
       "      <td>1.188838</td>\n",
       "      <td>1.507832</td>\n",
       "      <td>-1.753899</td>\n",
       "      <td>-1.056452</td>\n",
       "      <td>-0.930389</td>\n",
       "    </tr>\n",
       "    <tr>\n",
       "      <th>40</th>\n",
       "      <td>-0.685294</td>\n",
       "      <td>-1.142034</td>\n",
       "      <td>0.040825</td>\n",
       "      <td>-0.188245</td>\n",
       "      <td>1.333197</td>\n",
       "      <td>1.684545</td>\n",
       "      <td>2.157940</td>\n",
       "      <td>1.329663</td>\n",
       "      <td>1.346511</td>\n",
       "      <td>1.479527</td>\n",
       "      <td>...</td>\n",
       "      <td>1.587885</td>\n",
       "      <td>1.808542</td>\n",
       "      <td>1.062126</td>\n",
       "      <td>-1.988052</td>\n",
       "      <td>-0.028530</td>\n",
       "      <td>-0.420378</td>\n",
       "      <td>1.272183</td>\n",
       "      <td>-1.683878</td>\n",
       "      <td>-1.158649</td>\n",
       "      <td>-0.903871</td>\n",
       "    </tr>\n",
       "    <tr>\n",
       "      <th>42</th>\n",
       "      <td>-1.316891</td>\n",
       "      <td>-0.152391</td>\n",
       "      <td>1.645528</td>\n",
       "      <td>0.244850</td>\n",
       "      <td>1.947836</td>\n",
       "      <td>0.259728</td>\n",
       "      <td>2.216136</td>\n",
       "      <td>0.930803</td>\n",
       "      <td>0.410349</td>\n",
       "      <td>1.073103</td>\n",
       "      <td>...</td>\n",
       "      <td>1.410368</td>\n",
       "      <td>1.446532</td>\n",
       "      <td>1.431060</td>\n",
       "      <td>-1.994756</td>\n",
       "      <td>-0.624063</td>\n",
       "      <td>-0.536788</td>\n",
       "      <td>1.681604</td>\n",
       "      <td>-1.238817</td>\n",
       "      <td>-1.743066</td>\n",
       "      <td>-1.003109</td>\n",
       "    </tr>\n",
       "    <tr>\n",
       "      <th>44</th>\n",
       "      <td>-0.544141</td>\n",
       "      <td>-1.637163</td>\n",
       "      <td>0.491135</td>\n",
       "      <td>0.504255</td>\n",
       "      <td>1.919988</td>\n",
       "      <td>0.740511</td>\n",
       "      <td>2.285248</td>\n",
       "      <td>1.059208</td>\n",
       "      <td>0.548813</td>\n",
       "      <td>1.354675</td>\n",
       "      <td>...</td>\n",
       "      <td>1.902823</td>\n",
       "      <td>2.761976</td>\n",
       "      <td>1.275922</td>\n",
       "      <td>-1.754153</td>\n",
       "      <td>-0.043143</td>\n",
       "      <td>1.527406</td>\n",
       "      <td>2.086318</td>\n",
       "      <td>-0.378149</td>\n",
       "      <td>-1.582963</td>\n",
       "      <td>-0.699075</td>\n",
       "    </tr>\n",
       "    <tr>\n",
       "      <th>46</th>\n",
       "      <td>-1.306591</td>\n",
       "      <td>-0.737239</td>\n",
       "      <td>0.407031</td>\n",
       "      <td>0.176154</td>\n",
       "      <td>1.229720</td>\n",
       "      <td>1.077774</td>\n",
       "      <td>1.947842</td>\n",
       "      <td>0.759042</td>\n",
       "      <td>0.101104</td>\n",
       "      <td>1.454054</td>\n",
       "      <td>...</td>\n",
       "      <td>1.435474</td>\n",
       "      <td>1.723063</td>\n",
       "      <td>1.424696</td>\n",
       "      <td>-1.850808</td>\n",
       "      <td>-0.110858</td>\n",
       "      <td>-0.025145</td>\n",
       "      <td>1.328988</td>\n",
       "      <td>-1.646424</td>\n",
       "      <td>-2.028375</td>\n",
       "      <td>-1.701789</td>\n",
       "    </tr>\n",
       "    <tr>\n",
       "      <th rowspan=\"23\" valign=\"top\">Mock:D</th>\n",
       "      <th>2</th>\n",
       "      <td>-1.136219</td>\n",
       "      <td>1.040786</td>\n",
       "      <td>1.075453</td>\n",
       "      <td>-1.600462</td>\n",
       "      <td>-0.406147</td>\n",
       "      <td>1.051576</td>\n",
       "      <td>-0.437067</td>\n",
       "      <td>0.328301</td>\n",
       "      <td>-0.865992</td>\n",
       "      <td>-0.262761</td>\n",
       "      <td>...</td>\n",
       "      <td>-0.430566</td>\n",
       "      <td>-1.123612</td>\n",
       "      <td>-0.232359</td>\n",
       "      <td>1.287569</td>\n",
       "      <td>0.794316</td>\n",
       "      <td>0.507947</td>\n",
       "      <td>-1.074412</td>\n",
       "      <td>1.399401</td>\n",
       "      <td>0.077694</td>\n",
       "      <td>0.583122</td>\n",
       "    </tr>\n",
       "    <tr>\n",
       "      <th>4</th>\n",
       "      <td>-0.715827</td>\n",
       "      <td>-0.039095</td>\n",
       "      <td>0.557255</td>\n",
       "      <td>-0.195850</td>\n",
       "      <td>-0.247657</td>\n",
       "      <td>-0.631337</td>\n",
       "      <td>-0.415860</td>\n",
       "      <td>-0.051916</td>\n",
       "      <td>-0.299974</td>\n",
       "      <td>-0.596442</td>\n",
       "      <td>...</td>\n",
       "      <td>-0.156751</td>\n",
       "      <td>-0.764678</td>\n",
       "      <td>-0.483267</td>\n",
       "      <td>0.889270</td>\n",
       "      <td>-0.069287</td>\n",
       "      <td>-0.039591</td>\n",
       "      <td>-0.680573</td>\n",
       "      <td>0.139959</td>\n",
       "      <td>-1.002259</td>\n",
       "      <td>-0.195060</td>\n",
       "    </tr>\n",
       "    <tr>\n",
       "      <th>6</th>\n",
       "      <td>1.682788</td>\n",
       "      <td>1.858123</td>\n",
       "      <td>0.220498</td>\n",
       "      <td>-0.781151</td>\n",
       "      <td>-0.197702</td>\n",
       "      <td>0.005106</td>\n",
       "      <td>-0.580554</td>\n",
       "      <td>0.261999</td>\n",
       "      <td>-1.107492</td>\n",
       "      <td>-0.426465</td>\n",
       "      <td>...</td>\n",
       "      <td>-0.082459</td>\n",
       "      <td>-0.748288</td>\n",
       "      <td>-0.667068</td>\n",
       "      <td>1.087820</td>\n",
       "      <td>-0.408920</td>\n",
       "      <td>0.549921</td>\n",
       "      <td>-0.706900</td>\n",
       "      <td>-0.426989</td>\n",
       "      <td>0.655569</td>\n",
       "      <td>0.449790</td>\n",
       "    </tr>\n",
       "    <tr>\n",
       "      <th>8</th>\n",
       "      <td>1.403598</td>\n",
       "      <td>0.521354</td>\n",
       "      <td>0.619227</td>\n",
       "      <td>0.378603</td>\n",
       "      <td>-0.275711</td>\n",
       "      <td>-0.122031</td>\n",
       "      <td>-0.362780</td>\n",
       "      <td>0.696718</td>\n",
       "      <td>-0.939464</td>\n",
       "      <td>-0.093802</td>\n",
       "      <td>...</td>\n",
       "      <td>-0.096104</td>\n",
       "      <td>-0.347338</td>\n",
       "      <td>-0.230218</td>\n",
       "      <td>0.612373</td>\n",
       "      <td>-0.698523</td>\n",
       "      <td>0.563095</td>\n",
       "      <td>-0.944318</td>\n",
       "      <td>-0.297579</td>\n",
       "      <td>0.876574</td>\n",
       "      <td>0.192851</td>\n",
       "    </tr>\n",
       "    <tr>\n",
       "      <th>10</th>\n",
       "      <td>0.097377</td>\n",
       "      <td>-0.159891</td>\n",
       "      <td>-0.657865</td>\n",
       "      <td>-0.898869</td>\n",
       "      <td>-0.695649</td>\n",
       "      <td>-0.139357</td>\n",
       "      <td>-0.614771</td>\n",
       "      <td>-0.829396</td>\n",
       "      <td>-0.582078</td>\n",
       "      <td>-0.928635</td>\n",
       "      <td>...</td>\n",
       "      <td>-0.461014</td>\n",
       "      <td>-0.766209</td>\n",
       "      <td>-0.701299</td>\n",
       "      <td>0.647682</td>\n",
       "      <td>-0.872208</td>\n",
       "      <td>-0.208204</td>\n",
       "      <td>-1.019913</td>\n",
       "      <td>-0.337555</td>\n",
       "      <td>0.435680</td>\n",
       "      <td>0.362336</td>\n",
       "    </tr>\n",
       "    <tr>\n",
       "      <th>12</th>\n",
       "      <td>-0.091661</td>\n",
       "      <td>0.236883</td>\n",
       "      <td>0.863272</td>\n",
       "      <td>0.028644</td>\n",
       "      <td>-0.430561</td>\n",
       "      <td>0.119809</td>\n",
       "      <td>-0.725957</td>\n",
       "      <td>-1.515131</td>\n",
       "      <td>-0.101208</td>\n",
       "      <td>-1.050268</td>\n",
       "      <td>...</td>\n",
       "      <td>-0.854448</td>\n",
       "      <td>-1.209156</td>\n",
       "      <td>-0.299502</td>\n",
       "      <td>0.698592</td>\n",
       "      <td>-0.874860</td>\n",
       "      <td>-0.505591</td>\n",
       "      <td>-1.380784</td>\n",
       "      <td>0.082038</td>\n",
       "      <td>1.277758</td>\n",
       "      <td>0.926682</td>\n",
       "    </tr>\n",
       "    <tr>\n",
       "      <th>14</th>\n",
       "      <td>-0.322104</td>\n",
       "      <td>0.514984</td>\n",
       "      <td>-1.112172</td>\n",
       "      <td>0.114483</td>\n",
       "      <td>-0.635438</td>\n",
       "      <td>0.490053</td>\n",
       "      <td>-0.573791</td>\n",
       "      <td>-0.583401</td>\n",
       "      <td>0.186034</td>\n",
       "      <td>-1.051934</td>\n",
       "      <td>...</td>\n",
       "      <td>-0.407692</td>\n",
       "      <td>-0.752922</td>\n",
       "      <td>-0.450086</td>\n",
       "      <td>-0.119686</td>\n",
       "      <td>0.676243</td>\n",
       "      <td>-1.436911</td>\n",
       "      <td>-0.768420</td>\n",
       "      <td>0.454182</td>\n",
       "      <td>-0.324554</td>\n",
       "      <td>0.664853</td>\n",
       "    </tr>\n",
       "    <tr>\n",
       "      <th>16</th>\n",
       "      <td>0.467650</td>\n",
       "      <td>0.919307</td>\n",
       "      <td>-0.163467</td>\n",
       "      <td>1.025463</td>\n",
       "      <td>-0.825046</td>\n",
       "      <td>-0.562718</td>\n",
       "      <td>-0.422107</td>\n",
       "      <td>-1.155675</td>\n",
       "      <td>0.071054</td>\n",
       "      <td>-1.094337</td>\n",
       "      <td>...</td>\n",
       "      <td>-0.624751</td>\n",
       "      <td>-0.426256</td>\n",
       "      <td>-0.918281</td>\n",
       "      <td>-0.269133</td>\n",
       "      <td>-0.654780</td>\n",
       "      <td>-2.047694</td>\n",
       "      <td>-0.486762</td>\n",
       "      <td>-0.259849</td>\n",
       "      <td>1.254662</td>\n",
       "      <td>1.042606</td>\n",
       "    </tr>\n",
       "    <tr>\n",
       "      <th>18</th>\n",
       "      <td>0.564302</td>\n",
       "      <td>0.801348</td>\n",
       "      <td>-0.329377</td>\n",
       "      <td>0.271457</td>\n",
       "      <td>0.394120</td>\n",
       "      <td>0.023457</td>\n",
       "      <td>-0.738391</td>\n",
       "      <td>-0.434989</td>\n",
       "      <td>-0.853479</td>\n",
       "      <td>-0.277098</td>\n",
       "      <td>...</td>\n",
       "      <td>-0.096743</td>\n",
       "      <td>-0.298883</td>\n",
       "      <td>0.526028</td>\n",
       "      <td>-0.413216</td>\n",
       "      <td>0.997291</td>\n",
       "      <td>-1.592077</td>\n",
       "      <td>0.492633</td>\n",
       "      <td>0.846009</td>\n",
       "      <td>0.848639</td>\n",
       "      <td>1.066546</td>\n",
       "    </tr>\n",
       "    <tr>\n",
       "      <th>20</th>\n",
       "      <td>0.279039</td>\n",
       "      <td>-0.893018</td>\n",
       "      <td>-0.368949</td>\n",
       "      <td>1.339408</td>\n",
       "      <td>0.020767</td>\n",
       "      <td>0.337422</td>\n",
       "      <td>-0.453519</td>\n",
       "      <td>-0.405268</td>\n",
       "      <td>0.164118</td>\n",
       "      <td>0.068440</td>\n",
       "      <td>...</td>\n",
       "      <td>0.137843</td>\n",
       "      <td>-0.961530</td>\n",
       "      <td>-0.527993</td>\n",
       "      <td>-0.568665</td>\n",
       "      <td>0.207369</td>\n",
       "      <td>0.578645</td>\n",
       "      <td>-0.857361</td>\n",
       "      <td>-0.720517</td>\n",
       "      <td>0.914533</td>\n",
       "      <td>0.466274</td>\n",
       "    </tr>\n",
       "    <tr>\n",
       "      <th>22</th>\n",
       "      <td>0.425142</td>\n",
       "      <td>1.642539</td>\n",
       "      <td>-1.156958</td>\n",
       "      <td>-0.288840</td>\n",
       "      <td>0.137871</td>\n",
       "      <td>1.335790</td>\n",
       "      <td>-0.516491</td>\n",
       "      <td>-0.308340</td>\n",
       "      <td>0.580382</td>\n",
       "      <td>-0.326223</td>\n",
       "      <td>...</td>\n",
       "      <td>-0.044815</td>\n",
       "      <td>-0.328686</td>\n",
       "      <td>0.309961</td>\n",
       "      <td>0.485094</td>\n",
       "      <td>1.344872</td>\n",
       "      <td>-0.013577</td>\n",
       "      <td>0.109163</td>\n",
       "      <td>1.108627</td>\n",
       "      <td>-0.700974</td>\n",
       "      <td>0.343198</td>\n",
       "    </tr>\n",
       "    <tr>\n",
       "      <th>24</th>\n",
       "      <td>-1.304963</td>\n",
       "      <td>1.196165</td>\n",
       "      <td>0.260375</td>\n",
       "      <td>0.620461</td>\n",
       "      <td>1.310414</td>\n",
       "      <td>-0.051044</td>\n",
       "      <td>0.215155</td>\n",
       "      <td>1.402511</td>\n",
       "      <td>1.434305</td>\n",
       "      <td>1.510552</td>\n",
       "      <td>...</td>\n",
       "      <td>1.112783</td>\n",
       "      <td>-0.091178</td>\n",
       "      <td>1.986549</td>\n",
       "      <td>0.936644</td>\n",
       "      <td>3.092071</td>\n",
       "      <td>1.462556</td>\n",
       "      <td>1.812944</td>\n",
       "      <td>1.537006</td>\n",
       "      <td>0.584458</td>\n",
       "      <td>-1.229057</td>\n",
       "    </tr>\n",
       "    <tr>\n",
       "      <th>26</th>\n",
       "      <td>-1.599202</td>\n",
       "      <td>-0.201134</td>\n",
       "      <td>0.637331</td>\n",
       "      <td>0.319790</td>\n",
       "      <td>1.575126</td>\n",
       "      <td>0.542793</td>\n",
       "      <td>0.416183</td>\n",
       "      <td>1.517564</td>\n",
       "      <td>1.794146</td>\n",
       "      <td>1.981794</td>\n",
       "      <td>...</td>\n",
       "      <td>1.456222</td>\n",
       "      <td>0.018055</td>\n",
       "      <td>1.658571</td>\n",
       "      <td>0.312426</td>\n",
       "      <td>2.052838</td>\n",
       "      <td>0.744797</td>\n",
       "      <td>1.969009</td>\n",
       "      <td>1.297345</td>\n",
       "      <td>-0.101850</td>\n",
       "      <td>-2.192473</td>\n",
       "    </tr>\n",
       "    <tr>\n",
       "      <th>28</th>\n",
       "      <td>-0.673824</td>\n",
       "      <td>-1.389916</td>\n",
       "      <td>2.238813</td>\n",
       "      <td>-0.965496</td>\n",
       "      <td>1.536996</td>\n",
       "      <td>0.160999</td>\n",
       "      <td>0.844351</td>\n",
       "      <td>1.758583</td>\n",
       "      <td>1.676327</td>\n",
       "      <td>1.823202</td>\n",
       "      <td>...</td>\n",
       "      <td>1.576194</td>\n",
       "      <td>1.159772</td>\n",
       "      <td>2.054463</td>\n",
       "      <td>-0.478347</td>\n",
       "      <td>1.764733</td>\n",
       "      <td>1.200916</td>\n",
       "      <td>1.621132</td>\n",
       "      <td>1.077162</td>\n",
       "      <td>-1.814036</td>\n",
       "      <td>-0.621327</td>\n",
       "    </tr>\n",
       "    <tr>\n",
       "      <th>30</th>\n",
       "      <td>-0.511834</td>\n",
       "      <td>-0.565398</td>\n",
       "      <td>0.487652</td>\n",
       "      <td>0.369213</td>\n",
       "      <td>1.503737</td>\n",
       "      <td>1.522270</td>\n",
       "      <td>0.737670</td>\n",
       "      <td>1.801740</td>\n",
       "      <td>3.114260</td>\n",
       "      <td>1.821695</td>\n",
       "      <td>...</td>\n",
       "      <td>1.479506</td>\n",
       "      <td>-0.216133</td>\n",
       "      <td>1.894160</td>\n",
       "      <td>-0.188697</td>\n",
       "      <td>2.285112</td>\n",
       "      <td>0.234023</td>\n",
       "      <td>1.513313</td>\n",
       "      <td>0.276444</td>\n",
       "      <td>-0.709664</td>\n",
       "      <td>-1.488371</td>\n",
       "    </tr>\n",
       "    <tr>\n",
       "      <th>32</th>\n",
       "      <td>-0.342761</td>\n",
       "      <td>-1.676135</td>\n",
       "      <td>0.485202</td>\n",
       "      <td>0.851437</td>\n",
       "      <td>1.310303</td>\n",
       "      <td>1.858716</td>\n",
       "      <td>1.208296</td>\n",
       "      <td>1.693062</td>\n",
       "      <td>1.578897</td>\n",
       "      <td>1.647174</td>\n",
       "      <td>...</td>\n",
       "      <td>1.539754</td>\n",
       "      <td>1.248337</td>\n",
       "      <td>1.851379</td>\n",
       "      <td>-1.712529</td>\n",
       "      <td>0.410026</td>\n",
       "      <td>-0.117608</td>\n",
       "      <td>1.569306</td>\n",
       "      <td>-1.569693</td>\n",
       "      <td>-0.201913</td>\n",
       "      <td>-1.062984</td>\n",
       "    </tr>\n",
       "    <tr>\n",
       "      <th>34</th>\n",
       "      <td>-0.659265</td>\n",
       "      <td>-0.564693</td>\n",
       "      <td>-0.273837</td>\n",
       "      <td>0.411528</td>\n",
       "      <td>1.272236</td>\n",
       "      <td>1.453992</td>\n",
       "      <td>1.412805</td>\n",
       "      <td>1.595635</td>\n",
       "      <td>1.370053</td>\n",
       "      <td>1.233589</td>\n",
       "      <td>...</td>\n",
       "      <td>1.622958</td>\n",
       "      <td>1.447107</td>\n",
       "      <td>1.356636</td>\n",
       "      <td>-1.174464</td>\n",
       "      <td>0.657846</td>\n",
       "      <td>-0.974434</td>\n",
       "      <td>1.262628</td>\n",
       "      <td>-1.245517</td>\n",
       "      <td>-0.192310</td>\n",
       "      <td>-0.590066</td>\n",
       "    </tr>\n",
       "    <tr>\n",
       "      <th>36</th>\n",
       "      <td>-0.834555</td>\n",
       "      <td>0.144479</td>\n",
       "      <td>0.684008</td>\n",
       "      <td>-0.107405</td>\n",
       "      <td>1.717908</td>\n",
       "      <td>-0.042871</td>\n",
       "      <td>2.338723</td>\n",
       "      <td>1.833794</td>\n",
       "      <td>1.638067</td>\n",
       "      <td>1.516743</td>\n",
       "      <td>...</td>\n",
       "      <td>1.294815</td>\n",
       "      <td>2.382346</td>\n",
       "      <td>1.126628</td>\n",
       "      <td>-0.600194</td>\n",
       "      <td>1.203298</td>\n",
       "      <td>0.634403</td>\n",
       "      <td>1.118004</td>\n",
       "      <td>-1.303521</td>\n",
       "      <td>-0.830385</td>\n",
       "      <td>-0.634914</td>\n",
       "    </tr>\n",
       "    <tr>\n",
       "      <th>38</th>\n",
       "      <td>-0.032315</td>\n",
       "      <td>-0.061978</td>\n",
       "      <td>1.137494</td>\n",
       "      <td>0.498924</td>\n",
       "      <td>2.311958</td>\n",
       "      <td>0.907984</td>\n",
       "      <td>1.872042</td>\n",
       "      <td>1.532917</td>\n",
       "      <td>2.137608</td>\n",
       "      <td>1.793752</td>\n",
       "      <td>...</td>\n",
       "      <td>1.752226</td>\n",
       "      <td>1.588651</td>\n",
       "      <td>1.905221</td>\n",
       "      <td>-0.879015</td>\n",
       "      <td>0.357073</td>\n",
       "      <td>-1.325458</td>\n",
       "      <td>1.889045</td>\n",
       "      <td>-1.252600</td>\n",
       "      <td>-0.686956</td>\n",
       "      <td>-0.659257</td>\n",
       "    </tr>\n",
       "    <tr>\n",
       "      <th>40</th>\n",
       "      <td>-0.988220</td>\n",
       "      <td>-0.999283</td>\n",
       "      <td>-0.292608</td>\n",
       "      <td>1.015204</td>\n",
       "      <td>1.385263</td>\n",
       "      <td>0.677418</td>\n",
       "      <td>2.177314</td>\n",
       "      <td>1.317935</td>\n",
       "      <td>1.382697</td>\n",
       "      <td>1.653612</td>\n",
       "      <td>...</td>\n",
       "      <td>1.696212</td>\n",
       "      <td>1.930926</td>\n",
       "      <td>1.458436</td>\n",
       "      <td>-1.726963</td>\n",
       "      <td>0.323846</td>\n",
       "      <td>-0.201089</td>\n",
       "      <td>1.306792</td>\n",
       "      <td>-1.531176</td>\n",
       "      <td>-0.317299</td>\n",
       "      <td>-1.228170</td>\n",
       "    </tr>\n",
       "    <tr>\n",
       "      <th>42</th>\n",
       "      <td>-0.734723</td>\n",
       "      <td>-1.954294</td>\n",
       "      <td>-0.504142</td>\n",
       "      <td>0.367244</td>\n",
       "      <td>1.049491</td>\n",
       "      <td>0.096703</td>\n",
       "      <td>2.220354</td>\n",
       "      <td>1.275423</td>\n",
       "      <td>1.023435</td>\n",
       "      <td>1.469242</td>\n",
       "      <td>...</td>\n",
       "      <td>1.541272</td>\n",
       "      <td>2.106073</td>\n",
       "      <td>1.110272</td>\n",
       "      <td>-1.787569</td>\n",
       "      <td>0.497134</td>\n",
       "      <td>-0.686684</td>\n",
       "      <td>1.271487</td>\n",
       "      <td>-1.387010</td>\n",
       "      <td>0.062669</td>\n",
       "      <td>-1.261824</td>\n",
       "    </tr>\n",
       "    <tr>\n",
       "      <th>44</th>\n",
       "      <td>-0.183527</td>\n",
       "      <td>-0.138208</td>\n",
       "      <td>0.346184</td>\n",
       "      <td>-1.142168</td>\n",
       "      <td>1.314550</td>\n",
       "      <td>-0.353247</td>\n",
       "      <td>1.945981</td>\n",
       "      <td>1.053155</td>\n",
       "      <td>1.336857</td>\n",
       "      <td>1.322765</td>\n",
       "      <td>...</td>\n",
       "      <td>1.662547</td>\n",
       "      <td>1.713970</td>\n",
       "      <td>1.022954</td>\n",
       "      <td>-2.118195</td>\n",
       "      <td>-0.544962</td>\n",
       "      <td>0.972260</td>\n",
       "      <td>1.356933</td>\n",
       "      <td>-1.412258</td>\n",
       "      <td>-0.713456</td>\n",
       "      <td>-0.532793</td>\n",
       "    </tr>\n",
       "    <tr>\n",
       "      <th>46</th>\n",
       "      <td>-0.872434</td>\n",
       "      <td>-0.106360</td>\n",
       "      <td>-0.163320</td>\n",
       "      <td>-0.547186</td>\n",
       "      <td>1.580728</td>\n",
       "      <td>-0.058807</td>\n",
       "      <td>2.329210</td>\n",
       "      <td>0.836936</td>\n",
       "      <td>0.529327</td>\n",
       "      <td>1.207495</td>\n",
       "      <td>...</td>\n",
       "      <td>1.307455</td>\n",
       "      <td>1.649193</td>\n",
       "      <td>1.071663</td>\n",
       "      <td>-1.229649</td>\n",
       "      <td>0.454903</td>\n",
       "      <td>-3.643992</td>\n",
       "      <td>1.650787</td>\n",
       "      <td>-0.570943</td>\n",
       "      <td>-0.416613</td>\n",
       "      <td>-1.193596</td>\n",
       "    </tr>\n",
       "  </tbody>\n",
       "</table>\n",
       "<p>184 rows × 96 columns</p>\n",
       "</div>"
      ],
      "text/plain": [
       "                        AT4G34000  AT3G19290  AT2G40220  AT2G36270  AT1G01480  \\\n",
       "sample,replicate hours                                                          \n",
       "Botrytis:A       2      -1.005128   0.131742   0.491480  -0.634663  -0.553422   \n",
       "                 4      -0.901464   0.727480   0.487648   0.605025  -0.367126   \n",
       "                 6       1.476983   1.318623  -0.925644   0.615760  -0.296208   \n",
       "                 8       0.789920   0.008204  -0.452926   0.556027  -0.452172   \n",
       "                 10      2.220758   0.542562  -0.567622   0.410010  -0.643295   \n",
       "                 12     -0.742055   0.486430  -0.366723  -0.197133  -0.225244   \n",
       "                 14     -0.698624   0.632142  -0.601311  -1.660394  -0.394703   \n",
       "                 16      1.105240  -0.009641   1.216349   0.390508  -0.598818   \n",
       "                 18      0.132847   0.129336  -0.150605  -0.450886  -0.750061   \n",
       "                 20      1.366016   0.220571  -0.885360   1.113928  -1.075408   \n",
       "                 22      0.292972   2.635230  -0.494566  -0.254652  -0.609860   \n",
       "                 24      0.485219   0.404590   2.465125   0.375521  -0.579675   \n",
       "                 26      0.006670   0.446896   0.892726  -0.171675  -1.041443   \n",
       "                 28     -0.829932  -0.703055   1.529133   0.142198   0.078592   \n",
       "                 30      1.738602   0.638971  -0.114106   0.359189  -0.865597   \n",
       "                 32      1.313264  -0.097418  -0.351060  -0.332384  -0.751938   \n",
       "                 34      0.083945  -0.280589  -0.804481   0.051813  -0.321327   \n",
       "                 36     -0.477393   0.090701  -0.554374   0.536009  -0.576480   \n",
       "                 38      2.177634   2.003104   0.061641   0.481684  -0.046673   \n",
       "                 40      0.242574   0.654963  -0.626832   0.470467  -0.430387   \n",
       "                 42      1.133351   0.570847  -0.485343   0.534318  -0.677429   \n",
       "                 44      1.228888   0.187431  -1.132619   0.445798  -0.478190   \n",
       "                 46      1.393030   0.549945  -1.580732   0.227463  -0.868053   \n",
       "Botrytis:B       2      -1.003921   0.066419   1.030061  -0.277679  -0.884107   \n",
       "                 4      -0.267215   0.605971  -1.057123   0.464547  -0.580061   \n",
       "                 6       0.165645   0.264831  -0.509710   1.077768  -0.425345   \n",
       "                 8      -0.095233  -1.370873  -0.839040  -4.314838  -1.195991   \n",
       "                 10      0.148252  -0.331936   0.366360   0.736860  -0.383989   \n",
       "                 12      0.035439   1.041481  -1.744034   0.019092  -0.430541   \n",
       "                 14     -1.114506   0.050344  -0.873093  -1.034582  -1.141454   \n",
       "...                           ...        ...        ...        ...        ...   \n",
       "Mock:C           34     -0.583629  -0.705241   0.951077  -0.919976   1.315078   \n",
       "                 36     -0.837824   0.203008  -1.391861   0.103357   0.707469   \n",
       "                 38     -0.854144  -1.053210   0.704545   0.477735   1.483487   \n",
       "                 40     -0.685294  -1.142034   0.040825  -0.188245   1.333197   \n",
       "                 42     -1.316891  -0.152391   1.645528   0.244850   1.947836   \n",
       "                 44     -0.544141  -1.637163   0.491135   0.504255   1.919988   \n",
       "                 46     -1.306591  -0.737239   0.407031   0.176154   1.229720   \n",
       "Mock:D           2      -1.136219   1.040786   1.075453  -1.600462  -0.406147   \n",
       "                 4      -0.715827  -0.039095   0.557255  -0.195850  -0.247657   \n",
       "                 6       1.682788   1.858123   0.220498  -0.781151  -0.197702   \n",
       "                 8       1.403598   0.521354   0.619227   0.378603  -0.275711   \n",
       "                 10      0.097377  -0.159891  -0.657865  -0.898869  -0.695649   \n",
       "                 12     -0.091661   0.236883   0.863272   0.028644  -0.430561   \n",
       "                 14     -0.322104   0.514984  -1.112172   0.114483  -0.635438   \n",
       "                 16      0.467650   0.919307  -0.163467   1.025463  -0.825046   \n",
       "                 18      0.564302   0.801348  -0.329377   0.271457   0.394120   \n",
       "                 20      0.279039  -0.893018  -0.368949   1.339408   0.020767   \n",
       "                 22      0.425142   1.642539  -1.156958  -0.288840   0.137871   \n",
       "                 24     -1.304963   1.196165   0.260375   0.620461   1.310414   \n",
       "                 26     -1.599202  -0.201134   0.637331   0.319790   1.575126   \n",
       "                 28     -0.673824  -1.389916   2.238813  -0.965496   1.536996   \n",
       "                 30     -0.511834  -0.565398   0.487652   0.369213   1.503737   \n",
       "                 32     -0.342761  -1.676135   0.485202   0.851437   1.310303   \n",
       "                 34     -0.659265  -0.564693  -0.273837   0.411528   1.272236   \n",
       "                 36     -0.834555   0.144479   0.684008  -0.107405   1.717908   \n",
       "                 38     -0.032315  -0.061978   1.137494   0.498924   2.311958   \n",
       "                 40     -0.988220  -0.999283  -0.292608   1.015204   1.385263   \n",
       "                 42     -0.734723  -1.954294  -0.504142   0.367244   1.049491   \n",
       "                 44     -0.183527  -0.138208   0.346184  -1.142168   1.314550   \n",
       "                 46     -0.872434  -0.106360  -0.163320  -0.547186   1.580728   \n",
       "\n",
       "                        AT2G37620  AT3G01420  AT1G52890  AT1G61110  AT3G56530  \\\n",
       "sample,replicate hours                                                          \n",
       "Botrytis:A       2      -0.041193  -0.459596  -0.835011  -0.814347  -0.388058   \n",
       "                 4       0.528851  -0.766497   0.712055  -0.122045  -0.600697   \n",
       "                 6       0.144064  -0.479367   0.432066  -0.406424  -0.235288   \n",
       "                 8       0.254001  -0.196882  -0.744258  -0.323429  -0.697230   \n",
       "                 10      0.169677  -0.668417  -0.066746  -0.519370  -0.388342   \n",
       "                 12     -0.180386  -0.662900  -1.460871  -0.811562  -0.761105   \n",
       "                 14      0.460758  -0.944165  -0.808666  -0.143559  -1.007598   \n",
       "                 16     -0.939533  -0.491494  -1.102190  -0.887298  -0.813251   \n",
       "                 18     -0.630108  -0.689212  -1.241857  -0.655120  -1.101940   \n",
       "                 20     -0.537627  -1.148954  -1.112815  -0.259096  -0.314687   \n",
       "                 22     -0.790360  -0.897353  -0.334692  -0.299141  -0.779724   \n",
       "                 24     -0.669862  -0.333582  -0.251335  -0.801860  -1.025858   \n",
       "                 26     -1.258565  -0.979191  -0.074725  -0.541177  -0.775565   \n",
       "                 28     -0.009694  -0.340020   0.579712   0.318626  -0.388392   \n",
       "                 30      0.255948  -0.511152   0.477468  -0.424106  -1.269199   \n",
       "                 32      1.365359  -0.384358  -0.297430  -0.197629   0.069942   \n",
       "                 34      0.361997  -0.342867  -0.609749   0.462497  -0.514447   \n",
       "                 36      0.075630  -0.219904  -0.898476  -0.527693  -0.377416   \n",
       "                 38      0.242226  -0.475141  -0.918968   0.426680  -0.187705   \n",
       "                 40     -0.447549  -0.114708  -1.153499  -2.273260  -0.318572   \n",
       "                 42     -0.289152  -0.277455  -0.909846  -0.582278  -0.101024   \n",
       "                 44     -0.019809  -0.127152  -0.426363  -0.252591   0.224152   \n",
       "                 46     -1.005849  -0.106496  -0.782245  -0.712100  -0.763120   \n",
       "Botrytis:B       2      -0.056190  -0.453611   0.034670  -0.698695   0.115541   \n",
       "                 4      -0.973904  -0.940589  -0.644430  -0.926626  -1.257745   \n",
       "                 6       0.250090  -0.654219  -0.119610  -0.727665  -0.615714   \n",
       "                 8      -0.610216  -0.770214  -0.721881  -0.221659  -0.339991   \n",
       "                 10     -0.234152  -0.487775  -0.631611  -0.495809  -0.740644   \n",
       "                 12     -2.133707  -0.908174  -1.153104   0.155853  -1.179675   \n",
       "                 14     -1.043785  -0.675667  -1.404475  -1.003122  -0.686876   \n",
       "...                           ...        ...        ...        ...        ...   \n",
       "Mock:C           34      2.246261   1.776691   1.474759   0.950792   1.688540   \n",
       "                 36     -0.376722   0.916702   0.161179  -0.270492   0.209808   \n",
       "                 38      1.295996   1.983664   1.417408   1.530929   1.975724   \n",
       "                 40      1.684545   2.157940   1.329663   1.346511   1.479527   \n",
       "                 42      0.259728   2.216136   0.930803   0.410349   1.073103   \n",
       "                 44      0.740511   2.285248   1.059208   0.548813   1.354675   \n",
       "                 46      1.077774   1.947842   0.759042   0.101104   1.454054   \n",
       "Mock:D           2       1.051576  -0.437067   0.328301  -0.865992  -0.262761   \n",
       "                 4      -0.631337  -0.415860  -0.051916  -0.299974  -0.596442   \n",
       "                 6       0.005106  -0.580554   0.261999  -1.107492  -0.426465   \n",
       "                 8      -0.122031  -0.362780   0.696718  -0.939464  -0.093802   \n",
       "                 10     -0.139357  -0.614771  -0.829396  -0.582078  -0.928635   \n",
       "                 12      0.119809  -0.725957  -1.515131  -0.101208  -1.050268   \n",
       "                 14      0.490053  -0.573791  -0.583401   0.186034  -1.051934   \n",
       "                 16     -0.562718  -0.422107  -1.155675   0.071054  -1.094337   \n",
       "                 18      0.023457  -0.738391  -0.434989  -0.853479  -0.277098   \n",
       "                 20      0.337422  -0.453519  -0.405268   0.164118   0.068440   \n",
       "                 22      1.335790  -0.516491  -0.308340   0.580382  -0.326223   \n",
       "                 24     -0.051044   0.215155   1.402511   1.434305   1.510552   \n",
       "                 26      0.542793   0.416183   1.517564   1.794146   1.981794   \n",
       "                 28      0.160999   0.844351   1.758583   1.676327   1.823202   \n",
       "                 30      1.522270   0.737670   1.801740   3.114260   1.821695   \n",
       "                 32      1.858716   1.208296   1.693062   1.578897   1.647174   \n",
       "                 34      1.453992   1.412805   1.595635   1.370053   1.233589   \n",
       "                 36     -0.042871   2.338723   1.833794   1.638067   1.516743   \n",
       "                 38      0.907984   1.872042   1.532917   2.137608   1.793752   \n",
       "                 40      0.677418   2.177314   1.317935   1.382697   1.653612   \n",
       "                 42      0.096703   2.220354   1.275423   1.023435   1.469242   \n",
       "                 44     -0.353247   1.945981   1.053155   1.336857   1.322765   \n",
       "                 46     -0.058807   2.329210   0.836936   0.529327   1.207495   \n",
       "\n",
       "                          ...      AT5G59820  AT1G17020  AT1G27730  AT1G22070  \\\n",
       "sample,replicate hours    ...                                                   \n",
       "Botrytis:A       2        ...      -0.298662  -0.924939  -0.677551   1.295117   \n",
       "                 4        ...       0.097892  -0.173180  -0.686545   1.069238   \n",
       "                 6        ...      -0.160608  -0.144959  -0.962877   0.941522   \n",
       "                 8        ...      -1.197098  -0.658355  -0.753891   0.624060   \n",
       "                 10       ...      -0.281315  -0.504426  -0.872495   0.594808   \n",
       "                 12       ...      -0.899190  -0.589962  -0.687490  -0.339168   \n",
       "                 14       ...      -0.501889  -2.725867  -0.842559  -0.506268   \n",
       "                 16       ...      -0.795597  -0.537926  -0.801382  -0.966911   \n",
       "                 18       ...      -0.850314  -0.391024  -1.046086  -0.832856   \n",
       "                 20       ...      -1.081717  -0.573583  -0.862656   0.100943   \n",
       "                 22       ...      -0.669157  -0.030260  -0.622009   0.847484   \n",
       "                 24       ...      -0.936366  -0.237727  -0.288417   1.107363   \n",
       "                 26       ...      -1.362544  -0.461065  -0.500345   1.630727   \n",
       "                 28       ...      -0.906889   0.214441   0.416076  -0.105542   \n",
       "                 30       ...      -0.895053  -1.473223  -0.570775   1.458709   \n",
       "                 32       ...      -0.610749   0.426708  -0.381864   0.700514   \n",
       "                 34       ...      -0.578194  -0.030752  -0.225640  -0.851316   \n",
       "                 36       ...      -0.928233  -0.217050  -0.720070  -0.594758   \n",
       "                 38       ...      -0.848192   0.423366  -0.868904   0.405017   \n",
       "                 40       ...      -0.933820  -0.655080  -0.427916  -0.585323   \n",
       "                 42       ...      -0.572778  -0.244384  -0.611319  -0.602644   \n",
       "                 44       ...      -0.417582   0.321167  -0.762533  -0.385433   \n",
       "                 46       ...      -0.859600  -0.357495  -0.805461   1.362303   \n",
       "Botrytis:B       2        ...       0.133334  -0.895671  -0.385131   0.701442   \n",
       "                 4        ...      -0.769305  -1.905368  -0.941592   1.016251   \n",
       "                 6        ...      -0.218867  -0.692735  -0.599215   0.696229   \n",
       "                 8        ...      -0.377626  -1.236615  -0.728352   0.713735   \n",
       "                 10       ...      -0.369039  -0.469183  -0.495678   0.654162   \n",
       "                 12       ...      -0.809256  -0.664177  -0.946433  -0.291912   \n",
       "                 14       ...      -0.648799  -1.136744  -1.191101  -0.336927   \n",
       "...                       ...            ...        ...        ...        ...   \n",
       "Mock:C           34       ...       1.963776   2.090890   1.941644  -0.991940   \n",
       "                 36       ...       0.396718   0.951638   0.482024  -0.741392   \n",
       "                 38       ...       1.853467   2.320452   1.818869  -1.586291   \n",
       "                 40       ...       1.587885   1.808542   1.062126  -1.988052   \n",
       "                 42       ...       1.410368   1.446532   1.431060  -1.994756   \n",
       "                 44       ...       1.902823   2.761976   1.275922  -1.754153   \n",
       "                 46       ...       1.435474   1.723063   1.424696  -1.850808   \n",
       "Mock:D           2        ...      -0.430566  -1.123612  -0.232359   1.287569   \n",
       "                 4        ...      -0.156751  -0.764678  -0.483267   0.889270   \n",
       "                 6        ...      -0.082459  -0.748288  -0.667068   1.087820   \n",
       "                 8        ...      -0.096104  -0.347338  -0.230218   0.612373   \n",
       "                 10       ...      -0.461014  -0.766209  -0.701299   0.647682   \n",
       "                 12       ...      -0.854448  -1.209156  -0.299502   0.698592   \n",
       "                 14       ...      -0.407692  -0.752922  -0.450086  -0.119686   \n",
       "                 16       ...      -0.624751  -0.426256  -0.918281  -0.269133   \n",
       "                 18       ...      -0.096743  -0.298883   0.526028  -0.413216   \n",
       "                 20       ...       0.137843  -0.961530  -0.527993  -0.568665   \n",
       "                 22       ...      -0.044815  -0.328686   0.309961   0.485094   \n",
       "                 24       ...       1.112783  -0.091178   1.986549   0.936644   \n",
       "                 26       ...       1.456222   0.018055   1.658571   0.312426   \n",
       "                 28       ...       1.576194   1.159772   2.054463  -0.478347   \n",
       "                 30       ...       1.479506  -0.216133   1.894160  -0.188697   \n",
       "                 32       ...       1.539754   1.248337   1.851379  -1.712529   \n",
       "                 34       ...       1.622958   1.447107   1.356636  -1.174464   \n",
       "                 36       ...       1.294815   2.382346   1.126628  -0.600194   \n",
       "                 38       ...       1.752226   1.588651   1.905221  -0.879015   \n",
       "                 40       ...       1.696212   1.930926   1.458436  -1.726963   \n",
       "                 42       ...       1.541272   2.106073   1.110272  -1.787569   \n",
       "                 44       ...       1.662547   1.713970   1.022954  -2.118195   \n",
       "                 46       ...       1.307455   1.649193   1.071663  -1.229649   \n",
       "\n",
       "                        AT1G80840  AT4G11070  AT3G01970  AT4G23810  AT5G08290  \\\n",
       "sample,replicate hours                                                          \n",
       "Botrytis:A       2       0.045053   0.059356  -1.438237   1.649450  -0.241468   \n",
       "                 4       0.952018  -0.522650  -0.434619   0.889520   0.240684   \n",
       "                 6       0.016348   1.174052  -0.986215   0.431442   0.250578   \n",
       "                 8      -1.051828   0.726299  -1.174665  -1.050028  -1.011571   \n",
       "                 10     -0.606226  -0.787850  -0.877906  -0.532133   1.143047   \n",
       "                 12     -1.028034   0.417204  -1.165970  -0.859405   0.182182   \n",
       "                 14     -0.268934  -0.210176  -0.825102  -0.058057   0.774592   \n",
       "                 16     -0.649500  -0.533203  -0.964446  -0.521606   1.390618   \n",
       "                 18     -0.826904   0.391690  -0.674049   0.188142   0.071401   \n",
       "                 20     -0.774141  -0.499340  -1.088177  -0.296252  -1.120886   \n",
       "                 22     -0.446548  -0.327884  -0.097639   0.293519   1.228132   \n",
       "                 24     -1.263584   0.653821  -0.285645  -0.610959   0.760142   \n",
       "                 26      0.477263   0.320243  -0.649716   2.251766   1.718757   \n",
       "                 28      0.538076   0.406708   0.303202   0.582035   0.293881   \n",
       "                 30      0.598298   0.107163  -0.652378   0.960630   0.133775   \n",
       "                 32     -0.882230  -0.039000  -0.407219  -0.173423   1.886225   \n",
       "                 34     -0.614776   0.234679  -0.223104  -0.118491   0.669068   \n",
       "                 36     -0.921586  -0.313716  -0.186188  -0.357186   0.058464   \n",
       "                 38     -0.295818   1.964506   0.209123  -0.388342   1.592259   \n",
       "                 40     -0.539472  -2.120072  -0.258362   0.828253   0.936153   \n",
       "                 42     -1.280374   0.532737   0.152638   0.220051  -0.269870   \n",
       "                 44     -0.254924  -0.045893  -0.114609  -0.599684   0.388787   \n",
       "                 46     -1.346235  -0.243626  -1.063040  -0.590807  -2.532266   \n",
       "Botrytis:B       2       0.581570  -0.082625  -0.931484   0.679031   0.720614   \n",
       "                 4       0.217438  -0.035675  -1.608464   0.691503  -0.761481   \n",
       "                 6       0.141560   0.591028  -1.158001   0.291184  -0.614734   \n",
       "                 8      -0.963214  -1.710464  -0.999614  -0.365486   1.356778   \n",
       "                 10     -0.687565  -0.826564  -0.826986  -0.029792  -0.510252   \n",
       "                 12     -0.339503  -0.684839  -0.754791  -0.726066   1.070167   \n",
       "                 14     -1.544037  -1.864867  -1.628406  -0.353033  -0.493147   \n",
       "...                           ...        ...        ...        ...        ...   \n",
       "Mock:C           34      0.861030  -0.046060   1.730653  -1.669626  -1.617973   \n",
       "                 36      0.333450  -0.252709   0.703798  -0.105757   0.489771   \n",
       "                 38      0.244248   1.188838   1.507832  -1.753899  -1.056452   \n",
       "                 40     -0.028530  -0.420378   1.272183  -1.683878  -1.158649   \n",
       "                 42     -0.624063  -0.536788   1.681604  -1.238817  -1.743066   \n",
       "                 44     -0.043143   1.527406   2.086318  -0.378149  -1.582963   \n",
       "                 46     -0.110858  -0.025145   1.328988  -1.646424  -2.028375   \n",
       "Mock:D           2       0.794316   0.507947  -1.074412   1.399401   0.077694   \n",
       "                 4      -0.069287  -0.039591  -0.680573   0.139959  -1.002259   \n",
       "                 6      -0.408920   0.549921  -0.706900  -0.426989   0.655569   \n",
       "                 8      -0.698523   0.563095  -0.944318  -0.297579   0.876574   \n",
       "                 10     -0.872208  -0.208204  -1.019913  -0.337555   0.435680   \n",
       "                 12     -0.874860  -0.505591  -1.380784   0.082038   1.277758   \n",
       "                 14      0.676243  -1.436911  -0.768420   0.454182  -0.324554   \n",
       "                 16     -0.654780  -2.047694  -0.486762  -0.259849   1.254662   \n",
       "                 18      0.997291  -1.592077   0.492633   0.846009   0.848639   \n",
       "                 20      0.207369   0.578645  -0.857361  -0.720517   0.914533   \n",
       "                 22      1.344872  -0.013577   0.109163   1.108627  -0.700974   \n",
       "                 24      3.092071   1.462556   1.812944   1.537006   0.584458   \n",
       "                 26      2.052838   0.744797   1.969009   1.297345  -0.101850   \n",
       "                 28      1.764733   1.200916   1.621132   1.077162  -1.814036   \n",
       "                 30      2.285112   0.234023   1.513313   0.276444  -0.709664   \n",
       "                 32      0.410026  -0.117608   1.569306  -1.569693  -0.201913   \n",
       "                 34      0.657846  -0.974434   1.262628  -1.245517  -0.192310   \n",
       "                 36      1.203298   0.634403   1.118004  -1.303521  -0.830385   \n",
       "                 38      0.357073  -1.325458   1.889045  -1.252600  -0.686956   \n",
       "                 40      0.323846  -0.201089   1.306792  -1.531176  -0.317299   \n",
       "                 42      0.497134  -0.686684   1.271487  -1.387010   0.062669   \n",
       "                 44     -0.544962   0.972260   1.356933  -1.412258  -0.713456   \n",
       "                 46      0.454903  -3.643992   1.650787  -0.570943  -0.416613   \n",
       "\n",
       "                        AT2G41940  \n",
       "sample,replicate hours             \n",
       "Botrytis:A       2       0.804317  \n",
       "                 4       0.562897  \n",
       "                 6       0.027412  \n",
       "                 8       0.982881  \n",
       "                 10      0.786640  \n",
       "                 12      1.113074  \n",
       "                 14      0.863046  \n",
       "                 16      1.448853  \n",
       "                 18      0.779848  \n",
       "                 20      1.558269  \n",
       "                 22      0.747744  \n",
       "                 24      0.699443  \n",
       "                 26      0.808858  \n",
       "                 28     -0.270057  \n",
       "                 30      0.142095  \n",
       "                 32      0.816819  \n",
       "                 34      0.391166  \n",
       "                 36      0.573170  \n",
       "                 38     -1.383519  \n",
       "                 40      1.074043  \n",
       "                 42      0.488515  \n",
       "                 44      0.361505  \n",
       "                 46      0.256602  \n",
       "Botrytis:B       2      -0.601589  \n",
       "                 4       0.625714  \n",
       "                 6       0.485707  \n",
       "                 8       0.448061  \n",
       "                 10      0.670688  \n",
       "                 12      0.992162  \n",
       "                 14      1.222461  \n",
       "...                           ...  \n",
       "Mock:C           34     -1.486169  \n",
       "                 36     -0.248266  \n",
       "                 38     -0.930389  \n",
       "                 40     -0.903871  \n",
       "                 42     -1.003109  \n",
       "                 44     -0.699075  \n",
       "                 46     -1.701789  \n",
       "Mock:D           2       0.583122  \n",
       "                 4      -0.195060  \n",
       "                 6       0.449790  \n",
       "                 8       0.192851  \n",
       "                 10      0.362336  \n",
       "                 12      0.926682  \n",
       "                 14      0.664853  \n",
       "                 16      1.042606  \n",
       "                 18      1.066546  \n",
       "                 20      0.466274  \n",
       "                 22      0.343198  \n",
       "                 24     -1.229057  \n",
       "                 26     -2.192473  \n",
       "                 28     -0.621327  \n",
       "                 30     -1.488371  \n",
       "                 32     -1.062984  \n",
       "                 34     -0.590066  \n",
       "                 36     -0.634914  \n",
       "                 38     -0.659257  \n",
       "                 40     -1.228170  \n",
       "                 42     -1.261824  \n",
       "                 44     -0.532793  \n",
       "                 46     -1.193596  \n",
       "\n",
       "[184 rows x 96 columns]"
      ]
     },
     "execution_count": 46,
     "metadata": {},
     "output_type": "execute_result"
    }
   ],
   "source": [
    "em.X"
   ]
  },
  {
   "cell_type": "code",
   "execution_count": 47,
   "metadata": {
    "collapsed": true
   },
   "outputs": [],
   "source": [
    "kek = em.X.values"
   ]
  },
  {
   "cell_type": "code",
   "execution_count": 49,
   "metadata": {
    "collapsed": false
   },
   "outputs": [],
   "source": [
    "X=kek[:,:2]"
   ]
  },
  {
   "cell_type": "code",
   "execution_count": 50,
   "metadata": {
    "collapsed": true
   },
   "outputs": [],
   "source": [
    "Y=kek[:,0]"
   ]
  },
  {
   "cell_type": "code",
   "execution_count": 51,
   "metadata": {
    "collapsed": true
   },
   "outputs": [],
   "source": [
    "hypers = [0.1774,-0.4491,-0.1868]"
   ]
  },
  {
   "cell_type": "code",
   "execution_count": 52,
   "metadata": {
    "collapsed": true
   },
   "outputs": [],
   "source": [
    "import numpy.matlib as npm\n",
    "import math\n",
    "\n",
    "def loglik(X,Y,hypers):\n",
    "\t#hypers as [length, signal std, noise std] in log space\n",
    "\tthing = X / sp.exp(hypers[0])\n",
    "\tdist = np.zeros((len(Y),len(Y)))\n",
    "\tfor i in np.arange(len(Y)):\n",
    "\t\tfor j in np.arange(len(Y)):\n",
    "\t\t\tdist[i,j] = np.sum(np.square(thing[i,:]-thing[j,:]))\n",
    "\tK = sp.exp(2*hypers[1]+(-1/2)*dist)\n",
    "\tL = np.linalg.cholesky(K + sp.exp(2*hypers[2])*npm.eye(len(Y)))\n",
    "\talpha = np.linalg.solve(np.transpose(L),np.linalg.solve(L,Y))\n",
    "\tout = (-0.5)*np.dot(np.transpose(Y),alpha)-np.sum(np.eye(len(Y))*L)-(X.shape[1]/2)*np.log(2*math.pi)\n",
    "\treturn out"
   ]
  },
  {
   "cell_type": "code",
   "execution_count": 53,
   "metadata": {
    "collapsed": false
   },
   "outputs": [
    {
     "ename": "ValueError",
     "evalue": "operands could not be broadcast together with shapes (184,2) (96,) ",
     "output_type": "error",
     "traceback": [
      "\u001b[0;31m---------------------------------------------------------------------------\u001b[0m",
      "\u001b[0;31mValueError\u001b[0m                                Traceback (most recent call last)",
      "\u001b[0;32m<ipython-input-53-936173af6eee>\u001b[0m in \u001b[0;36m<module>\u001b[0;34m()\u001b[0m\n\u001b[0;32m----> 1\u001b[0;31m \u001b[0mloglik\u001b[0m\u001b[0;34m(\u001b[0m\u001b[0mX\u001b[0m\u001b[0;34m,\u001b[0m\u001b[0mY\u001b[0m\u001b[0;34m,\u001b[0m\u001b[0mkek\u001b[0m\u001b[0;34m)\u001b[0m\u001b[0;34m\u001b[0m\u001b[0m\n\u001b[0m",
      "\u001b[0;32m<ipython-input-52-4afa95ddae1e>\u001b[0m in \u001b[0;36mloglik\u001b[0;34m(X, Y, hypers)\u001b[0m\n\u001b[1;32m      4\u001b[0m \u001b[0;32mdef\u001b[0m \u001b[0mloglik\u001b[0m\u001b[0;34m(\u001b[0m\u001b[0mX\u001b[0m\u001b[0;34m,\u001b[0m\u001b[0mY\u001b[0m\u001b[0;34m,\u001b[0m\u001b[0mhypers\u001b[0m\u001b[0;34m)\u001b[0m\u001b[0;34m:\u001b[0m\u001b[0;34m\u001b[0m\u001b[0m\n\u001b[1;32m      5\u001b[0m         \u001b[0;31m#hypers as [length, signal std, noise std] in log space\u001b[0m\u001b[0;34m\u001b[0m\u001b[0;34m\u001b[0m\u001b[0m\n\u001b[0;32m----> 6\u001b[0;31m         \u001b[0mthing\u001b[0m \u001b[0;34m=\u001b[0m \u001b[0mX\u001b[0m \u001b[0;34m/\u001b[0m \u001b[0msp\u001b[0m\u001b[0;34m.\u001b[0m\u001b[0mexp\u001b[0m\u001b[0;34m(\u001b[0m\u001b[0mhypers\u001b[0m\u001b[0;34m[\u001b[0m\u001b[0;36m0\u001b[0m\u001b[0;34m]\u001b[0m\u001b[0;34m)\u001b[0m\u001b[0;34m\u001b[0m\u001b[0m\n\u001b[0m\u001b[1;32m      7\u001b[0m         \u001b[0mdist\u001b[0m \u001b[0;34m=\u001b[0m \u001b[0mnp\u001b[0m\u001b[0;34m.\u001b[0m\u001b[0mzeros\u001b[0m\u001b[0;34m(\u001b[0m\u001b[0;34m(\u001b[0m\u001b[0mlen\u001b[0m\u001b[0;34m(\u001b[0m\u001b[0mY\u001b[0m\u001b[0;34m)\u001b[0m\u001b[0;34m,\u001b[0m\u001b[0mlen\u001b[0m\u001b[0;34m(\u001b[0m\u001b[0mY\u001b[0m\u001b[0;34m)\u001b[0m\u001b[0;34m)\u001b[0m\u001b[0;34m)\u001b[0m\u001b[0;34m\u001b[0m\u001b[0m\n\u001b[1;32m      8\u001b[0m         \u001b[0;32mfor\u001b[0m \u001b[0mi\u001b[0m \u001b[0;32min\u001b[0m \u001b[0mnp\u001b[0m\u001b[0;34m.\u001b[0m\u001b[0marange\u001b[0m\u001b[0;34m(\u001b[0m\u001b[0mlen\u001b[0m\u001b[0;34m(\u001b[0m\u001b[0mY\u001b[0m\u001b[0;34m)\u001b[0m\u001b[0;34m)\u001b[0m\u001b[0;34m:\u001b[0m\u001b[0;34m\u001b[0m\u001b[0m\n",
      "\u001b[0;31mValueError\u001b[0m: operands could not be broadcast together with shapes (184,2) (96,) "
     ]
    }
   ],
   "source": [
    "loglik(X,Y,kek)"
   ]
  },
  {
   "cell_type": "code",
   "execution_count": 54,
   "metadata": {
    "collapsed": false
   },
   "outputs": [
    {
     "data": {
      "text/plain": [
       "array([[ -1.00512755e+00,   1.31742447e-01],\n",
       "       [ -9.01463542e-01,   7.27479780e-01],\n",
       "       [  1.47698288e+00,   1.31862292e+00],\n",
       "       [  7.89919638e-01,   8.20369400e-03],\n",
       "       [  2.22075850e+00,   5.42561601e-01],\n",
       "       [ -7.42055238e-01,   4.86429770e-01],\n",
       "       [ -6.98624155e-01,   6.32142345e-01],\n",
       "       [  1.10523980e+00,  -9.64059100e-03],\n",
       "       [  1.32846998e-01,   1.29335948e-01],\n",
       "       [  1.36601588e+00,   2.20570777e-01],\n",
       "       [  2.92972427e-01,   2.63523025e+00],\n",
       "       [  4.85219159e-01,   4.04589518e-01],\n",
       "       [  6.67013800e-03,   4.46896105e-01],\n",
       "       [ -8.29931730e-01,  -7.03054659e-01],\n",
       "       [  1.73860222e+00,   6.38971075e-01],\n",
       "       [  1.31326415e+00,  -9.74182110e-02],\n",
       "       [  8.39450150e-02,  -2.80589158e-01],\n",
       "       [ -4.77393008e-01,   9.07014960e-02],\n",
       "       [  2.17763375e+00,   2.00310396e+00],\n",
       "       [  2.42573772e-01,   6.54963398e-01],\n",
       "       [  1.13335053e+00,   5.70847207e-01],\n",
       "       [  1.22888769e+00,   1.87430998e-01],\n",
       "       [  1.39302993e+00,   5.49944829e-01],\n",
       "       [ -1.00392142e+00,   6.64185290e-02],\n",
       "       [ -2.67215490e-01,   6.05970676e-01],\n",
       "       [  1.65645398e-01,   2.64830706e-01],\n",
       "       [ -9.52328720e-02,  -1.37087346e+00],\n",
       "       [  1.48251731e-01,  -3.31935549e-01],\n",
       "       [  3.54393270e-02,   1.04148120e+00],\n",
       "       [ -1.11450581e+00,   5.03439440e-02],\n",
       "       [ -5.85816411e-01,  -3.83840142e-01],\n",
       "       [ -1.34497327e-01,   2.55802699e-01],\n",
       "       [  4.46273375e-01,   2.21353846e-01],\n",
       "       [ -2.58998098e-01,   1.73608189e+00],\n",
       "       [  7.49855393e-01,   9.18692727e-01],\n",
       "       [ -1.66775795e-01,   3.29801460e-01],\n",
       "       [  9.56962893e-01,  -9.98659181e-01],\n",
       "       [  1.13200207e+00,  -3.30878710e-02],\n",
       "       [  1.82651869e-01,   8.23998864e-01],\n",
       "       [  7.79006533e-01,   8.58668927e-01],\n",
       "       [ -1.31101942e+00,   6.40766351e-01],\n",
       "       [ -3.06473427e-01,  -1.06577447e+00],\n",
       "       [  6.60211722e-01,   2.99269414e-01],\n",
       "       [  1.46187731e+00,   1.06167993e+00],\n",
       "       [  5.75543577e-01,  -1.02408511e+00],\n",
       "       [  1.06980700e+00,  -7.02070035e-01],\n",
       "       [  9.79058171e-01,   5.77935602e-01],\n",
       "       [  3.25567155e-01,   1.80372292e+00],\n",
       "       [ -1.80868844e+00,  -1.32706895e+00],\n",
       "       [  9.21315383e-01,  -2.09189998e+00],\n",
       "       [  2.06731610e+00,   1.46029167e+00],\n",
       "       [  8.82865347e-01,   1.56550698e+00],\n",
       "       [ -8.45872276e-01,   3.04445598e-01],\n",
       "       [  1.56729167e-01,   4.19752137e-01],\n",
       "       [  3.92741770e-01,   1.18693521e+00],\n",
       "       [  2.74954867e+00,   3.48730389e+00],\n",
       "       [  5.61850637e-01,   2.46635120e-01],\n",
       "       [  7.56027261e-01,   1.24067689e+00],\n",
       "       [  4.20067706e-01,   9.11914906e-01],\n",
       "       [  1.05668675e+00,   7.65686353e-01],\n",
       "       [  4.11737270e-01,  -6.11476677e-01],\n",
       "       [  3.67854500e-03,  -3.69718419e-01],\n",
       "       [ -9.81274099e-01,   2.17284380e-02],\n",
       "       [ -6.38893861e-01,  -3.09150759e-01],\n",
       "       [ -1.48354979e-01,   5.12963647e-01],\n",
       "       [ -3.59394105e-01,  -7.01293124e-01],\n",
       "       [  1.40286978e+00,   5.14272424e-01],\n",
       "       [  2.05120869e+00,  -3.27810673e-01],\n",
       "       [  1.29788442e+00,  -6.67845213e-01],\n",
       "       [ -2.11502284e-01,   2.60559348e-01],\n",
       "       [  1.62456073e-01,  -1.44753000e-04],\n",
       "       [ -2.45224883e-01,  -3.55136809e-01],\n",
       "       [ -2.20179271e-01,   2.82560597e-01],\n",
       "       [  1.26945835e+00,   1.01421338e+00],\n",
       "       [ -1.12942284e+00,  -2.40227459e-01],\n",
       "       [  1.55606040e-02,   1.48798637e+00],\n",
       "       [ -3.41308060e-02,   7.57225335e-01],\n",
       "       [  1.27785730e+00,   7.67032226e-01],\n",
       "       [  5.27890238e-01,   1.24702391e-01],\n",
       "       [  5.44121079e-01,   1.94527203e+00],\n",
       "       [  8.91568500e-02,   9.37585330e-01],\n",
       "       [  1.32909041e+00,   1.36037884e+00],\n",
       "       [  5.59651579e-01,   6.90991966e-01],\n",
       "       [ -2.99295730e-02,  -2.14592086e-01],\n",
       "       [  9.62881663e-01,   8.20397452e-01],\n",
       "       [  1.05584295e+00,   1.56166304e+00],\n",
       "       [ -8.43388236e-01,   6.90160384e-01],\n",
       "       [ -1.02587459e+00,  -3.41748918e-01],\n",
       "       [  5.07841737e-01,   4.81231413e-01],\n",
       "       [  1.23119926e+00,   7.43497792e-01],\n",
       "       [  3.93389518e-01,  -1.06193622e+00],\n",
       "       [  4.55946597e-01,   1.49846322e-01],\n",
       "       [  2.69232223e-01,  -6.63262053e-01],\n",
       "       [ -3.61942635e-01,   1.66816280e-02],\n",
       "       [ -8.10313114e-01,   1.32414600e-03],\n",
       "       [  9.96720000e-03,  -3.23742535e+00],\n",
       "       [ -1.06093864e-01,  -1.84389349e+00],\n",
       "       [  1.25083871e+00,   1.37856188e-01],\n",
       "       [ -4.16891476e-01,  -9.48539580e-02],\n",
       "       [  3.41930293e+00,   2.17956409e+00],\n",
       "       [ -1.03792843e-01,  -3.71704746e-01],\n",
       "       [  3.98960083e-01,   1.76452563e-01],\n",
       "       [ -1.16981845e+00,  -1.09474010e-01],\n",
       "       [ -2.81693470e-01,  -1.05631401e-01],\n",
       "       [ -1.71937475e+00,  -4.28435223e-01],\n",
       "       [ -2.63488431e+00,  -9.67256555e-01],\n",
       "       [ -3.42974146e-01,  -2.54009486e+00],\n",
       "       [ -8.18016992e-01,  -4.07589995e-01],\n",
       "       [ -7.82176372e-01,  -2.35105046e+00],\n",
       "       [ -1.16381795e+00,  -1.29383467e+00],\n",
       "       [ -2.26987850e-02,  -1.64287399e+00],\n",
       "       [ -4.41307537e-01,  -8.93973657e-01],\n",
       "       [ -1.96203792e+00,  -8.38857021e-01],\n",
       "       [ -8.24474189e-01,  -8.15193858e-01],\n",
       "       [ -7.19588145e-01,  -1.21880412e+00],\n",
       "       [  8.82615104e-01,   1.03413533e+00],\n",
       "       [ -1.78232074e-01,   1.15059098e-01],\n",
       "       [ -6.14669797e-01,  -1.74399996e+00],\n",
       "       [  3.94074107e-01,  -9.35630715e-01],\n",
       "       [  5.91850302e-01,   1.74624807e-01],\n",
       "       [ -3.20822002e-01,  -8.20660871e-01],\n",
       "       [  1.03900598e+00,  -3.18394099e-01],\n",
       "       [ -2.09990109e-01,   1.30713470e-02],\n",
       "       [  1.43981147e-01,   8.07802909e-01],\n",
       "       [  1.88304657e+00,  -4.74119654e-01],\n",
       "       [ -2.20900145e-01,  -1.44133006e-01],\n",
       "       [  3.84797365e-01,   1.53175922e+00],\n",
       "       [ -6.42675450e-01,  -1.10816489e+00],\n",
       "       [ -1.09233424e+00,  -1.37306659e+00],\n",
       "       [ -2.63428485e+00,  -1.29492395e+00],\n",
       "       [ -2.21554620e+00,  -1.57747396e+00],\n",
       "       [ -1.36038232e+00,  -1.02975769e+00],\n",
       "       [ -1.56826579e+00,  -9.76678453e-01],\n",
       "       [ -1.74948247e+00,  -7.17148812e-01],\n",
       "       [ -6.02365143e-01,  -8.06441212e-01],\n",
       "       [ -9.54858666e-01,  -1.72728068e+00],\n",
       "       [  1.08316541e+00,  -3.65537849e-01],\n",
       "       [ -5.65179542e-01,  -3.64402660e-01],\n",
       "       [ -4.51030906e-01,  -6.74340690e-02],\n",
       "       [ -1.36124238e+00,  -1.04290657e+00],\n",
       "       [  4.53838270e-02,  -6.39438300e-03],\n",
       "       [  9.43184273e-01,   6.56012247e-01],\n",
       "       [  4.01831053e-01,   4.32836723e-01],\n",
       "       [ -1.18134517e+00,  -8.05243255e-01],\n",
       "       [ -6.14703307e-01,   3.34616396e-01],\n",
       "       [  1.06932771e-01,   1.07615597e+00],\n",
       "       [  1.92768642e-01,  -2.62254600e-02],\n",
       "       [  1.36712741e+00,   6.55790051e-01],\n",
       "       [  1.23769414e+00,   1.68187285e+00],\n",
       "       [ -2.80135932e-01,   6.02433935e-01],\n",
       "       [ -1.24300181e+00,   5.48800936e-01],\n",
       "       [ -1.28622065e+00,  -6.29654041e-01],\n",
       "       [ -2.74206723e-01,   1.29475206e-01],\n",
       "       [ -5.22266851e-01,  -6.61255712e-01],\n",
       "       [ -5.83628769e-01,  -7.05240932e-01],\n",
       "       [ -8.37823985e-01,   2.03007886e-01],\n",
       "       [ -8.54143957e-01,  -1.05321049e+00],\n",
       "       [ -6.85294123e-01,  -1.14203372e+00],\n",
       "       [ -1.31689084e+00,  -1.52390801e-01],\n",
       "       [ -5.44141368e-01,  -1.63716311e+00],\n",
       "       [ -1.30659141e+00,  -7.37238810e-01],\n",
       "       [ -1.13621939e+00,   1.04078579e+00],\n",
       "       [ -7.15827165e-01,  -3.90948350e-02],\n",
       "       [  1.68278767e+00,   1.85812344e+00],\n",
       "       [  1.40359774e+00,   5.21353900e-01],\n",
       "       [  9.73767960e-02,  -1.59891300e-01],\n",
       "       [ -9.16606110e-02,   2.36883264e-01],\n",
       "       [ -3.22104219e-01,   5.14984037e-01],\n",
       "       [  4.67649706e-01,   9.19306891e-01],\n",
       "       [  5.64302077e-01,   8.01348366e-01],\n",
       "       [  2.79038737e-01,  -8.93017875e-01],\n",
       "       [  4.25141806e-01,   1.64253915e+00],\n",
       "       [ -1.30496254e+00,   1.19616495e+00],\n",
       "       [ -1.59920165e+00,  -2.01134489e-01],\n",
       "       [ -6.73823946e-01,  -1.38991623e+00],\n",
       "       [ -5.11834196e-01,  -5.65398200e-01],\n",
       "       [ -3.42761371e-01,  -1.67613486e+00],\n",
       "       [ -6.59265266e-01,  -5.64693406e-01],\n",
       "       [ -8.34554915e-01,   1.44479387e-01],\n",
       "       [ -3.23146130e-02,  -6.19776700e-02],\n",
       "       [ -9.88219813e-01,  -9.99283376e-01],\n",
       "       [ -7.34722892e-01,  -1.95429434e+00],\n",
       "       [ -1.83527490e-01,  -1.38208214e-01],\n",
       "       [ -8.72434264e-01,  -1.06360029e-01]])"
      ]
     },
     "execution_count": 54,
     "metadata": {},
     "output_type": "execute_result"
    }
   ],
   "source": [
    "X"
   ]
  },
  {
   "cell_type": "code",
   "execution_count": 55,
   "metadata": {
    "collapsed": false
   },
   "outputs": [
    {
     "data": {
      "text/plain": [
       "array([[ -8.41738781e-01,   1.10327019e-01],\n",
       "       [ -7.54925901e-01,   6.09224115e-01],\n",
       "       [  1.23689155e+00,   1.10427383e+00],\n",
       "       [  6.61514046e-01,   6.87014039e-03],\n",
       "       [  1.85976252e+00,   4.54365359e-01],\n",
       "       [ -6.21430256e-01,   4.07358052e-01],\n",
       "       [ -5.85059124e-01,   5.29384282e-01],\n",
       "       [  9.25577257e-01,  -8.07346222e-03],\n",
       "       [  1.11252020e-01,   1.08311709e-01],\n",
       "       [  1.14396282e+00,   1.84715837e-01],\n",
       "       [  2.45348218e-01,   2.20685971e+00],\n",
       "       [  4.06344232e-01,   3.38821364e-01],\n",
       "       [  5.58587198e-03,   3.74250792e-01],\n",
       "       [ -6.95021962e-01,  -5.88769426e-01],\n",
       "       [  1.45598328e+00,   5.35102966e-01],\n",
       "       [  1.09978616e+00,  -8.15823683e-02],\n",
       "       [  7.02993112e-02,  -2.34977914e-01],\n",
       "       [ -3.99790263e-01,   7.59574907e-02],\n",
       "       [  1.82364793e+00,   1.67748888e+00],\n",
       "       [  2.03142129e-01,   5.48495652e-01],\n",
       "       [  9.49118438e-01,   4.78052991e-01],\n",
       "       [  1.02912553e+00,   1.56963103e-01],\n",
       "       [  1.16658559e+00,   4.60548404e-01],\n",
       "       [ -8.40728716e-01,   5.56218477e-02],\n",
       "       [ -2.23778206e-01,   5.07466955e-01],\n",
       "       [  1.38718867e-01,   2.21781082e-01],\n",
       "       [ -7.97522677e-02,  -1.14803077e+00],\n",
       "       [  1.24152632e-01,  -2.77977679e-01],\n",
       "       [  2.96784780e-02,   8.72182952e-01],\n",
       "       [ -9.33337026e-01,   4.21602711e-02],\n",
       "       [ -4.90588872e-01,  -3.21444908e-01],\n",
       "       [ -1.12634079e-01,   2.14220625e-01],\n",
       "       [  3.73729290e-01,   1.85371614e-01],\n",
       "       [ -2.16896595e-01,   1.45387265e+00],\n",
       "       [  6.27962454e-01,   7.69354392e-01],\n",
       "       [ -1.39665512e-01,   2.76190498e-01],\n",
       "       [  8.01403541e-01,  -8.36321878e-01],\n",
       "       [  9.47989178e-01,  -2.77092635e-02],\n",
       "       [  1.52960847e-01,   6.90053514e-01],\n",
       "       [  6.52374923e-01,   7.19087776e-01],\n",
       "       [ -1.09790632e+00,   5.36606410e-01],\n",
       "       [ -2.56654559e-01,  -8.92527228e-01],\n",
       "       [  5.52890834e-01,   2.50621596e-01],\n",
       "       [  1.22424146e+00,   8.89098271e-01],\n",
       "       [  4.81985941e-01,  -8.57614690e-01],\n",
       "       [  8.95904243e-01,  -5.87944858e-01],\n",
       "       [  8.19907115e-01,   4.83989130e-01],\n",
       "       [  2.72644501e-01,   1.51051827e+00],\n",
       "       [ -1.51467662e+00,  -1.11134691e+00],\n",
       "       [  7.71550721e-01,  -1.75185064e+00],\n",
       "       [  1.73126299e+00,   1.22291358e+00],\n",
       "       [  7.39350941e-01,   1.31102559e+00],\n",
       "       [ -7.08371288e-01,   2.54956365e-01],\n",
       "       [  1.31252016e-01,   3.51519219e-01],\n",
       "       [  3.28899529e-01,   9.93992645e-01],\n",
       "       [  2.30259507e+00,   2.92042430e+00],\n",
       "       [  4.70518860e-01,   2.06543284e-01],\n",
       "       [  6.33131053e-01,   1.03899833e+00],\n",
       "       [  3.51783491e-01,   7.63678341e-01],\n",
       "       [  8.84916764e-01,   6.41220009e-01],\n",
       "       [  3.44807211e-01,  -5.12077927e-01],\n",
       "       [  3.08057816e-03,  -3.09618745e-01],\n",
       "       [ -8.21762832e-01,   1.81963661e-02],\n",
       "       [ -5.35038303e-01,  -2.58896677e-01],\n",
       "       [ -1.24239097e-01,   4.29578708e-01],\n",
       "       [ -3.00972703e-01,  -5.87294238e-01],\n",
       "       [  1.17482592e+00,   4.30674736e-01],\n",
       "       [  1.71777392e+00,  -2.74523324e-01],\n",
       "       [  1.08690648e+00,  -5.59283461e-01],\n",
       "       [ -1.77121475e-01,   2.18204055e-01],\n",
       "       [  1.36047984e-01,  -1.21222638e-04],\n",
       "       [ -2.05362288e-01,  -2.97407453e-01],\n",
       "       [ -1.84387972e-01,   2.36628886e-01],\n",
       "       [  1.06310122e+00,   8.49347659e-01],\n",
       "       [ -9.45829214e-01,  -2.01177222e-01],\n",
       "       [  1.30311460e-02,   1.24610636e+00],\n",
       "       [ -2.85826639e-02,   6.34134374e-01],\n",
       "       [  1.07013487e+00,   6.42347103e-01],\n",
       "       [  4.42078903e-01,   1.04431361e-01],\n",
       "       [  4.55671335e-01,   1.62905783e+00],\n",
       "       [  7.46639350e-02,   7.85175903e-01],\n",
       "       [  1.11303977e+00,   1.13924211e+00],\n",
       "       [  4.68677271e-01,   5.78667587e-01],\n",
       "       [ -2.50643635e-02,  -1.79709014e-01],\n",
       "       [  8.06360184e-01,   6.87037531e-01],\n",
       "       [  8.84210129e-01,   1.30780650e+00],\n",
       "       [ -7.06291042e-01,   5.77971183e-01],\n",
       "       [ -8.59113277e-01,  -2.86195834e-01],\n",
       "       [  4.25289391e-01,   4.03004715e-01],\n",
       "       [  1.03106134e+00,   6.22638315e-01],\n",
       "       [  3.29441982e-01,  -8.89312905e-01],\n",
       "       [  3.81830079e-01,   1.25488014e-01],\n",
       "       [  2.25467109e-01,  -5.55445317e-01],\n",
       "       [ -3.03106956e-01,   1.39699416e-02],\n",
       "       [ -6.78592455e-01,   1.10889910e-03],\n",
       "       [  8.34697921e-03,  -2.71116483e+00],\n",
       "       [ -8.88477483e-02,  -1.54415890e+00],\n",
       "       [  1.04750830e+00,   1.15446939e-01],\n",
       "       [ -3.49123574e-01,  -7.94349482e-02],\n",
       "       [  2.86347725e+00,   1.82526448e+00],\n",
       "       [ -8.69207704e-02,  -3.11282184e-01],\n",
       "       [  3.34107023e-01,   1.47769271e-01],\n",
       "       [ -9.79658310e-01,  -9.16784338e-02],\n",
       "       [ -2.35902715e-01,  -8.84604611e-02],\n",
       "       [ -1.43988134e+00,  -3.58790824e-01],\n",
       "       [ -2.20657001e+00,  -8.10023914e-01],\n",
       "       [ -2.87221894e-01,  -2.12718908e+00],\n",
       "       [ -6.85044027e-01,  -3.41334097e-01],\n",
       "       [ -6.55029488e-01,  -1.96887484e+00],\n",
       "       [ -9.74633223e-01,  -1.08351503e+00],\n",
       "       [ -1.90089781e-02,  -1.37581618e+00],\n",
       "       [ -3.69570675e-01,  -7.48653536e-01],\n",
       "       [ -1.64309834e+00,  -7.02496400e-01],\n",
       "       [ -6.90451573e-01,  -6.82679808e-01],\n",
       "       [ -6.02615307e-01,  -1.02068110e+00],\n",
       "       [  7.39141376e-01,   8.66031196e-01],\n",
       "       [ -1.49259513e-01,   9.63556364e-02],\n",
       "       [ -5.14751988e-01,  -1.46050359e+00],\n",
       "       [  3.30015288e-01,  -7.83539021e-01],\n",
       "       [  4.95641922e-01,   1.46238626e-01],\n",
       "       [ -2.68670698e-01,  -6.87258129e-01],\n",
       "       [  8.70110096e-01,  -2.66637463e-01],\n",
       "       [ -1.75855112e-01,   1.09465308e-02],\n",
       "       [  1.20576254e-01,   6.76490297e-01],\n",
       "       [  1.57694745e+00,  -3.97049010e-01],\n",
       "       [ -1.84991664e-01,  -1.20703428e-01],\n",
       "       [  3.22246529e-01,   1.28276370e+00],\n",
       "       [ -5.38205175e-01,  -9.28026856e-01],\n",
       "       [ -9.14769563e-01,  -1.14986739e+00],\n",
       "       [ -2.20606799e+00,  -1.08442725e+00],\n",
       "       [ -1.85539751e+00,  -1.32104727e+00],\n",
       "       [ -1.13924501e+00,  -8.62365164e-01],\n",
       "       [ -1.31333594e+00,  -8.17914233e-01],\n",
       "       [ -1.46509489e+00,  -6.00572500e-01],\n",
       "       [ -5.04447520e-01,  -6.75349951e-01],\n",
       "       [ -7.99641367e-01,  -1.44650212e+00],\n",
       "       [  9.07091174e-01,  -3.06117749e-01],\n",
       "       [ -4.73306634e-01,  -3.05167091e-01],\n",
       "       [ -3.77713460e-01,  -5.64723064e-02],\n",
       "       [ -1.13996527e+00,  -8.73376618e-01],\n",
       "       [  3.80064472e-02,  -5.35494241e-03],\n",
       "       [  7.89864708e-01,   5.49374005e-01],\n",
       "       [  3.36511302e-01,   3.62476837e-01],\n",
       "       [ -9.89311296e-01,  -6.74346728e-01],\n",
       "       [ -5.14780051e-01,   2.80222741e-01],\n",
       "       [  8.95502866e-02,   9.01221158e-01],\n",
       "       [  1.61433085e-01,  -2.19623735e-02],\n",
       "       [  1.14489366e+00,   5.49187929e-01],\n",
       "       [  1.03650045e+00,   1.40847557e+00],\n",
       "       [ -2.34598363e-01,   5.04505130e-01],\n",
       "       [ -1.04094533e+00,   4.59590457e-01],\n",
       "       [ -1.07713872e+00,  -5.27300464e-01],\n",
       "       [ -2.29632978e-01,   1.08428330e-01],\n",
       "       [ -4.37369627e-01,  -5.53765118e-01],\n",
       "       [ -4.88756842e-01,  -5.90600309e-01],\n",
       "       [ -7.01631289e-01,   1.70007886e-01],\n",
       "       [ -7.15298364e-01,  -8.82005587e-01],\n",
       "       [ -5.73895958e-01,  -9.56390130e-01],\n",
       "       [ -1.10282330e+00,  -1.27618875e-01],\n",
       "       [ -4.55688326e-01,  -1.37103363e+00],\n",
       "       [ -1.09419810e+00,  -6.17396763e-01],\n",
       "       [ -9.51520952e-01,   8.71600588e-01],\n",
       "       [ -5.99465694e-01,  -3.27397639e-02],\n",
       "       [  1.40924168e+00,   1.55607570e+00],\n",
       "       [  1.17543554e+00,   4.36605081e-01],\n",
       "       [  8.15476856e-02,  -1.33900128e-01],\n",
       "       [ -7.67606965e-02,   1.98376643e-01],\n",
       "       [ -2.69744484e-01,   4.31270673e-01],\n",
       "       [  3.91630786e-01,   7.69868720e-01],\n",
       "       [  4.72571806e-01,   6.71084974e-01],\n",
       "       [  2.33679522e-01,  -7.47853122e-01],\n",
       "       [  3.56032769e-01,   1.37553577e+00],\n",
       "       [ -1.09283401e+00,   1.00172204e+00],\n",
       "       [ -1.33924301e+00,  -1.68439020e-01],\n",
       "       [ -5.64290319e-01,  -1.16397804e+00],\n",
       "       [ -4.28632855e-01,  -4.73489748e-01],\n",
       "       [ -2.87043707e-01,  -1.40367032e+00],\n",
       "       [ -5.52098229e-01,  -4.72899522e-01],\n",
       "       [ -6.98893623e-01,   1.20993503e-01],\n",
       "       [ -2.70617027e-02,  -5.19028737e-02],\n",
       "       [ -8.27579484e-01,  -8.36844607e-01],\n",
       "       [ -6.15289821e-01,  -1.63661352e+00],\n",
       "       [ -1.53694131e-01,  -1.15741742e-01],\n",
       "       [ -7.30615485e-01,  -8.90706468e-02]])"
      ]
     },
     "execution_count": 55,
     "metadata": {},
     "output_type": "execute_result"
    }
   ],
   "source": [
    "X/sp.exp(hypers[0])"
   ]
  },
  {
   "cell_type": "code",
   "execution_count": 56,
   "metadata": {
    "collapsed": true
   },
   "outputs": [],
   "source": [
    "thing = X / sp.exp(hypers[0])"
   ]
  },
  {
   "cell_type": "code",
   "execution_count": 57,
   "metadata": {
    "collapsed": true
   },
   "outputs": [],
   "source": [
    "dist = np.zeros((len(Y),len(Y)))"
   ]
  },
  {
   "cell_type": "code",
   "execution_count": 58,
   "metadata": {
    "collapsed": true
   },
   "outputs": [],
   "source": [
    "\tfor i in np.arange(len(Y)):\n",
    "\t\tfor j in np.arange(len(Y)):\n",
    "\t\t\tdist[i,j] = np.sum(np.square(thing[i,:]-thing[j,:]))"
   ]
  },
  {
   "cell_type": "code",
   "execution_count": 59,
   "metadata": {
    "collapsed": true
   },
   "outputs": [],
   "source": [
    "K = sp.exp(2*hypers[1]+(-1/2)*dist)"
   ]
  },
  {
   "cell_type": "code",
   "execution_count": 60,
   "metadata": {
    "collapsed": true
   },
   "outputs": [],
   "source": [
    "L = np.linalg.cholesky(K + sp.exp(2*hypers[2])*npm.eye(len(Y)))"
   ]
  },
  {
   "cell_type": "code",
   "execution_count": 61,
   "metadata": {
    "collapsed": true
   },
   "outputs": [],
   "source": [
    "alpha = np.linalg.solve(np.transpose(L),np.linalg.solve(L,Y))"
   ]
  },
  {
   "cell_type": "code",
   "execution_count": 62,
   "metadata": {
    "collapsed": true
   },
   "outputs": [],
   "source": [
    "out = (-0.5)*np.dot(np.transpose(Y),alpha)-np.sum(np.eye(len(Y))*L)-(X.shape[1]/2)*np.log(2*math.pi)"
   ]
  },
  {
   "cell_type": "code",
   "execution_count": 63,
   "metadata": {
    "collapsed": false
   },
   "outputs": [
    {
     "data": {
      "text/plain": [
       "-637.34302766904023"
      ]
     },
     "execution_count": 63,
     "metadata": {},
     "output_type": "execute_result"
    }
   ],
   "source": [
    "out"
   ]
  },
  {
   "cell_type": "code",
   "execution_count": 64,
   "metadata": {
    "collapsed": false
   },
   "outputs": [
    {
     "data": {
      "text/plain": [
       "array([[ 0.40730214,  0.35828827,  0.02865243, ...,  0.08631601,\n",
       "         0.31334318,  0.39682738],\n",
       "       [ 0.35828827,  0.40730214,  0.04956821, ...,  0.03239204,\n",
       "         0.2613937 ,  0.31908324],\n",
       "       [ 0.02865243,  0.04956821,  0.40730214, ...,  0.00171264,\n",
       "         0.07358727,  0.02884619],\n",
       "       ..., \n",
       "       [ 0.08631601,  0.03239204,  0.00171264, ...,  0.40730214,\n",
       "         0.11517981,  0.12217578],\n",
       "       [ 0.31334318,  0.2613937 ,  0.07358727, ...,  0.11517981,\n",
       "         0.40730214,  0.34473654],\n",
       "       [ 0.39682738,  0.31908324,  0.02884619, ...,  0.12217578,\n",
       "         0.34473654,  0.40730214]])"
      ]
     },
     "execution_count": 64,
     "metadata": {},
     "output_type": "execute_result"
    }
   ],
   "source": [
    "K"
   ]
  },
  {
   "cell_type": "code",
   "execution_count": 65,
   "metadata": {
    "collapsed": false
   },
   "outputs": [
    {
     "data": {
      "text/plain": [
       "matrix([[  1.04668730e+00,   0.00000000e+00,   0.00000000e+00, ...,\n",
       "           0.00000000e+00,   0.00000000e+00,   0.00000000e+00],\n",
       "        [  3.42306886e-01,   9.89131082e-01,   0.00000000e+00, ...,\n",
       "           0.00000000e+00,   0.00000000e+00,   0.00000000e+00],\n",
       "        [  2.73743899e-02,   4.06394796e-02,   1.04553975e+00, ...,\n",
       "           0.00000000e+00,   0.00000000e+00,   0.00000000e+00],\n",
       "        ..., \n",
       "        [  8.24658996e-02,   4.20914721e-03,  -6.84691257e-04, ...,\n",
       "           8.67846326e-01,   0.00000000e+00,   0.00000000e+00],\n",
       "        [  2.99366565e-01,   1.60664718e-01,   5.62991122e-02, ...,\n",
       "          -3.57173748e-03,   8.38588053e-01,   0.00000000e+00],\n",
       "        [  3.79126964e-01,   1.91385619e-01,   1.02243889e-02, ...,\n",
       "          -4.93063577e-03,   9.38922335e-03,   8.40962614e-01]])"
      ]
     },
     "execution_count": 65,
     "metadata": {},
     "output_type": "execute_result"
    }
   ],
   "source": [
    "L"
   ]
  },
  {
   "cell_type": "code",
   "execution_count": 70,
   "metadata": {
    "collapsed": false
   },
   "outputs": [
    {
     "data": {
      "text/plain": [
       "matrix([[  1.04668730e+00,   0.00000000e+00,   0.00000000e+00, ...,\n",
       "           0.00000000e+00,   0.00000000e+00,   0.00000000e+00],\n",
       "        [  3.42306886e-01,   9.89131082e-01,   0.00000000e+00, ...,\n",
       "           0.00000000e+00,   0.00000000e+00,   0.00000000e+00],\n",
       "        [  2.73743899e-02,   4.06394796e-02,   1.04553975e+00, ...,\n",
       "           0.00000000e+00,   0.00000000e+00,   0.00000000e+00],\n",
       "        ..., \n",
       "        [  8.24658996e-02,   4.20914721e-03,  -6.84691257e-04, ...,\n",
       "           8.67846326e-01,   0.00000000e+00,   0.00000000e+00],\n",
       "        [  2.99366565e-01,   1.60664718e-01,   5.62991122e-02, ...,\n",
       "          -3.57173748e-03,   8.38588053e-01,   0.00000000e+00],\n",
       "        [  3.79126964e-01,   1.91385619e-01,   1.02243889e-02, ...,\n",
       "          -4.93063577e-03,   9.38922335e-03,   8.40962614e-01]])"
      ]
     },
     "execution_count": 70,
     "metadata": {},
     "output_type": "execute_result"
    }
   ],
   "source": [
    "np.eye(184)*L"
   ]
  },
  {
   "cell_type": "code",
   "execution_count": 68,
   "metadata": {
    "collapsed": false
   },
   "outputs": [
    {
     "data": {
      "text/plain": [
       "array([[ 1.,  0.,  0.,  0.,  0.,  0.],\n",
       "       [ 0.,  1.,  0.,  0.,  0.,  0.],\n",
       "       [ 0.,  0.,  1.,  0.,  0.,  0.],\n",
       "       [ 0.,  0.,  0.,  1.,  0.,  0.],\n",
       "       [ 0.,  0.,  0.,  0.,  1.,  0.],\n",
       "       [ 0.,  0.,  0.,  0.,  0.,  1.]])"
      ]
     },
     "execution_count": 68,
     "metadata": {},
     "output_type": "execute_result"
    }
   ],
   "source": [
    "np.eye(6)"
   ]
  },
  {
   "cell_type": "code",
   "execution_count": 71,
   "metadata": {
    "collapsed": false
   },
   "outputs": [
    {
     "data": {
      "text/plain": [
       "[([], 'AT4G34000'),\n",
       " (['AT3G19290'], 'AT4G34000'),\n",
       " (['AT2G40220'], 'AT4G34000'),\n",
       " (['AT2G36270'], 'AT4G34000'),\n",
       " (['AT1G01480'], 'AT4G34000'),\n",
       " (['AT2G37620'], 'AT4G34000'),\n",
       " (['AT3G01420'], 'AT4G34000'),\n",
       " (['AT1G52890'], 'AT4G34000'),\n",
       " (['AT1G61110'], 'AT4G34000'),\n",
       " (['AT3G56530'], 'AT4G34000'),\n",
       " (['AT5G13180'], 'AT4G34000'),\n",
       " (['AT5G39610'], 'AT4G34000'),\n",
       " (['AT5G63790'], 'AT4G34000'),\n",
       " (['AT5G62000'], 'AT4G34000'),\n",
       " (['AT3G51910'], 'AT4G34000'),\n",
       " (['AT1G06160'], 'AT4G34000'),\n",
       " (['AT1G25550'], 'AT4G34000'),\n",
       " (['AT1G35560'], 'AT4G34000'),\n",
       " (['AT1G79320'], 'AT4G34000'),\n",
       " (['AT2G18300'], 'AT4G34000'),\n",
       " (['AT2G24430'], 'AT4G34000'),\n",
       " (['AT2G28510'], 'AT4G34000'),\n",
       " (['AT2G40340'], 'AT4G34000'),\n",
       " (['AT2G45220'], 'AT4G34000'),\n",
       " (['AT2G45800'], 'AT4G34000'),\n",
       " (['AT3G13040'], 'AT4G34000'),\n",
       " (['AT3G23220'], 'AT4G34000'),\n",
       " (['AT3G28320'], 'AT4G34000'),\n",
       " (['AT3G57600'], 'AT4G34000'),\n",
       " (['AT3G58120'], 'AT4G34000'),\n",
       " (['AT4G14410'], 'AT4G34000'),\n",
       " (['AT4G26410'], 'AT4G34000'),\n",
       " (['AT5G08330'], 'AT4G34000'),\n",
       " (['AT5G55840'], 'AT4G34000'),\n",
       " (['AT5G58900'], 'AT4G34000'),\n",
       " (['AT1G01720'], 'AT4G34000'),\n",
       " (['AT5G43700'], 'AT4G34000'),\n",
       " (['AT3G50260'], 'AT4G34000'),\n",
       " (['AT4G17500'], 'AT4G34000'),\n",
       " (['AT5G47220'], 'AT4G34000'),\n",
       " (['AT3G23240'], 'AT4G34000'),\n",
       " (['AT1G03800'], 'AT4G34000'),\n",
       " (['AT2G31230'], 'AT4G34000'),\n",
       " (['AT4G17490'], 'AT4G34000'),\n",
       " (['AT3G06420'], 'AT4G34000'),\n",
       " (['AT5G65410'], 'AT4G34000'),\n",
       " (['AT5G65310'], 'AT4G34000'),\n",
       " (['AT1G71030'], 'AT4G34000'),\n",
       " (['AT3G15510'], 'AT4G34000'),\n",
       " (['AT1G71260'], 'AT4G34000'),\n",
       " (['AT1G04250'], 'AT4G34000'),\n",
       " (['AT2G31180'], 'AT4G34000'),\n",
       " (['AT3G23250'], 'AT4G34000'),\n",
       " (['AT4G36540'], 'AT4G34000'),\n",
       " (['AT5G04340'], 'AT4G34000'),\n",
       " (['AT1G29930'], 'AT4G34000'),\n",
       " (['AT5G05410'], 'AT4G34000'),\n",
       " (['AT5G47230'], 'AT4G34000'),\n",
       " (['AT4G36730'], 'AT4G34000'),\n",
       " (['AT4G01120'], 'AT4G34000'),\n",
       " (['AT4G34590'], 'AT4G34000'),\n",
       " (['AT1G56170'], 'AT4G34000'),\n",
       " (['AT5G25890'], 'AT4G34000'),\n",
       " (['AT5G54680'], 'AT4G34000'),\n",
       " (['AT5G13220'], 'AT4G34000'),\n",
       " (['AT1G17420'], 'AT4G34000'),\n",
       " (['AT3G06490'], 'AT4G34000'),\n",
       " (['AT1G48000'], 'AT4G34000'),\n",
       " (['AT2G47190'], 'AT4G34000'),\n",
       " (['AT3G14440'], 'AT4G34000'),\n",
       " (['AT1G75390'], 'AT4G34000'),\n",
       " (['AT3G19580'], 'AT4G34000'),\n",
       " (['AT1G50420'], 'AT4G34000'),\n",
       " (['AT3G02150'], 'AT4G34000'),\n",
       " (['AT3G15500'], 'AT4G34000'),\n",
       " (['AT3G17790'], 'AT4G34000'),\n",
       " (['AT3G48590'], 'AT4G34000'),\n",
       " (['AT4G24540'], 'AT4G34000'),\n",
       " (['AT5G53980'], 'AT4G34000'),\n",
       " (['AT2G38470'], 'AT4G34000'),\n",
       " (['AT4G13250'], 'AT4G34000'),\n",
       " (['AT5G06960'], 'AT4G34000'),\n",
       " (['AT5G61270'], 'AT4G34000'),\n",
       " (['AT3G27310'], 'AT4G34000'),\n",
       " (['AT5G13330'], 'AT4G34000'),\n",
       " (['AT1G13260'], 'AT4G34000'),\n",
       " (['AT5G59820'], 'AT4G34000'),\n",
       " (['AT1G17020'], 'AT4G34000'),\n",
       " (['AT1G27730'], 'AT4G34000'),\n",
       " (['AT1G22070'], 'AT4G34000'),\n",
       " (['AT1G80840'], 'AT4G34000'),\n",
       " (['AT4G11070'], 'AT4G34000'),\n",
       " (['AT3G01970'], 'AT4G34000'),\n",
       " (['AT4G23810'], 'AT4G34000'),\n",
       " (['AT5G08290'], 'AT4G34000'),\n",
       " (['AT2G41940'], 'AT4G34000')]"
      ]
     },
     "execution_count": 71,
     "metadata": {},
     "output_type": "execute_result"
    }
   ],
   "source": [
    "em.pset"
   ]
  },
  {
   "cell_type": "code",
   "execution_count": 72,
   "metadata": {
    "collapsed": true
   },
   "outputs": [],
   "source": [
    "em.hypers = sp.exp([-0.4139,0.0555,-0.2025])"
   ]
  },
  {
   "cell_type": "code",
   "execution_count": 73,
   "metadata": {
    "collapsed": false
   },
   "outputs": [
    {
     "data": {
      "text/plain": [
       "array([-255.90502949, -257.89435457, -253.12071982, -258.26755167,\n",
       "       -236.07950355, -252.71726611, -243.5383114 , -239.71830979,\n",
       "       -245.52635833, -240.16844542, -242.87979049, -246.72314599,\n",
       "       -238.72917114, -243.80854996, -242.6044852 , -243.20516674,\n",
       "       -242.14811032, -254.33796853, -243.56376466, -257.28375155,\n",
       "       -249.22318643, -256.24114627, -256.73293142, -241.0392226 ,\n",
       "       -256.33290448, -247.34876392, -244.90020557, -257.45894938,\n",
       "       -258.41323529, -253.21476851, -244.68893341, -252.00736468,\n",
       "       -246.75474085, -257.81323173, -246.31130545, -246.01781705,\n",
       "       -240.21908305, -239.14608149, -243.44044978, -253.07732389,\n",
       "       -239.47997266, -256.91264519, -247.36980975, -244.49161888,\n",
       "       -239.96825585, -256.72111726, -244.44905051, -259.52118207,\n",
       "       -252.91726892, -241.19448459, -245.62007245, -257.52463593,\n",
       "       -245.6483891 , -254.83990927, -238.92870412, -245.1764905 ,\n",
       "       -242.51619914, -240.87631861, -256.47796748, -248.40952316,\n",
       "       -256.87556508, -249.67708082, -248.74891742, -256.78711007,\n",
       "       -241.34477201, -239.61679925, -252.05001704, -244.06226874,\n",
       "       -242.88710107, -244.76967082, -252.745972  , -241.72306799,\n",
       "       -250.67479145, -251.73166345, -240.75572001, -243.12298734,\n",
       "       -247.37309393, -253.18301804, -256.26963466, -247.19544171,\n",
       "       -249.03876474, -247.20799419, -254.98164618, -255.10697272,\n",
       "       -241.82438076, -249.62378324, -238.45102582, -249.26825504,\n",
       "       -239.00309725, -251.7987457 , -245.71541875, -252.11511474,\n",
       "       -240.20635869, -251.61700887, -254.45935508, -239.55158365])"
      ]
     },
     "execution_count": 73,
     "metadata": {},
     "output_type": "execute_result"
    }
   ],
   "source": [
    "em.logliks()"
   ]
  },
  {
   "cell_type": "code",
   "execution_count": 75,
   "metadata": {
    "collapsed": false
   },
   "outputs": [
    {
     "data": {
      "text/plain": [
       "-624.04393471572712"
      ]
     },
     "execution_count": 75,
     "metadata": {},
     "output_type": "execute_result"
    }
   ],
   "source": [
    "loglik(X,Y,[0.0555,-0.4139,-0.2025])"
   ]
  },
  {
   "cell_type": "code",
   "execution_count": 78,
   "metadata": {
    "collapsed": false
   },
   "outputs": [],
   "source": [
    "numtemp = np.arange(len(em.logliks()))"
   ]
  },
  {
   "cell_type": "code",
   "execution_count": 80,
   "metadata": {
    "collapsed": false
   },
   "outputs": [
    {
     "data": {
      "text/plain": [
       "array([47])"
      ]
     },
     "execution_count": 80,
     "metadata": {},
     "output_type": "execute_result"
    }
   ],
   "source": [
    "numtemp[em.logliks()==np.min(em.logliks())]"
   ]
  },
  {
   "cell_type": "code",
   "execution_count": 81,
   "metadata": {
    "collapsed": true
   },
   "outputs": [],
   "source": [
    "kek = np.zeros(5)"
   ]
  },
  {
   "cell_type": "code",
   "execution_count": 82,
   "metadata": {
    "collapsed": false
   },
   "outputs": [
    {
     "data": {
      "text/plain": [
       "array([ 0.,  0.,  0.,  0.,  0.])"
      ]
     },
     "execution_count": 82,
     "metadata": {},
     "output_type": "execute_result"
    }
   ],
   "source": [
    "kek"
   ]
  },
  {
   "cell_type": "code",
   "execution_count": 88,
   "metadata": {
    "collapsed": true
   },
   "outputs": [],
   "source": [
    "kek2 = np.ones((5,1))"
   ]
  },
  {
   "cell_type": "code",
   "execution_count": 89,
   "metadata": {
    "collapsed": false
   },
   "outputs": [
    {
     "data": {
      "text/plain": [
       "array([[ 1.],\n",
       "       [ 1.],\n",
       "       [ 1.],\n",
       "       [ 1.],\n",
       "       [ 1.]])"
      ]
     },
     "execution_count": 89,
     "metadata": {},
     "output_type": "execute_result"
    }
   ],
   "source": [
    "kek2"
   ]
  },
  {
   "cell_type": "code",
   "execution_count": 90,
   "metadata": {
    "collapsed": false
   },
   "outputs": [
    {
     "data": {
      "text/plain": [
       "array([[ 0.,  0.,  0.,  0.,  0.],\n",
       "       [ 0.,  0.,  0.,  0.,  0.],\n",
       "       [ 0.,  0.,  0.,  0.,  0.],\n",
       "       [ 0.,  0.,  0.,  0.,  0.],\n",
       "       [ 0.,  0.,  0.,  0.,  0.]])"
      ]
     },
     "execution_count": 90,
     "metadata": {},
     "output_type": "execute_result"
    }
   ],
   "source": [
    "kek*kek2"
   ]
  },
  {
   "cell_type": "code",
   "execution_count": 91,
   "metadata": {
    "collapsed": false
   },
   "outputs": [
    {
     "data": {
      "text/plain": [
       "array([ 0.])"
      ]
     },
     "execution_count": 91,
     "metadata": {},
     "output_type": "execute_result"
    }
   ],
   "source": [
    "np.dot(kek,kek2)"
   ]
  },
  {
   "cell_type": "code",
   "execution_count": 92,
   "metadata": {
    "collapsed": false
   },
   "outputs": [
    {
     "data": {
      "text/plain": [
       "array([[ 0.,  0.,  0.,  0.,  0.],\n",
       "       [ 0.,  0.,  0.,  0.,  0.],\n",
       "       [ 0.,  0.,  0.,  0.,  0.],\n",
       "       [ 0.,  0.,  0.,  0.,  0.],\n",
       "       [ 0.,  0.,  0.,  0.,  0.]])"
      ]
     },
     "execution_count": 92,
     "metadata": {},
     "output_type": "execute_result"
    }
   ],
   "source": [
    "kek2*kek"
   ]
  },
  {
   "cell_type": "code",
   "execution_count": 93,
   "metadata": {
    "collapsed": false
   },
   "outputs": [
    {
     "data": {
      "text/plain": [
       "matrix([[ 7.,  0.,  0.,  0.,  0.],\n",
       "        [ 0.,  7.,  0.,  0.,  0.],\n",
       "        [ 0.,  0.,  7.,  0.,  0.],\n",
       "        [ 0.,  0.,  0.,  7.,  0.],\n",
       "        [ 0.,  0.,  0.,  0.,  7.]])"
      ]
     },
     "execution_count": 93,
     "metadata": {},
     "output_type": "execute_result"
    }
   ],
   "source": [
    "npm.eye(5)*7"
   ]
  },
  {
   "cell_type": "code",
   "execution_count": 94,
   "metadata": {
    "collapsed": false
   },
   "outputs": [
    {
     "data": {
      "text/plain": [
       "array([[ 1.],\n",
       "       [ 1.],\n",
       "       [ 1.],\n",
       "       [ 1.],\n",
       "       [ 1.]])"
      ]
     },
     "execution_count": 94,
     "metadata": {},
     "output_type": "execute_result"
    }
   ],
   "source": [
    "kek2"
   ]
  },
  {
   "cell_type": "code",
   "execution_count": 98,
   "metadata": {
    "collapsed": false
   },
   "outputs": [
    {
     "data": {
      "text/plain": [
       "25.0"
      ]
     },
     "execution_count": 98,
     "metadata": {},
     "output_type": "execute_result"
    }
   ],
   "source": [
    "np.sum(np.dot(kek2,np.transpose(kek2)))"
   ]
  },
  {
   "cell_type": "code",
   "execution_count": 99,
   "metadata": {
    "collapsed": true
   },
   "outputs": [],
   "source": [
    "import numpy.matlib as npm\n",
    "import math\n",
    "\n",
    "def loglik(X,Y,hypers):\n",
    "\t#hypers as [length, signal std, noise std] in log space\n",
    "\tthing = X / sp.exp(hypers[0])\n",
    "\tdist = np.zeros((len(Y),len(Y)))\n",
    "\tfor i in np.arange(len(Y)):\n",
    "\t\tfor j in np.arange(len(Y)):\n",
    "\t\t\tdist[i,j] = np.sum(np.square(thing[i,:]-thing[j,:]))\n",
    "\tK = sp.exp(2*hypers[1]+(-1/2)*dist)\n",
    "\tL = np.linalg.cholesky(K + sp.exp(2*hypers[2])*npm.eye(len(Y)))\n",
    "\talpha = np.linalg.solve(np.transpose(L),np.linalg.solve(L,Y))\n",
    "\tout = (-0.5)*np.dot(np.transpose(Y),alpha)-np.sum(np.eye(len(Y))*L)-(X.shape[0]/2)*np.log(2*math.pi)\n",
    "\treturn out"
   ]
  },
  {
   "cell_type": "code",
   "execution_count": 100,
   "metadata": {
    "collapsed": false
   },
   "outputs": [
    {
     "data": {
      "text/plain": [
       "-804.58984071229065"
      ]
     },
     "execution_count": 100,
     "metadata": {},
     "output_type": "execute_result"
    }
   ],
   "source": [
    "loglik(X,Y,hypers)"
   ]
  },
  {
   "cell_type": "code",
   "execution_count": 101,
   "metadata": {
    "collapsed": true
   },
   "outputs": [],
   "source": [
    "def loglik(X,Y,hypers):\n",
    "\t#hypers as [length, signal std, noise std] in log space\n",
    "\tthing = X / sp.exp(hypers[0])\n",
    "\tdist = np.zeros((len(Y),len(Y)))\n",
    "\tfor i in np.arange(len(Y)):\n",
    "\t\tfor j in np.arange(len(Y)):\n",
    "\t\t\tdist[i,j] = np.sum(np.square(thing[i,:]-thing[j,:]))\n",
    "\tK = sp.exp(2*hypers[1]+(-1/2)*dist)\n",
    "\tL = np.linalg.cholesky(K + sp.exp(2*hypers[2])*npm.eye(len(Y)))\n",
    "\talpha = np.linalg.solve(np.transpose(L),np.linalg.solve(L,Y))\n",
    "\tout = (-0.5)*np.dot(np.transpose(Y),alpha)-np.sum(np.eye(len(Y))*np.log(L))-(X.shape[0]/2)*np.log(2*math.pi)\n",
    "\treturn out"
   ]
  },
  {
   "cell_type": "code",
   "execution_count": 102,
   "metadata": {
    "collapsed": false
   },
   "outputs": [
    {
     "data": {
      "text/plain": [
       "nan"
      ]
     },
     "execution_count": 102,
     "metadata": {},
     "output_type": "execute_result"
    }
   ],
   "source": [
    "loglik(X,Y,hypers)"
   ]
  },
  {
   "cell_type": "code",
   "execution_count": 104,
   "metadata": {
    "collapsed": false
   },
   "outputs": [],
   "source": [
    "wot=np.array([[25,15,-5],[15,18,0],[-5,0,11]])"
   ]
  },
  {
   "cell_type": "code",
   "execution_count": 105,
   "metadata": {
    "collapsed": false
   },
   "outputs": [
    {
     "data": {
      "text/plain": [
       "array([[ 5.,  0.,  0.],\n",
       "       [ 3.,  3.,  0.],\n",
       "       [-1.,  1.,  3.]])"
      ]
     },
     "execution_count": 105,
     "metadata": {},
     "output_type": "execute_result"
    }
   ],
   "source": [
    "np.linalg.cholesky(wot)"
   ]
  },
  {
   "cell_type": "code",
   "execution_count": 106,
   "metadata": {
    "collapsed": false
   },
   "outputs": [
    {
     "data": {
      "text/plain": [
       "array([[25, 15, -5],\n",
       "       [15, 18,  0],\n",
       "       [-5,  0, 11]])"
      ]
     },
     "execution_count": 106,
     "metadata": {},
     "output_type": "execute_result"
    }
   ],
   "source": [
    "wot"
   ]
  },
  {
   "cell_type": "code",
   "execution_count": 107,
   "metadata": {
    "collapsed": true
   },
   "outputs": [],
   "source": [
    "Y=np.array([1,3,5])"
   ]
  },
  {
   "cell_type": "code",
   "execution_count": 108,
   "metadata": {
    "collapsed": false
   },
   "outputs": [
    {
     "data": {
      "text/plain": [
       "array([1, 3, 5])"
      ]
     },
     "execution_count": 108,
     "metadata": {},
     "output_type": "execute_result"
    }
   ],
   "source": [
    "Y"
   ]
  },
  {
   "cell_type": "code",
   "execution_count": 109,
   "metadata": {
    "collapsed": false
   },
   "outputs": [
    {
     "data": {
      "text/plain": [
       "array([1, 3, 5])"
      ]
     },
     "execution_count": 109,
     "metadata": {},
     "output_type": "execute_result"
    }
   ],
   "source": [
    "np.transpose(Y)"
   ]
  },
  {
   "cell_type": "code",
   "execution_count": 114,
   "metadata": {
    "collapsed": true
   },
   "outputs": [],
   "source": [
    "Y=X[:,0]"
   ]
  },
  {
   "cell_type": "code",
   "execution_count": 115,
   "metadata": {
    "collapsed": false
   },
   "outputs": [
    {
     "data": {
      "text/plain": [
       "array([-1.00512755, -0.90146354,  1.47698288,  0.78991964,  2.2207585 ,\n",
       "       -0.74205524, -0.69862415,  1.1052398 ,  0.132847  ,  1.36601588,\n",
       "        0.29297243,  0.48521916,  0.00667014, -0.82993173,  1.73860222,\n",
       "        1.31326415,  0.08394501, -0.47739301,  2.17763375,  0.24257377,\n",
       "        1.13335053,  1.22888769,  1.39302993, -1.00392142, -0.26721549,\n",
       "        0.1656454 , -0.09523287,  0.14825173,  0.03543933, -1.11450581,\n",
       "       -0.58581641, -0.13449733,  0.44627338, -0.2589981 ,  0.74985539,\n",
       "       -0.1667758 ,  0.95696289,  1.13200207,  0.18265187,  0.77900653,\n",
       "       -1.31101942, -0.30647343,  0.66021172,  1.46187731,  0.57554358,\n",
       "        1.069807  ,  0.97905817,  0.32556715, -1.80868844,  0.92131538,\n",
       "        2.0673161 ,  0.88286535, -0.84587228,  0.15672917,  0.39274177,\n",
       "        2.74954867,  0.56185064,  0.75602726,  0.42006771,  1.05668675,\n",
       "        0.41173727,  0.00367855, -0.9812741 , -0.63889386, -0.14835498,\n",
       "       -0.35939411,  1.40286978,  2.05120869,  1.29788442, -0.21150228,\n",
       "        0.16245607, -0.24522488, -0.22017927,  1.26945835, -1.12942284,\n",
       "        0.0155606 , -0.03413081,  1.2778573 ,  0.52789024,  0.54412108,\n",
       "        0.08915685,  1.32909041,  0.55965158, -0.02992957,  0.96288166,\n",
       "        1.05584295, -0.84338824, -1.02587459,  0.50784174,  1.23119926,\n",
       "        0.39338952,  0.4559466 ,  0.26923222, -0.36194264, -0.81031311,\n",
       "        0.0099672 , -0.10609386,  1.25083871, -0.41689148,  3.41930293,\n",
       "       -0.10379284,  0.39896008, -1.16981845, -0.28169347, -1.71937475,\n",
       "       -2.63488431, -0.34297415, -0.81801699, -0.78217637, -1.16381795,\n",
       "       -0.02269878, -0.44130754, -1.96203792, -0.82447419, -0.71958815,\n",
       "        0.8826151 , -0.17823207, -0.6146698 ,  0.39407411,  0.5918503 ,\n",
       "       -0.320822  ,  1.03900598, -0.20999011,  0.14398115,  1.88304657,\n",
       "       -0.22090014,  0.38479737, -0.64267545, -1.09233424, -2.63428485,\n",
       "       -2.2155462 , -1.36038232, -1.56826579, -1.74948247, -0.60236514,\n",
       "       -0.95485867,  1.08316541, -0.56517954, -0.45103091, -1.36124238,\n",
       "        0.04538383,  0.94318427,  0.40183105, -1.18134517, -0.61470331,\n",
       "        0.10693277,  0.19276864,  1.36712741,  1.23769414, -0.28013593,\n",
       "       -1.24300181, -1.28622065, -0.27420672, -0.52226685, -0.58362877,\n",
       "       -0.83782398, -0.85414396, -0.68529412, -1.31689084, -0.54414137,\n",
       "       -1.30659141, -1.13621939, -0.71582716,  1.68278767,  1.40359774,\n",
       "        0.0973768 , -0.09166061, -0.32210422,  0.46764971,  0.56430208,\n",
       "        0.27903874,  0.42514181, -1.30496254, -1.59920165, -0.67382395,\n",
       "       -0.5118342 , -0.34276137, -0.65926527, -0.83455492, -0.03231461,\n",
       "       -0.98821981, -0.73472289, -0.18352749, -0.87243426])"
      ]
     },
     "execution_count": 115,
     "metadata": {},
     "output_type": "execute_result"
    }
   ],
   "source": [
    "Y"
   ]
  },
  {
   "cell_type": "code",
   "execution_count": 116,
   "metadata": {
    "collapsed": true
   },
   "outputs": [],
   "source": [
    "Y.shape = (len(Y),1)"
   ]
  },
  {
   "cell_type": "code",
   "execution_count": 117,
   "metadata": {
    "collapsed": false
   },
   "outputs": [
    {
     "data": {
      "text/plain": [
       "array([[ nan]])"
      ]
     },
     "execution_count": 117,
     "metadata": {},
     "output_type": "execute_result"
    }
   ],
   "source": [
    "loglik(X,Y,hypers)"
   ]
  },
  {
   "cell_type": "code",
   "execution_count": 118,
   "metadata": {
    "collapsed": false
   },
   "outputs": [
    {
     "data": {
      "text/plain": [
       "array([[-1.00512755],\n",
       "       [-0.90146354],\n",
       "       [ 1.47698288],\n",
       "       [ 0.78991964],\n",
       "       [ 2.2207585 ],\n",
       "       [-0.74205524],\n",
       "       [-0.69862415],\n",
       "       [ 1.1052398 ],\n",
       "       [ 0.132847  ],\n",
       "       [ 1.36601588],\n",
       "       [ 0.29297243],\n",
       "       [ 0.48521916],\n",
       "       [ 0.00667014],\n",
       "       [-0.82993173],\n",
       "       [ 1.73860222],\n",
       "       [ 1.31326415],\n",
       "       [ 0.08394501],\n",
       "       [-0.47739301],\n",
       "       [ 2.17763375],\n",
       "       [ 0.24257377],\n",
       "       [ 1.13335053],\n",
       "       [ 1.22888769],\n",
       "       [ 1.39302993],\n",
       "       [-1.00392142],\n",
       "       [-0.26721549],\n",
       "       [ 0.1656454 ],\n",
       "       [-0.09523287],\n",
       "       [ 0.14825173],\n",
       "       [ 0.03543933],\n",
       "       [-1.11450581],\n",
       "       [-0.58581641],\n",
       "       [-0.13449733],\n",
       "       [ 0.44627338],\n",
       "       [-0.2589981 ],\n",
       "       [ 0.74985539],\n",
       "       [-0.1667758 ],\n",
       "       [ 0.95696289],\n",
       "       [ 1.13200207],\n",
       "       [ 0.18265187],\n",
       "       [ 0.77900653],\n",
       "       [-1.31101942],\n",
       "       [-0.30647343],\n",
       "       [ 0.66021172],\n",
       "       [ 1.46187731],\n",
       "       [ 0.57554358],\n",
       "       [ 1.069807  ],\n",
       "       [ 0.97905817],\n",
       "       [ 0.32556715],\n",
       "       [-1.80868844],\n",
       "       [ 0.92131538],\n",
       "       [ 2.0673161 ],\n",
       "       [ 0.88286535],\n",
       "       [-0.84587228],\n",
       "       [ 0.15672917],\n",
       "       [ 0.39274177],\n",
       "       [ 2.74954867],\n",
       "       [ 0.56185064],\n",
       "       [ 0.75602726],\n",
       "       [ 0.42006771],\n",
       "       [ 1.05668675],\n",
       "       [ 0.41173727],\n",
       "       [ 0.00367855],\n",
       "       [-0.9812741 ],\n",
       "       [-0.63889386],\n",
       "       [-0.14835498],\n",
       "       [-0.35939411],\n",
       "       [ 1.40286978],\n",
       "       [ 2.05120869],\n",
       "       [ 1.29788442],\n",
       "       [-0.21150228],\n",
       "       [ 0.16245607],\n",
       "       [-0.24522488],\n",
       "       [-0.22017927],\n",
       "       [ 1.26945835],\n",
       "       [-1.12942284],\n",
       "       [ 0.0155606 ],\n",
       "       [-0.03413081],\n",
       "       [ 1.2778573 ],\n",
       "       [ 0.52789024],\n",
       "       [ 0.54412108],\n",
       "       [ 0.08915685],\n",
       "       [ 1.32909041],\n",
       "       [ 0.55965158],\n",
       "       [-0.02992957],\n",
       "       [ 0.96288166],\n",
       "       [ 1.05584295],\n",
       "       [-0.84338824],\n",
       "       [-1.02587459],\n",
       "       [ 0.50784174],\n",
       "       [ 1.23119926],\n",
       "       [ 0.39338952],\n",
       "       [ 0.4559466 ],\n",
       "       [ 0.26923222],\n",
       "       [-0.36194264],\n",
       "       [-0.81031311],\n",
       "       [ 0.0099672 ],\n",
       "       [-0.10609386],\n",
       "       [ 1.25083871],\n",
       "       [-0.41689148],\n",
       "       [ 3.41930293],\n",
       "       [-0.10379284],\n",
       "       [ 0.39896008],\n",
       "       [-1.16981845],\n",
       "       [-0.28169347],\n",
       "       [-1.71937475],\n",
       "       [-2.63488431],\n",
       "       [-0.34297415],\n",
       "       [-0.81801699],\n",
       "       [-0.78217637],\n",
       "       [-1.16381795],\n",
       "       [-0.02269878],\n",
       "       [-0.44130754],\n",
       "       [-1.96203792],\n",
       "       [-0.82447419],\n",
       "       [-0.71958815],\n",
       "       [ 0.8826151 ],\n",
       "       [-0.17823207],\n",
       "       [-0.6146698 ],\n",
       "       [ 0.39407411],\n",
       "       [ 0.5918503 ],\n",
       "       [-0.320822  ],\n",
       "       [ 1.03900598],\n",
       "       [-0.20999011],\n",
       "       [ 0.14398115],\n",
       "       [ 1.88304657],\n",
       "       [-0.22090014],\n",
       "       [ 0.38479737],\n",
       "       [-0.64267545],\n",
       "       [-1.09233424],\n",
       "       [-2.63428485],\n",
       "       [-2.2155462 ],\n",
       "       [-1.36038232],\n",
       "       [-1.56826579],\n",
       "       [-1.74948247],\n",
       "       [-0.60236514],\n",
       "       [-0.95485867],\n",
       "       [ 1.08316541],\n",
       "       [-0.56517954],\n",
       "       [-0.45103091],\n",
       "       [-1.36124238],\n",
       "       [ 0.04538383],\n",
       "       [ 0.94318427],\n",
       "       [ 0.40183105],\n",
       "       [-1.18134517],\n",
       "       [-0.61470331],\n",
       "       [ 0.10693277],\n",
       "       [ 0.19276864],\n",
       "       [ 1.36712741],\n",
       "       [ 1.23769414],\n",
       "       [-0.28013593],\n",
       "       [-1.24300181],\n",
       "       [-1.28622065],\n",
       "       [-0.27420672],\n",
       "       [-0.52226685],\n",
       "       [-0.58362877],\n",
       "       [-0.83782398],\n",
       "       [-0.85414396],\n",
       "       [-0.68529412],\n",
       "       [-1.31689084],\n",
       "       [-0.54414137],\n",
       "       [-1.30659141],\n",
       "       [-1.13621939],\n",
       "       [-0.71582716],\n",
       "       [ 1.68278767],\n",
       "       [ 1.40359774],\n",
       "       [ 0.0973768 ],\n",
       "       [-0.09166061],\n",
       "       [-0.32210422],\n",
       "       [ 0.46764971],\n",
       "       [ 0.56430208],\n",
       "       [ 0.27903874],\n",
       "       [ 0.42514181],\n",
       "       [-1.30496254],\n",
       "       [-1.59920165],\n",
       "       [-0.67382395],\n",
       "       [-0.5118342 ],\n",
       "       [-0.34276137],\n",
       "       [-0.65926527],\n",
       "       [-0.83455492],\n",
       "       [-0.03231461],\n",
       "       [-0.98821981],\n",
       "       [-0.73472289],\n",
       "       [-0.18352749],\n",
       "       [-0.87243426]])"
      ]
     },
     "execution_count": 118,
     "metadata": {},
     "output_type": "execute_result"
    }
   ],
   "source": [
    "Y"
   ]
  },
  {
   "cell_type": "code",
   "execution_count": 119,
   "metadata": {
    "collapsed": true
   },
   "outputs": [],
   "source": [
    "Y=np.array([1,3,5])"
   ]
  },
  {
   "cell_type": "code",
   "execution_count": 120,
   "metadata": {
    "collapsed": true
   },
   "outputs": [],
   "source": [
    "Y.shape = (3,1)"
   ]
  },
  {
   "cell_type": "code",
   "execution_count": 121,
   "metadata": {
    "collapsed": false
   },
   "outputs": [
    {
     "data": {
      "text/plain": [
       "array([[1],\n",
       "       [3],\n",
       "       [5]])"
      ]
     },
     "execution_count": 121,
     "metadata": {},
     "output_type": "execute_result"
    }
   ],
   "source": [
    "Y"
   ]
  },
  {
   "cell_type": "code",
   "execution_count": 122,
   "metadata": {
    "collapsed": false
   },
   "outputs": [
    {
     "data": {
      "text/plain": [
       "array([[25, 15, -5],\n",
       "       [15, 18,  0],\n",
       "       [-5,  0, 11]])"
      ]
     },
     "execution_count": 122,
     "metadata": {},
     "output_type": "execute_result"
    }
   ],
   "source": [
    "L"
   ]
  },
  {
   "cell_type": "code",
   "execution_count": 127,
   "metadata": {
    "collapsed": false
   },
   "outputs": [
    {
     "data": {
      "text/plain": [
       "array([[ 0.02066612],\n",
       "       [-0.01146045],\n",
       "       [ 0.05383813]])"
      ]
     },
     "execution_count": 127,
     "metadata": {},
     "output_type": "execute_result"
    }
   ],
   "source": [
    "np.linalg.solve(wot,np.linalg.solve(np.transpose(wot),Y))"
   ]
  },
  {
   "cell_type": "code",
   "execution_count": 125,
   "metadata": {
    "collapsed": false
   },
   "outputs": [
    {
     "data": {
      "text/plain": [
       "array([[25, 15, -5],\n",
       "       [15, 18,  0],\n",
       "       [-5,  0, 11]])"
      ]
     },
     "execution_count": 125,
     "metadata": {},
     "output_type": "execute_result"
    }
   ],
   "source": [
    "L"
   ]
  },
  {
   "cell_type": "code",
   "execution_count": 126,
   "metadata": {
    "collapsed": false
   },
   "outputs": [
    {
     "data": {
      "text/plain": [
       "array([[25, 15, -5],\n",
       "       [15, 18,  0],\n",
       "       [-5,  0, 11]])"
      ]
     },
     "execution_count": 126,
     "metadata": {},
     "output_type": "execute_result"
    }
   ],
   "source": [
    "np.transpose(L)"
   ]
  },
  {
   "cell_type": "code",
   "execution_count": 128,
   "metadata": {
    "collapsed": false
   },
   "outputs": [
    {
     "data": {
      "text/plain": [
       "array([[25, 15, -5],\n",
       "       [15, 18,  0],\n",
       "       [-5,  0, 11]])"
      ]
     },
     "execution_count": 128,
     "metadata": {},
     "output_type": "execute_result"
    }
   ],
   "source": [
    "wot"
   ]
  },
  {
   "cell_type": "code",
   "execution_count": 130,
   "metadata": {
    "collapsed": false
   },
   "outputs": [],
   "source": [
    "wot = np.linalg.cholesky(L)"
   ]
  },
  {
   "cell_type": "code",
   "execution_count": 131,
   "metadata": {
    "collapsed": false
   },
   "outputs": [
    {
     "data": {
      "text/plain": [
       "array([[ 5.,  0.,  0.],\n",
       "       [ 3.,  3.,  0.],\n",
       "       [-1.,  1.,  3.]])"
      ]
     },
     "execution_count": 131,
     "metadata": {},
     "output_type": "execute_result"
    }
   ],
   "source": [
    "wot"
   ]
  },
  {
   "cell_type": "code",
   "execution_count": 133,
   "metadata": {
    "collapsed": false
   },
   "outputs": [
    {
     "data": {
      "text/plain": [
       "array([[ 0.07555556],\n",
       "       [ 0.1037037 ],\n",
       "       [ 0.48888889]])"
      ]
     },
     "execution_count": 133,
     "metadata": {},
     "output_type": "execute_result"
    }
   ],
   "source": [
    "np.linalg.solve(np.transpose(wot),np.linalg.solve(wot,Y))"
   ]
  },
  {
   "cell_type": "code",
   "execution_count": 134,
   "metadata": {
    "collapsed": false
   },
   "outputs": [
    {
     "data": {
      "text/plain": [
       "array([[25, 15, -5],\n",
       "       [15, 18,  0],\n",
       "       [-5,  0, 11]])"
      ]
     },
     "execution_count": 134,
     "metadata": {},
     "output_type": "execute_result"
    }
   ],
   "source": [
    "L"
   ]
  },
  {
   "cell_type": "code",
   "execution_count": 135,
   "metadata": {
    "collapsed": true
   },
   "outputs": [],
   "source": [
    "X=L"
   ]
  },
  {
   "cell_type": "code",
   "execution_count": 136,
   "metadata": {
    "collapsed": true
   },
   "outputs": [],
   "source": [
    "Y=X"
   ]
  },
  {
   "cell_type": "code",
   "execution_count": 137,
   "metadata": {
    "collapsed": true
   },
   "outputs": [],
   "source": [
    "\tthing = X / sp.exp(hypers[0])\n",
    "\tdist = np.zeros((len(Y),len(Y)))\n",
    "\tfor i in np.arange(len(Y)):\n",
    "\t\tfor j in np.arange(len(Y)):\n",
    "\t\t\tdist[i,j] = np.sum(np.square(thing[i,:]-thing[j,:]))"
   ]
  },
  {
   "cell_type": "code",
   "execution_count": 138,
   "metadata": {
    "collapsed": false
   },
   "outputs": [
    {
     "data": {
      "text/plain": [
       "array([[   0.        ,   93.97603472,  968.51420854],\n",
       "       [  93.97603472,    0.        ,  592.61006967],\n",
       "       [ 968.51420854,  592.61006967,    0.        ]])"
      ]
     },
     "execution_count": 138,
     "metadata": {},
     "output_type": "execute_result"
    }
   ],
   "source": [
    "dist"
   ]
  },
  {
   "cell_type": "code",
   "execution_count": 139,
   "metadata": {
    "collapsed": false
   },
   "outputs": [
    {
     "data": {
      "text/plain": [
       "array([[25, 15, -5],\n",
       "       [15, 18,  0],\n",
       "       [-5,  0, 11]])"
      ]
     },
     "execution_count": 139,
     "metadata": {},
     "output_type": "execute_result"
    }
   ],
   "source": [
    "X"
   ]
  },
  {
   "cell_type": "code",
   "execution_count": 140,
   "metadata": {
    "collapsed": true
   },
   "outputs": [],
   "source": [
    "thing = X"
   ]
  },
  {
   "cell_type": "code",
   "execution_count": 141,
   "metadata": {
    "collapsed": true
   },
   "outputs": [],
   "source": [
    "\tdist = np.zeros((len(Y),len(Y)))\n",
    "\tfor i in np.arange(len(Y)):\n",
    "\t\tfor j in np.arange(len(Y)):\n",
    "\t\t\tdist[i,j] = np.sum(np.square(thing[i,:]-thing[j,:]))"
   ]
  },
  {
   "cell_type": "code",
   "execution_count": 142,
   "metadata": {
    "collapsed": false
   },
   "outputs": [
    {
     "data": {
      "text/plain": [
       "array([[    0.,   134.,  1381.],\n",
       "       [  134.,     0.,   845.],\n",
       "       [ 1381.,   845.,     0.]])"
      ]
     },
     "execution_count": 142,
     "metadata": {},
     "output_type": "execute_result"
    }
   ],
   "source": [
    "dist"
   ]
  },
  {
   "cell_type": "code",
   "execution_count": 145,
   "metadata": {
    "collapsed": true
   },
   "outputs": [],
   "source": [
    "K = sp.exp(2*1+(-1/2)*dist)"
   ]
  },
  {
   "cell_type": "code",
   "execution_count": 146,
   "metadata": {
    "collapsed": false
   },
   "outputs": [
    {
     "data": {
      "text/plain": [
       "array([[  7.38905610e+000,   5.90009054e-029,   9.73305572e-300],\n",
       "       [  5.90009054e-029,   7.38905610e+000,   2.39425476e-183],\n",
       "       [  9.73305572e-300,   2.39425476e-183,   7.38905610e+000]])"
      ]
     },
     "execution_count": 146,
     "metadata": {},
     "output_type": "execute_result"
    }
   ],
   "source": [
    "K"
   ]
  },
  {
   "cell_type": "code",
   "execution_count": 147,
   "metadata": {
    "collapsed": false
   },
   "outputs": [
    {
     "data": {
      "text/plain": [
       "array([[    0.,   134.,  1381.],\n",
       "       [  134.,     0.,   845.],\n",
       "       [ 1381.,   845.,     0.]])"
      ]
     },
     "execution_count": 147,
     "metadata": {},
     "output_type": "execute_result"
    }
   ],
   "source": [
    "dist"
   ]
  },
  {
   "cell_type": "code",
   "execution_count": 148,
   "metadata": {
    "collapsed": true
   },
   "outputs": [],
   "source": [
    "L = np.linalg.cholesky(K + sp.exp(2*hypers[2])*npm.eye(len(Y)))"
   ]
  },
  {
   "cell_type": "code",
   "execution_count": 149,
   "metadata": {
    "collapsed": false
   },
   "outputs": [
    {
     "data": {
      "text/plain": [
       "matrix([[  2.84206057e+000,   0.00000000e+000,   0.00000000e+000],\n",
       "        [  2.07599043e-029,   2.84206057e+000,   0.00000000e+000],\n",
       "        [  3.42464754e-300,   8.42436220e-184,   2.84206057e+000]])"
      ]
     },
     "execution_count": 149,
     "metadata": {},
     "output_type": "execute_result"
    }
   ],
   "source": [
    "L"
   ]
  },
  {
   "cell_type": "code",
   "execution_count": 151,
   "metadata": {
    "collapsed": false
   },
   "outputs": [],
   "source": [
    "Y = np.array([1,3,5])"
   ]
  },
  {
   "cell_type": "code",
   "execution_count": 152,
   "metadata": {
    "collapsed": true
   },
   "outputs": [],
   "source": [
    "Y.shape = (3,1)"
   ]
  },
  {
   "cell_type": "code",
   "execution_count": 153,
   "metadata": {
    "collapsed": false
   },
   "outputs": [
    {
     "data": {
      "text/plain": [
       "array([[1],\n",
       "       [3],\n",
       "       [5]])"
      ]
     },
     "execution_count": 153,
     "metadata": {},
     "output_type": "execute_result"
    }
   ],
   "source": [
    "Y"
   ]
  },
  {
   "cell_type": "code",
   "execution_count": 157,
   "metadata": {
    "collapsed": false
   },
   "outputs": [
    {
     "data": {
      "text/plain": [
       "array([[ 0.12380362],\n",
       "       [ 0.37141086],\n",
       "       [ 0.6190181 ]])"
      ]
     },
     "execution_count": 157,
     "metadata": {},
     "output_type": "execute_result"
    }
   ],
   "source": [
    "np.linalg.solve(np.transpose(L),np.linalg.solve(L,Y))"
   ]
  },
  {
   "cell_type": "code",
   "execution_count": 158,
   "metadata": {
    "collapsed": false
   },
   "outputs": [
    {
     "data": {
      "text/plain": [
       "matrix([[  2.84206057e+000,   0.00000000e+000,   0.00000000e+000],\n",
       "        [  2.07599043e-029,   2.84206057e+000,   0.00000000e+000],\n",
       "        [  3.42464754e-300,   8.42436220e-184,   2.84206057e+000]])"
      ]
     },
     "execution_count": 158,
     "metadata": {},
     "output_type": "execute_result"
    }
   ],
   "source": [
    "L"
   ]
  },
  {
   "cell_type": "code",
   "execution_count": 159,
   "metadata": {
    "collapsed": false
   },
   "outputs": [
    {
     "data": {
      "text/plain": [
       "array([[25, 15, -5],\n",
       "       [15, 18,  0],\n",
       "       [-5,  0, 11]])"
      ]
     },
     "execution_count": 159,
     "metadata": {},
     "output_type": "execute_result"
    }
   ],
   "source": [
    "X"
   ]
  },
  {
   "cell_type": "code",
   "execution_count": 161,
   "metadata": {
    "collapsed": true
   },
   "outputs": [],
   "source": [
    "def loglik(X,Y,hypers):\n",
    "\t#hypers as [length, signal std, noise std] in log space\n",
    "\tthing = X / sp.exp(hypers[0])\n",
    "\tdist = np.zeros((len(Y),len(Y)))\n",
    "\tfor i in np.arange(len(Y)):\n",
    "\t\tfor j in np.arange(len(Y)):\n",
    "\t\t\tdist[i,j] = np.sum(np.square(thing[i,:]-thing[j,:]))\n",
    "\tK = sp.exp(2*hypers[1]+(-1/2)*dist)\n",
    "\tL = np.linalg.cholesky(K)\n",
    "\treturn (K,L)"
   ]
  },
  {
   "cell_type": "code",
   "execution_count": 165,
   "metadata": {
    "collapsed": false
   },
   "outputs": [],
   "source": [
    "(K,L)=loglik(X,Y,[0,1])"
   ]
  },
  {
   "cell_type": "code",
   "execution_count": 163,
   "metadata": {
    "collapsed": false
   },
   "outputs": [
    {
     "data": {
      "text/plain": [
       "array([0, 1, 2])"
      ]
     },
     "execution_count": 163,
     "metadata": {},
     "output_type": "execute_result"
    }
   ],
   "source": [
    "np.arange(0,3)"
   ]
  },
  {
   "cell_type": "code",
   "execution_count": 164,
   "metadata": {
    "collapsed": false
   },
   "outputs": [
    {
     "data": {
      "text/plain": [
       "array([[ 5.,  0.,  0.],\n",
       "       [ 3.,  3.,  0.],\n",
       "       [-1.,  1.,  3.]])"
      ]
     },
     "execution_count": 164,
     "metadata": {},
     "output_type": "execute_result"
    }
   ],
   "source": [
    "np.linalg.cholesky(X)"
   ]
  },
  {
   "cell_type": "code",
   "execution_count": null,
   "metadata": {
    "collapsed": true
   },
   "outputs": [],
   "source": [
    "\tfor i in np.arange(len(L)-1):\n",
    "\t\tfor j in np.arange(i+1,len(L)):\n",
    "\t\t\tL[i,j] = L[j,i]"
   ]
  }
 ],
 "metadata": {
  "kernelspec": {
   "display_name": "Python 3",
   "language": "python",
   "name": "python3"
  },
  "language_info": {
   "codemirror_mode": {
    "name": "ipython",
    "version": 3
   },
   "file_extension": ".py",
   "mimetype": "text/x-python",
   "name": "python",
   "nbconvert_exporter": "python",
   "pygments_lexer": "ipython3",
   "version": "3.4.3"
  }
 },
 "nbformat": 4,
 "nbformat_minor": 0
}
