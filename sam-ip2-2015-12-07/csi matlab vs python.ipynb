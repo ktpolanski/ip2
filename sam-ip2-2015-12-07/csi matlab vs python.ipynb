{
 "cells": [
  {
   "cell_type": "code",
   "execution_count": 1,
   "metadata": {
    "collapsed": true
   },
   "outputs": [],
   "source": [
    "%matplotlib inline"
   ]
  },
  {
   "cell_type": "code",
   "execution_count": 2,
   "metadata": {
    "collapsed": true
   },
   "outputs": [],
   "source": [
    "import scipy.io as spi\n",
    "import numpy as np\n",
    "import h5py as h5\n",
    "\n",
    "import matplotlib.pyplot as plt\n",
    "\n",
    "def hist(ys, xs=None, y0=0, axs=None):\n",
    "    if xs is None:\n",
    "        xs = range(len(ys))\n",
    "    if axs is None:\n",
    "        axs = plt.gca()\n",
    "    return axs.vlines(xs, y0, ys)"
   ]
  },
  {
   "cell_type": "code",
   "execution_count": 3,
   "metadata": {
    "collapsed": false
   },
   "outputs": [],
   "source": [
    "hdf = h5.File(\"dream-trunc3.h5\",\"r\")"
   ]
  },
  {
   "cell_type": "code",
   "execution_count": 4,
   "metadata": {
    "collapsed": false
   },
   "outputs": [],
   "source": [
    "mat = spi.loadmat(\"../CSI_GUI/Output/sams/Demo_DREAM/Network_Dataset=Demo_DREAM.mat\",\n",
    "                  squeeze_me=True, struct_as_record=False)\n",
    "Output = mat['Output']\n",
    "CSI    = Output.CSI\n",
    "\n",
    "for j,item in enumerate(CSI):\n",
    "    psets = item.Parameters.ParentalSet\n",
    "    for i,ps in enumerate(psets):\n",
    "        if isinstance(ps,int):\n",
    "            psets[i] = np.array([ps])"
   ]
  },
  {
   "cell_type": "code",
   "execution_count": 7,
   "metadata": {
    "collapsed": false
   },
   "outputs": [
    {
     "name": "stdout",
     "output_type": "stream",
     "text": [
      "genenames      : Gene1, Gene2, Gene3, Gene4, Gene5, Gene6, Gene7, Gene8, Gene9, Gene10\n",
      "myfile         : Network_Dataset=Demo_DREAM.mat\n",
      "names          : T1, T2, T3, T4, T5\n",
      "selected_genes : 1, 2, 3, 4, 5, 6, 7, 8, 9, 10\n"
     ]
    }
   ],
   "source": [
    "print(\"\"\"\\\n",
    "genenames      : {genenames}\n",
    "myfile         : {myfile}\n",
    "names          : {names}\n",
    "selected_genes : {selgen}\"\"\".format(\n",
    "        genenames=\", \".join(Output.genenames),\n",
    "        myfile=Output.myfile,\n",
    "        names=\", \".join(Output.names.tolist()),\n",
    "        selgen=\", \".join(str(i) for i in Output.selected_genes)))"
   ]
  },
  {
   "cell_type": "code",
   "execution_count": 9,
   "metadata": {
    "collapsed": false
   },
   "outputs": [
    {
     "name": "stdout",
     "output_type": "stream",
     "text": [
      "0 diff: []\n",
      "1 diff: []\n",
      "2 diff: []\n",
      "3 diff: []\n",
      "4 diff: []\n",
      "5 diff: []\n",
      "6 diff: []\n",
      "7 diff: []\n",
      "8 diff: []\n",
      "9 diff: []\n"
     ]
    }
   ],
   "source": [
    "for item in range(10):\n",
    "    ps1 = [\" \".join(str(i-1) for i in l) for l in CSI[item].Parameters.ParentalSet]\n",
    "    ps2 = [\" \".join(str(i) for i in np.sort(np.hstack([[item],ps]))) for ps in hdf[\"/{0}/parents\".format(item+1)]]\n",
    "\n",
    "    print(\"{item} diff: {diff}\".format(\n",
    "            item=item,\n",
    "            diff=repr(np.setdiff1d(ps1,ps2).tolist())))"
   ]
  },
  {
   "cell_type": "code",
   "execution_count": 10,
   "metadata": {
    "collapsed": false
   },
   "outputs": [
    {
     "name": "stdout",
     "output_type": "stream",
     "text": [
      "[ 1.84519189  0.7756069   0.30129205] - [ 0.08919124  0.70661332  0.00549028]\n",
      "[ 1.45056588  0.85018067  0.53791781] - [ 0.28588448  2.4165198   0.00575146]\n",
      "[ 1.19639188  0.79922205  0.41318194] - [ 0.09643908  0.47710933  0.00431521]\n",
      "[ 1.6294621   0.81305144  0.27237727] - [ 0.11860427  0.58959473  0.0026932 ]\n",
      "[ 1.48449319  1.14244433  0.27441474] - [ 0.09211617  0.36412334  0.00210723]\n",
      "[ 1.17647061  0.82219533  0.22681025] - [ 0.12056756  0.42940065  0.00393761]\n",
      "[ 1.61610488  1.18270018  0.21961219] - [ 0.13062678  0.42118628  0.00146173]\n",
      "[ 1.5163359   0.7475496   0.38626565] - [ 0.06457424  0.65418079  0.0062938 ]\n",
      "[ 1.41632569  0.8261986   0.35492552] - [ 0.1653016   0.62987154  0.00705772]\n",
      "[ 1.31070159  0.89322742  0.5561551 ] - [ 0.19610735  0.84265548  0.01687036]\n"
     ]
    }
   ],
   "source": [
    "for i in range(10):\n",
    "    print(\"{mat} - {py}\".format(\n",
    "            mat=str(np.exp(np.hstack([CSI[i].Parameters.lhyp.cov,CSI[i].Parameters.lhyp.lik]))),\n",
    "            py=str(hdf[\"/%i\" % (i+1)].attrs[\"hyperparams\"])))"
   ]
  },
  {
   "cell_type": "code",
   "execution_count": 11,
   "metadata": {
    "collapsed": false,
    "scrolled": true
   },
   "outputs": [
    {
     "name": "stdout",
     "output_type": "stream",
     "text": [
      "1 3 9 10   = 0.976   \n",
      "1 9 10     = 0.0178  \n",
      "1 2 9 10   = 0.00212 \n",
      "1 4 9 10   = 0.00128 \n",
      "1 3 5 9    = 0.000707\n",
      "1 2 3 9    = 0.000549\n",
      "1 7 9 10   = 0.000441\n",
      "1 3 9      = 0.000288\n",
      "1 5 9 10   = 0.000254\n",
      "1 8 9 10   = 0.000152\n",
      "1 2 5 9    = 6.23e-05\n",
      "1 3 4 9    = 5.33e-05\n",
      "1 5 9      = 2.21e-05\n",
      "1 2 9      = 1.78e-05\n",
      "1 6 9 10   = 1.56e-05\n",
      "1 3 7 9    = 9.43e-06\n",
      "1 9        = 9.18e-06\n",
      "1 4 5 9    = 5.33e-06\n",
      "1 4 9      = 5.3e-06 \n",
      "1 3 8 9    = 2.81e-06\n",
      "1 5 7 9    = 2.12e-06\n",
      "1 2 7 9    = 1.57e-06\n",
      "1 2 4 9    = 1.22e-06\n",
      "1 3 6 9    = 9.7e-07 \n",
      "1 7 9      = 8.45e-07\n",
      "1 2 8 9    = 6.97e-07\n",
      "1 2 6 9    = 6.7e-07 \n",
      "1 3 5      = 4.15e-07\n",
      "1 4 7 9    = 2.72e-07\n",
      "1 3 7 10   = 2.04e-07\n",
      "1 3 8 10   = 1.79e-07\n",
      "1 5 8 9    = 1.44e-07\n",
      "1 3 5 7    = 1.3e-07 \n",
      "1 3 4 5    = 9.34e-08\n",
      "1 2 3 10   = 7.01e-08\n",
      "1 2 3 5    = 6.42e-08\n",
      "1 5 6 9    = 5.68e-08\n",
      "1 8 9      = 5.09e-08\n",
      "1 3 5 8    = 4.35e-08\n",
      "1 2 8 10   = 2.35e-08\n",
      "1 4 8 9    = 2.32e-08\n",
      "1 6 9      = 2.31e-08\n",
      "1 3 5 6    = 2.16e-08\n",
      "1 3        = 1.07e-08\n",
      "1 3 7      = 9.07e-09\n",
      "1 4 6 9    = 8.18e-09\n",
      "1 2 3 8    = 5.46e-09\n",
      "1 3 10     = 4.77e-09\n",
      "1 2 10     = 4.56e-09\n",
      "1 7 8 9    = 4.47e-09\n",
      "1 3 4 7    = 4.27e-09\n",
      "1 3 5 10   = 3.99e-09\n",
      "1 2 7 10   = 3.04e-09\n",
      "1 2 3      = 2.85e-09\n",
      "1 2 3 7    = 2.69e-09\n",
      "1 3 4 6    = 2.5e-09 \n",
      "1 3 6 10   = 2.45e-09\n",
      "1 3 4      = 2.41e-09\n",
      "1 3 6      = 2.26e-09\n",
      "1 2 3 6    = 1.93e-09\n",
      "1 3 8      = 1.43e-09\n",
      "1 6 7 9    = 1.4e-09 \n",
      "1 2 4 10   = 1.32e-09\n",
      "1 3 4 8    = 1.28e-09\n",
      "1 3 7 8    = 1.09e-09\n",
      "1 3 6 7    = 9.85e-10\n",
      "1 2 5 10   = 8.18e-10\n",
      "1 4 7 10   = 6.42e-10\n",
      "1 6 8 9    = 4.2e-10 \n",
      "1 2 3 4    = 3.73e-10\n",
      "1 2 6 8    = 3.22e-10\n",
      "1 3 4 10   = 2.93e-10\n",
      "1 7 10     = 2.83e-10\n",
      "1 2 6 10   = 1.65e-10\n",
      "1 4 8 10   = 1.61e-10\n",
      "1 3 6 8    = 1.06e-10\n",
      "1 2 6 7    = 9.64e-11\n",
      "1 4 5 10   = 6.52e-11\n",
      "1 4 10     = 5.67e-11\n",
      "1 4 7      = 5.47e-11\n",
      "1 7 8 10   = 4.04e-11\n",
      "1 4 5 7    = 3.47e-11\n",
      "1 5 6 7    = 1.99e-11\n",
      "1 6 7 10   = 1.76e-11\n",
      "1 5 7 10   = 1.75e-11\n",
      "1 8 10     = 1.33e-11\n",
      "1 4 6 10   = 1.2e-11 \n",
      "1 4 6 7    = 1.16e-11\n",
      "1 2 5 7    = 1.12e-11\n",
      "1 2 7      = 8.37e-12\n",
      "1 5 10     = 5.55e-12\n",
      "1 2 4 7    = 4.45e-12\n",
      "1 4 5      = 3.71e-12\n",
      "1 2 4 8    = 3.03e-12\n",
      "1 2 5 8    = 3.03e-12\n",
      "1 2 7 8    = 2.75e-12\n",
      "1 6 10     = 2.5e-12 \n",
      "1 2 8      = 2.25e-12\n",
      "1 4 6 8    = 2.23e-12\n",
      "1 6 8 10   = 2.05e-12\n",
      "1 10       = 2.02e-12\n",
      "1 4 5 8    = 1.46e-12\n",
      "1 4        = 1.34e-12\n",
      "1 5 6 8    = 1.28e-12\n",
      "1 4 8      = 1.1e-12 \n",
      "1 5 6 10   = 6.46e-13\n",
      "1 5 8 10   = 4.63e-13\n",
      "1 5 7      = 3.88e-13\n",
      "1 7        = 2.7e-13 \n",
      "1 4 7 8    = 2.31e-13\n",
      "1 6 7      = 2.2e-13 \n",
      "1 2 4 5    = 1.96e-13\n",
      "1 4 5 6    = 8.3e-14 \n",
      "1 6 7 8    = 5.03e-14\n",
      "1 4 6      = 4.47e-14\n",
      "1 2 4      = 4.05e-14\n",
      "1 5 7 8    = 3.8e-14 \n",
      "1 6 8      = 2.91e-14\n",
      "1 2 5      = 1.31e-14\n",
      "1 2 4 6    = 7.75e-15\n",
      "1 7 8      = 5.99e-15\n",
      "1 5 8      = 5.96e-15\n",
      "1 2        = 4.22e-15\n",
      "1 2 5 6    = 1.02e-15\n",
      "1 5        = 8.14e-16\n",
      "1 8        = 7.84e-16\n",
      "1 2 6      = 5.06e-16\n",
      "1 5 6      = 2.11e-16\n",
      "1          = 3.52e-17\n",
      "1 6        = 2.37e-17\n"
     ]
    }
   ],
   "source": [
    "par = CSI[0].Parameters\n",
    "\n",
    "for i in np.argsort(-par.JointDist):\n",
    "    print(\"{ps:10s} = {ll:<8.3g}\".format(\n",
    "            ps=\" \".join([str(j) for j in par.ParentalSet[i]]),\n",
    "            ll=par.JointDist[i]))"
   ]
  },
  {
   "cell_type": "code",
   "execution_count": null,
   "metadata": {
    "collapsed": true
   },
   "outputs": [],
   "source": []
  },
  {
   "cell_type": "code",
   "execution_count": null,
   "metadata": {
    "collapsed": true
   },
   "outputs": [],
   "source": []
  },
  {
   "cell_type": "code",
   "execution_count": null,
   "metadata": {
    "collapsed": true
   },
   "outputs": [],
   "source": []
  },
  {
   "cell_type": "code",
   "execution_count": null,
   "metadata": {
    "collapsed": true
   },
   "outputs": [],
   "source": []
  },
  {
   "cell_type": "code",
   "execution_count": null,
   "metadata": {
    "collapsed": true
   },
   "outputs": [],
   "source": []
  },
  {
   "cell_type": "code",
   "execution_count": null,
   "metadata": {
    "collapsed": true
   },
   "outputs": [],
   "source": []
  },
  {
   "cell_type": "code",
   "execution_count": null,
   "metadata": {
    "collapsed": true
   },
   "outputs": [],
   "source": []
  },
  {
   "cell_type": "code",
   "execution_count": null,
   "metadata": {
    "collapsed": true
   },
   "outputs": [],
   "source": []
  },
  {
   "cell_type": "code",
   "execution_count": null,
   "metadata": {
    "collapsed": true
   },
   "outputs": [],
   "source": []
  },
  {
   "cell_type": "code",
   "execution_count": null,
   "metadata": {
    "collapsed": true
   },
   "outputs": [],
   "source": []
  },
  {
   "cell_type": "code",
   "execution_count": null,
   "metadata": {
    "collapsed": true
   },
   "outputs": [],
   "source": []
  },
  {
   "cell_type": "code",
   "execution_count": null,
   "metadata": {
    "collapsed": true
   },
   "outputs": [],
   "source": []
  },
  {
   "cell_type": "code",
   "execution_count": null,
   "metadata": {
    "collapsed": true
   },
   "outputs": [],
   "source": []
  },
  {
   "cell_type": "code",
   "execution_count": null,
   "metadata": {
    "collapsed": true
   },
   "outputs": [],
   "source": []
  },
  {
   "cell_type": "code",
   "execution_count": null,
   "metadata": {
    "collapsed": true
   },
   "outputs": [],
   "source": []
  },
  {
   "cell_type": "code",
   "execution_count": null,
   "metadata": {
    "collapsed": true
   },
   "outputs": [],
   "source": []
  },
  {
   "cell_type": "code",
   "execution_count": null,
   "metadata": {
    "collapsed": true
   },
   "outputs": [],
   "source": []
  },
  {
   "cell_type": "code",
   "execution_count": null,
   "metadata": {
    "collapsed": true
   },
   "outputs": [],
   "source": []
  },
  {
   "cell_type": "code",
   "execution_count": null,
   "metadata": {
    "collapsed": true
   },
   "outputs": [],
   "source": []
  },
  {
   "cell_type": "code",
   "execution_count": null,
   "metadata": {
    "collapsed": true
   },
   "outputs": [],
   "source": []
  },
  {
   "cell_type": "code",
   "execution_count": null,
   "metadata": {
    "collapsed": true
   },
   "outputs": [],
   "source": []
  },
  {
   "cell_type": "code",
   "execution_count": null,
   "metadata": {
    "collapsed": true
   },
   "outputs": [],
   "source": []
  },
  {
   "cell_type": "code",
   "execution_count": null,
   "metadata": {
    "collapsed": true
   },
   "outputs": [],
   "source": []
  },
  {
   "cell_type": "code",
   "execution_count": null,
   "metadata": {
    "collapsed": true
   },
   "outputs": [],
   "source": []
  },
  {
   "cell_type": "code",
   "execution_count": null,
   "metadata": {
    "collapsed": true
   },
   "outputs": [],
   "source": []
  },
  {
   "cell_type": "code",
   "execution_count": null,
   "metadata": {
    "collapsed": true
   },
   "outputs": [],
   "source": []
  }
 ],
 "metadata": {
  "kernelspec": {
   "display_name": "Python 3",
   "language": "python",
   "name": "python3"
  },
  "language_info": {
   "codemirror_mode": {
    "name": "ipython",
    "version": 3
   },
   "file_extension": ".py",
   "mimetype": "text/x-python",
   "name": "python",
   "nbconvert_exporter": "python",
   "pygments_lexer": "ipython3",
   "version": "3.4.3"
  }
 },
 "nbformat": 4,
 "nbformat_minor": 0
}
