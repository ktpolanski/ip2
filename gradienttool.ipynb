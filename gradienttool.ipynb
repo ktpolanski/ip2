{
 "cells": [
  {
   "cell_type": "code",
   "execution_count": null,
   "metadata": {
    "collapsed": false
   },
   "outputs": [],
   "source": [
    "%matplotlib inline\n",
    "%pwd"
   ]
  },
  {
   "cell_type": "code",
   "execution_count": null,
   "metadata": {
    "collapsed": true
   },
   "outputs": [],
   "source": [
    "import re\n",
    "\n",
    "import numpy as np\n",
    "import matplotlib.pyplot as mpl\n",
    "import seaborn as sbs\n",
    "\n",
    "import gradienttool.gradienttool as gt\n",
    "import shared.filehandling as sfh"
   ]
  },
  {
   "cell_type": "code",
   "execution_count": null,
   "metadata": {
    "collapsed": true
   },
   "outputs": [],
   "source": [
    "import contextlib\n",
    "\n",
    "@contextlib.contextmanager\n",
    "def printoptions(*args, **kwargs):\n",
    "    original = np.get_printoptions()\n",
    "    np.set_printoptions(*args, **kwargs)\n",
    "    yield \n",
    "    np.set_printoptions(**original)"
   ]
  },
  {
   "cell_type": "code",
   "execution_count": null,
   "metadata": {
    "collapsed": true
   },
   "outputs": [],
   "source": [
    "def normaliseArray(x):\n",
    "    mn = np.nanmin(x)\n",
    "    mx = np.nanmax(x)\n",
    "    return (x - mn) / (mx - mn)"
   ]
  },
  {
   "cell_type": "code",
   "execution_count": null,
   "metadata": {
    "collapsed": true
   },
   "outputs": [],
   "source": [
    "inp = sfh.readCsvNamedMatrix(open(\"gradienttool/testdata/demData.csv\"))\n",
    "\n",
    "# strip out TP from column names, convert to array and normalise so time runs from $0…1$\n",
    "t = [re.sub(\"^TP\",\"\",x) for x in inp.colnames]\n",
    "t = normaliseArray(np.asarray(t, dtype=np.float64))\n",
    "\n",
    "# \"time prime\" the times we want to predict significant gradients\n",
    "tp = np.unique(t)\n",
    "\n",
    "# need some way of getting back to non-normalised times!"
   ]
  },
  {
   "cell_type": "code",
   "execution_count": null,
   "metadata": {
    "collapsed": true
   },
   "outputs": [],
   "source": [
    "# which row of data are we working with\n",
    "index = 0"
   ]
  },
  {
   "cell_type": "code",
   "execution_count": null,
   "metadata": {
    "collapsed": false
   },
   "outputs": [],
   "source": [
    "g = gt.GradientTool(t, inp.data[index,:])\n",
    "g.setPriorRbfLengthscale(2.0, 0.2)\n",
    "g.setPriorRbfVariance(2.0, 0.5)\n",
    "g.setPriorNoiseVariance(1.5, 0.1)\n",
    "g.optimize()"
   ]
  },
  {
   "cell_type": "code",
   "execution_count": null,
   "metadata": {
    "collapsed": false
   },
   "outputs": [],
   "source": [
    "with printoptions(precision=4, edgeitems=4, suppress=True):\n",
    "    print(g.getResults())\n",
    "\n",
    "g.plot(mpl.figure())"
   ]
  }
 ],
 "metadata": {
  "kernelspec": {
   "display_name": "Python 2",
   "language": "python",
   "name": "python2"
  },
  "language_info": {
   "codemirror_mode": {
    "name": "ipython",
    "version": 2
   },
   "file_extension": ".py",
   "mimetype": "text/x-python",
   "name": "python",
   "nbconvert_exporter": "python",
   "pygments_lexer": "ipython2",
   "version": "2.7.10"
  }
 },
 "nbformat": 4,
 "nbformat_minor": 0
}
