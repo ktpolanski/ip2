{
 "cells": [
  {
   "cell_type": "code",
   "execution_count": 141,
   "metadata": {
    "collapsed": true
   },
   "outputs": [],
   "source": [
    "import h5py\n",
    "\n",
    "import itertools as it\n",
    "import numpy as np\n",
    "\n",
    "from IPython.display import display, HTML"
   ]
  },
  {
   "cell_type": "code",
   "execution_count": 138,
   "metadata": {
    "collapsed": false
   },
   "outputs": [],
   "source": [
    "dt = np.int\n",
    "data = [[1,2,3],[1,2,3,4,5]]\n",
    "data = np.array([np.array([i for i in a],dtype=dt) for a in data])\n",
    "\n",
    "with h5py.File('myfile.hdf5','w') as f:\n",
    "    h5dt = h5py.special_dtype(vlen=dt)\n",
    "    dset = f.create_dataset('vlen_int', (5,), dtype=h5dt)\n",
    "    dset[:] = np.random.rand(5,5)*10"
   ]
  },
  {
   "cell_type": "code",
   "execution_count": 139,
   "metadata": {
    "collapsed": false
   },
   "outputs": [
    {
     "data": {
      "text/plain": [
       "array([array([5, 6, 8, 3, 9]), array([0, 8, 4, 3, 7]),\n",
       "       array([0, 6, 5, 7, 0]), array([8, 8, 9, 0, 2]),\n",
       "       array([9, 0, 4, 2, 9])], dtype=object)"
      ]
     },
     "metadata": {},
     "output_type": "display_data"
    }
   ],
   "source": [
    "with h5py.File('myfile.hdf5','r') as f:\n",
    "    df = f['vlen_int']\n",
    "    display(df[:])"
   ]
  },
  {
   "cell_type": "code",
   "execution_count": 263,
   "metadata": {
    "collapsed": false
   },
   "outputs": [
    {
     "name": "stdout",
     "output_type": "stream",
     "text": [
      "{'foo': 1, 'bar': 2}\n",
      "{'foo': 1, 'bar': 2}\n"
     ]
    }
   ],
   "source": [
    "with h5py.File('myfile.hdf5','w') as f:\n",
    "    dt1 = h5py.special_dtype(enum=('i', dict(foo=1, bar=2)))\n",
    "    df = f.create_dataset('test', (2,2), dtype=dt1)\n",
    "    df[:] = np.array([[1,1],[0x100,1]])\n",
    "\n",
    "with h5py.File('myfile.hdf5','r') as f:\n",
    "    dt2 = f['test'].dtype\n",
    "\n",
    "print(h5py.check_dtype(enum=dt1))\n",
    "print(h5py.check_dtype(enum=dt2))"
   ]
  },
  {
   "cell_type": "code",
   "execution_count": 196,
   "metadata": {
    "collapsed": false
   },
   "outputs": [
    {
     "data": {
      "text/plain": [
       "{'bar': 1, 'baz': 2, 'foo': 0}"
      ]
     },
     "metadata": {},
     "output_type": "display_data"
    }
   ],
   "source": [
    "names = [\"foo\",\"bar\",\"baz\"]\n",
    "nmap = dict((n,i) for i,n in enumerate(names))\n",
    "\n",
    "dt = h5py.special_dtype(enum=(np.int32, nmap))\n",
    "\n",
    "pset = list(it.chain(([a] for a in names),\n",
    "                     (list(a) for a in it.permutations(names,2))))\n",
    "\n",
    "with h5py.File('myfile.hdf5','w') as f:\n",
    "    dtl = h5py.special_dtype(vlen=dt)\n",
    "    df = f.create_dataset('pset', (len(pset),), dtype=dt)\n",
    "    for i,p in enumerate(pset):\n",
    "        df[i,:] = [nmap[n] for n in p]\n",
    "\n",
    "display(h5py.check_dtype(enum=h5py.check_dtype(vlen=dtl)))"
   ]
  },
  {
   "cell_type": "code",
   "execution_count": 200,
   "metadata": {
    "collapsed": false
   },
   "outputs": [
    {
     "data": {
      "text/plain": [
       "array([[0, 0],\n",
       "       [1, 1],\n",
       "       [2, 2],\n",
       "       [0, 1],\n",
       "       [0, 2],\n",
       "       [1, 0],\n",
       "       [1, 2],\n",
       "       [2, 0],\n",
       "       [2, 1]], dtype=int32)"
      ]
     },
     "metadata": {},
     "output_type": "display_data"
    },
    {
     "ename": "AttributeError",
     "evalue": "'NoneType' object has no attribute 'metadata'",
     "output_type": "error",
     "traceback": [
      "\u001b[0;31m---------------------------------------------------------------------------\u001b[0m",
      "\u001b[0;31mAttributeError\u001b[0m                            Traceback (most recent call last)",
      "\u001b[0;32m<ipython-input-200-478c183e514d>\u001b[0m in \u001b[0;36m<module>\u001b[0;34m()\u001b[0m\n\u001b[1;32m      3\u001b[0m     \u001b[0mdisplay\u001b[0m\u001b[0;34m(\u001b[0m\u001b[0mdf\u001b[0m\u001b[0;34m[\u001b[0m\u001b[0;34m:\u001b[0m\u001b[0;34m]\u001b[0m\u001b[0;34m)\u001b[0m\u001b[0;34m\u001b[0m\u001b[0m\n\u001b[1;32m      4\u001b[0m \u001b[0;34m\u001b[0m\u001b[0m\n\u001b[0;32m----> 5\u001b[0;31m \u001b[0mdisplay\u001b[0m\u001b[0;34m(\u001b[0m\u001b[0mh5py\u001b[0m\u001b[0;34m.\u001b[0m\u001b[0mcheck_dtype\u001b[0m\u001b[0;34m(\u001b[0m\u001b[0menum\u001b[0m\u001b[0;34m=\u001b[0m\u001b[0mh5py\u001b[0m\u001b[0;34m.\u001b[0m\u001b[0mcheck_dtype\u001b[0m\u001b[0;34m(\u001b[0m\u001b[0mvlen\u001b[0m\u001b[0;34m=\u001b[0m\u001b[0mdf\u001b[0m\u001b[0;34m.\u001b[0m\u001b[0mdtype\u001b[0m\u001b[0;34m)\u001b[0m\u001b[0;34m)\u001b[0m\u001b[0;34m)\u001b[0m\u001b[0;34m\u001b[0m\u001b[0m\n\u001b[0m",
      "\u001b[0;32mh5py/_objects.pyx\u001b[0m in \u001b[0;36mh5py._objects.with_phil.wrapper (/Users/travis/build/MacPython/h5py-wheels/h5py/h5py/_objects.c:2458)\u001b[0;34m()\u001b[0m\n",
      "\u001b[0;32mh5py/_objects.pyx\u001b[0m in \u001b[0;36mh5py._objects.with_phil.wrapper (/Users/travis/build/MacPython/h5py-wheels/h5py/h5py/_objects.c:2415)\u001b[0;34m()\u001b[0m\n",
      "\u001b[0;32mh5py/h5t.pyx\u001b[0m in \u001b[0;36mh5py.h5t.check_dtype (/Users/travis/build/MacPython/h5py-wheels/h5py/h5py/h5t.c:16254)\u001b[0;34m()\u001b[0m\n",
      "\u001b[0;31mAttributeError\u001b[0m: 'NoneType' object has no attribute 'metadata'"
     ]
    }
   ],
   "source": [
    "with h5py.File('myfile.hdf5','r') as f:\n",
    "    df = f['pset']\n",
    "    display(df[:])\n",
    "    \n",
    "display(h5py.check_dtype(enum=h5py.check_dtype(vlen=df.dtype)))"
   ]
  }
 ],
 "metadata": {
  "kernelspec": {
   "display_name": "Python 3",
   "language": "python",
   "name": "python3"
  },
  "language_info": {
   "codemirror_mode": {
    "name": "ipython",
    "version": 3
   },
   "file_extension": ".py",
   "mimetype": "text/x-python",
   "name": "python",
   "nbconvert_exporter": "python",
   "pygments_lexer": "ipython3",
   "version": "3.4.3"
  }
 },
 "nbformat": 4,
 "nbformat_minor": 0
}
