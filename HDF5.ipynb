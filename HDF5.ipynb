{
 "cells": [
  {
   "cell_type": "code",
   "execution_count": 1,
   "metadata": {
    "collapsed": true
   },
   "outputs": [],
   "source": [
    "import h5py\n",
    "\n",
    "import itertools as it\n",
    "import numpy as np\n",
    "\n",
    "from IPython.display import display, HTML"
   ]
  },
  {
   "cell_type": "code",
   "execution_count": 2,
   "metadata": {
    "collapsed": false
   },
   "outputs": [],
   "source": [
    "dt = np.int\n",
    "data = [[1,2,3],[1,2,3,4,5]]\n",
    "data = np.array([np.array([i for i in a],dtype=dt) for a in data])\n",
    "\n",
    "with h5py.File('myfile.hdf5','w') as f:\n",
    "    h5dt = h5py.special_dtype(vlen=dt)\n",
    "    dset = f.create_dataset('vlen_int', (5,), dtype=h5dt)\n",
    "    dset[:] = np.random.rand(5,5)*10"
   ]
  },
  {
   "cell_type": "code",
   "execution_count": 3,
   "metadata": {
    "collapsed": false
   },
   "outputs": [
    {
     "data": {
      "text/plain": [
       "array([array([1, 7, 3, 9, 8]), array([6, 2, 2, 8, 4]),\n",
       "       array([4, 9, 7, 8, 5]), array([1, 6, 3, 5, 9]),\n",
       "       array([6, 6, 7, 9, 5])], dtype=object)"
      ]
     },
     "metadata": {},
     "output_type": "display_data"
    }
   ],
   "source": [
    "with h5py.File('myfile.hdf5','r') as f:\n",
    "    df = f['vlen_int']\n",
    "    display(df[:])"
   ]
  },
  {
   "cell_type": "code",
   "execution_count": 4,
   "metadata": {
    "collapsed": false
   },
   "outputs": [],
   "source": [
    "arr = [[1],[1,2]]\n",
    "\n",
    "with h5py.File('myfile.hdf5','w') as f:\n",
    "    dt1 = h5py.special_dtype(vlen=h5py.special_dtype(enum=('i', dict(foo=1, bar=2))))\n",
    "    df1 = f.create_dataset('test', (2,), dtype=dt1)\n",
    "    df1[:] = np.array(arr)\n",
    "\n",
    "with h5py.File('myfile.hdf5','r') as f:\n",
    "    df2 = f['test']\n",
    "    assert([e.tolist() for e in df2[:]] == arr)\n",
    "    assert(h5py.check_dtype(enum=h5py.check_dtype(vlen=dt1)) ==\n",
    "                     h5py.check_dtype(enum=h5py.check_dtype(vlen=df2.dtype)))\n",
    "\n",
    "\n"
   ]
  },
  {
   "cell_type": "code",
   "execution_count": 5,
   "metadata": {
    "collapsed": false
   },
   "outputs": [
    {
     "data": {
      "text/plain": [
       "{'bar': 1, 'baz': 2, 'foo': 0}"
      ]
     },
     "metadata": {},
     "output_type": "display_data"
    }
   ],
   "source": [
    "names = [\"foo\",\"bar\",\"baz\"]\n",
    "nmap = dict((n,i) for i,n in enumerate(names))\n",
    "\n",
    "dt = h5py.special_dtype(enum=(np.int32, nmap))\n",
    "\n",
    "pset = list(it.chain(([a] for a in names),\n",
    "                     (list(a) for a in it.permutations(names,2))))\n",
    "\n",
    "with h5py.File('myfile.hdf5','w') as f:\n",
    "    dtl = h5py.special_dtype(vlen=dt)\n",
    "    df = f.create_dataset('pset', (len(pset),), dtype=dtl)\n",
    "    for i,p in enumerate(pset):\n",
    "        df[i] = [nmap[n] for n in p]\n",
    "\n",
    "display(h5py.check_dtype(enum=h5py.check_dtype(vlen=dtl)))"
   ]
  },
  {
   "cell_type": "code",
   "execution_count": 6,
   "metadata": {
    "collapsed": false
   },
   "outputs": [
    {
     "data": {
      "text/plain": [
       "array([array([0], dtype=int32), array([1], dtype=int32),\n",
       "       array([2], dtype=int32), array([0, 1], dtype=int32),\n",
       "       array([0, 2], dtype=int32), array([1, 0], dtype=int32),\n",
       "       array([1, 2], dtype=int32), array([2, 0], dtype=int32),\n",
       "       array([2, 1], dtype=int32)], dtype=object)"
      ]
     },
     "metadata": {},
     "output_type": "display_data"
    },
    {
     "data": {
      "text/plain": [
       "{'bar': 1, 'baz': 2, 'foo': 0}"
      ]
     },
     "metadata": {},
     "output_type": "display_data"
    }
   ],
   "source": [
    "with h5py.File('myfile.hdf5','r') as f:\n",
    "    df = f['pset']\n",
    "    display(df[:])\n",
    "\n",
    "display(h5py.check_dtype(enum=h5py.check_dtype(vlen=df.dtype)))"
   ]
  }
 ],
 "metadata": {
  "kernelspec": {
   "display_name": "Python 3",
   "language": "python",
   "name": "python3"
  },
  "language_info": {
   "codemirror_mode": {
    "name": "ipython",
    "version": 3
   },
   "file_extension": ".py",
   "mimetype": "text/x-python",
   "name": "python",
   "nbconvert_exporter": "python",
   "pygments_lexer": "ipython3",
   "version": "3.4.3"
  }
 },
 "nbformat": 4,
 "nbformat_minor": 0
}
